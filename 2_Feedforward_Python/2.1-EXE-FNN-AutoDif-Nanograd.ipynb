{
 "cells": [
  {
   "cell_type": "markdown",
   "metadata": {
    "id": "HAva8TnYFtFu"
   },
   "source": [
    "# Contents and why we need this lab\n",
    "\n",
    "This lab is about implementing neural networks yourself before we start using other frameworks that hide some of the computation from you. It builds on the first lab, where you derived the equations for neural network forward and backward propagation and gradient descent parameter updates. \n",
    "\n",
    "All the frameworks for deep learning you will meet from now on use automatic differentiation (autodiff), so you do not have to code the backward step yourself. In this version of this lab, you will develop your own autodif implementation. We also have an optional [version](https://github.com/DeepLearningDTU/02456-deep-learning-with-PyTorch/blob/master/2_Feedforward_Python/2.2-FNN-NumPy.ipynb) of this lab where you have to code the backward pass explicitly in Numpy."
   ]
  },
  {
   "cell_type": "markdown",
   "metadata": {
    "id": "sCa7HzwpFtFy"
   },
   "source": [
    "# External sources of information\n",
    "\n",
    "1. Jupyter notebook. You can find more information about Jupyter notebooks [here](https://jupyter.org/). It will come as part of the [Anaconda](https://www.anaconda.com/) Python installation. \n",
    "2. [NumPy](https://numpy.org/). Part of Anaconda distribution.  If you already know how to program, most things about Python and NumPy can be found with Google searches.\n",
    "3. [Nanograd](https://github.com/rasmusbergpalm/nanograd) is a minimalistic version of autodiff developed by Rasmus Berg Palm that we use for our framework.\n"
   ]
  },
  {
   "cell_type": "markdown",
   "metadata": {
    "id": "1SjiIp-TFtF0"
   },
   "source": [
    "# This notebook will follow the next steps:\n",
    "\n",
    "1. Nanograd automatic differentiation framework\n",
    "2. Finite difference method\n",
    "3. Data generation\n",
    "4. Defining and initializing the network\n",
    "5. Forward pass\n",
    "6. Training loop \n",
    "7. Testing your model\n",
    "8. Further extensions"
   ]
  },
  {
   "cell_type": "markdown",
   "metadata": {
    "id": "OyXeAA-HuT7s"
   },
   "source": [
    "# Nanograd automatic differention framework"
   ]
  },
  {
   "cell_type": "markdown",
   "metadata": {
    "id": "k6UWKCLKubgA"
   },
   "source": [
    "The [Nanograd](https://github.com/rasmusbergpalm/nanograd) framework defines a class Var which both holds a value and gradient value that we can use to store the intermediate values when we apply the chain rule of differentiation."
   ]
  },
  {
   "cell_type": "code",
   "execution_count": 77,
   "metadata": {
    "id": "Jd4CoEBNzNWS"
   },
   "outputs": [],
   "source": [
    "# Copy and pasted from https://github.com/rasmusbergpalm/nanograd/blob/3a1bf9e9e724da813bfccf91a6f309abdade9f39/nanograd.py\n",
    "\n",
    "import math\n",
    "\n",
    "class Var:\n",
    "    \"\"\"\n",
    "    A variable which holds a float and enables gradient computations.\n",
    "    \"\"\"\n",
    "\n",
    "    def __init__(self, val: float, grad_fn=lambda: []):\n",
    "        assert type(val) == float\n",
    "        self.v = val\n",
    "        self.grad_fn = grad_fn\n",
    "        self.grad = 0.0\n",
    "\n",
    "    def backprop(self, bp):\n",
    "        self.grad += bp\n",
    "        for input, grad in self.grad_fn():\n",
    "            input.backprop(grad * bp)\n",
    "\n",
    "    def backward(self):\n",
    "        self.backprop(1.0)\n",
    "\n",
    "    def __add__(self: 'Var', other: 'Var') -> 'Var':\n",
    "        return Var(self.v + other.v, lambda: [(self, 1.0), (other, 1.0)])\n",
    "\n",
    "    def __mul__(self: 'Var', other: 'Var') -> 'Var':\n",
    "        return Var(self.v * other.v, lambda: [(self, other.v), (other, self.v)])\n",
    "\n",
    "    def __pow__(self, power):\n",
    "        assert type(power) in {float, int}, \"power must be float or int\"\n",
    "        return Var(self.v ** power, lambda: [(self, power * self.v ** (power - 1))])\n",
    "\n",
    "    def __neg__(self: 'Var') -> 'Var':\n",
    "        return Var(-1.0) * self\n",
    "\n",
    "    def __sub__(self: 'Var', other: 'Var') -> 'Var':\n",
    "        return self + (-other)\n",
    "\n",
    "    def __truediv__(self: 'Var', other: 'Var') -> 'Var':\n",
    "        return self * other ** -1\n",
    "\n",
    "    def __repr__(self):\n",
    "        return \"Var(v=%.4f, grad=%.4f)\" % (self.v, self.grad)\n",
    "\n",
    "    def relu(self):\n",
    "        return Var(self.v if self.v > 0.0 else 0.0, lambda: [(self, 1.0 if self.v > 0.0 else 0.0)])\n",
    "    \n",
    "    def identity(self):\n",
    "        return Var(self.v, lambda: [(self, 1.0)])\n",
    "\n",
    "    def tanh(self):\n",
    "        tanh_v = math.tanh(self.v)\n",
    "        return Var(tanh_v, lambda: [(self, 1.0 - tanh_v * tanh_v)])\n",
    "\n",
    "    def sigmoid(self):\n",
    "        sigmoid_v = 1.0 / (1.0 + math.exp(-self.v))\n",
    "        return Var(sigmoid_v, lambda: [(self, sigmoid_v * (1 - sigmoid_v))])\n",
    "\n",
    "    def exp(self):\n",
    "      return Var(exp(self.v), lambda: [(self, exp(self.v))])\n",
    "\n",
    "    def log(self):\n",
    "      return Var(log(self.v), lambda: [(self, self.v ** -1)])"
   ]
  },
  {
   "cell_type": "markdown",
   "metadata": {
    "id": "yDX67D6jzcte"
   },
   "source": [
    "A few examples illustrate how we can use this:"
   ]
  },
  {
   "cell_type": "code",
   "execution_count": 26,
   "metadata": {
    "colab": {
     "base_uri": "https://localhost:8080/"
    },
    "id": "xk6PeLc3zwPT",
    "outputId": "47e431b2-07ba-4cb1-ea21-997769641c67"
   },
   "outputs": [
    {
     "name": "stdout",
     "output_type": "stream",
     "text": [
      "Var(v=3.0000, grad=5.0000)\n",
      "Var(v=5.0000, grad=3.0000)\n",
      "Var(v=15.0000, grad=1.0000)\n"
     ]
    }
   ],
   "source": [
    "a = Var(3.0)\n",
    "b = Var(5.0)\n",
    "f = a * b\n",
    "\n",
    "f.backward()\n",
    "\n",
    "for v in [a, b, f]:\n",
    "    print(v)"
   ]
  },
  {
   "cell_type": "code",
   "execution_count": 27,
   "metadata": {
    "colab": {
     "base_uri": "https://localhost:8080/"
    },
    "id": "JmKhYgsY0g_o",
    "outputId": "06c1b1df-c33c-40d3-922a-624612a591c7"
   },
   "outputs": [
    {
     "name": "stdout",
     "output_type": "stream",
     "text": [
      "Var(v=3.0000, grad=14.0000)\n",
      "Var(v=5.0000, grad=3.0000)\n",
      "Var(v=15.0000, grad=1.0000)\n",
      "Var(v=9.0000, grad=3.0000)\n",
      "Var(v=27.0000, grad=1.0000)\n",
      "Var(v=42.0000, grad=1.0000)\n"
     ]
    }
   ],
   "source": [
    "a = Var(3.0)\n",
    "b = Var(5.0)\n",
    "c = a * b\n",
    "d = Var(9.0)\n",
    "e = a * d\n",
    "f = c + e\n",
    "\n",
    "f.backward()\n",
    "\n",
    "for v in [a, b, c, d, e, f]:\n",
    "    print(v)"
   ]
  },
  {
   "cell_type": "markdown",
   "metadata": {
    "id": "Fe3B6uEH140p"
   },
   "source": [
    "## Exercise a) What is being calculated?\n",
    "\n",
    "Explain briefly the output of the code? What is the expression we differentiate and with respect to what variables?"
   ]
  },
  {
   "cell_type": "markdown",
   "metadata": {},
   "source": [
    "#### **SOLUTION:**\n",
    "I explain it with regard to the first example:\n",
    "\n",
    "First, a and b are initalized as Var object with specific values (3.0 and 5.0 respectively).\n",
    "Next, f is (implicitly) defined as new Var object with the multiplication (see class \\__mul__) of a and b. This computes the value of the new Var object of 15.0 (self.v * other.v).\n",
    "Moreover, the lambda function returns the tuples (self.v, other) and (other, self.v). They represent the partial derivatives $\\frac{\\partial f}{\\partial a} = \\frac{\\partial a*b}{\\partial a} = b$ and $\\frac{\\partial f}{\\partial b} = \\frac{\\partial a*b}{\\partial a} = a$. The gradient with respect to self (a) is other.v (b) and with respect to other (b) is self.v (a).\n",
    "\n",
    "With regard to the second example:\n",
    "\n",
    "The expression is f = (a x b) + (a x d). Again, the gradients are calculated using the chain rule:\n",
    "\n",
    "- Gradient of f with respect to a:\n",
    "  $$\n",
    "  \\frac{\\partial f}{\\partial a} = \\frac{\\partial (a \\times b)}{\\partial a} + \\frac{\\partial (a \\times d)}{\\partial a} = b + d = 5.0 + 9.0 = 14.0\n",
    "  $$\n",
    "\n",
    "- Gradient of f with respect to b:\n",
    "  $$\n",
    "  \\frac{\\partial f}{\\partial b} = \\frac{\\partial (a \\times b)}{\\partial b} = a = 3.0\n",
    "  $$\n",
    "\n",
    "- Gradient of f with respect to c:\n",
    "  $$\n",
    "  \\frac{\\partial f}{\\partial c} = \\frac{\\partial (c + e)}{\\partial c} = 1.0\n",
    "  $$\n",
    "\n",
    "- Gradient of f with respect to d:\n",
    "  $$\n",
    "  \\frac{\\partial f}{\\partial d} = \\frac{\\partial (a \\times d)}{\\partial d} = a = 3.0\n",
    "  $$\n",
    "\n",
    "- Gradient of f with respect to e:\n",
    "  $$\n",
    "  \\frac{\\partial f}{\\partial e} = \\frac{\\partial (c + e)}{\\partial e} = 1.0\n",
    "  $$\n",
    "\n",
    "- Gradient of f with respect to f:\n",
    "  $$\n",
    "  \\frac{\\partial f}{\\partial f} = 1.0\n",
    "  $$\n",
    "\n",
    "The \\__add__ method, like the \\__mul__ method, defines a gradient function that returns tuples representing the partial derivatives. This reflects how gradients are propagated through addition and ensures that each part contributes 1.0 to the gradient, as expected."
   ]
  },
  {
   "cell_type": "markdown",
   "metadata": {
    "id": "q8_Q0t2I3Ruj"
   },
   "source": [
    "## Exercise b) How does the backward function work?\n",
    "\n",
    "You need to understand how the backward function calculates the gradients. We can use the two examples above to help with that.\n",
    "\n",
    "Go through the following four steps and answer the questions on the way:\n",
    "\n",
    "1. We represent the two expressions as graphs as shown below. Fill in the missing expressions for the different derivatives.\n",
    "\n",
    "2. In the remainder consider the first expression. Make a schematic of the data structure which is generated when we define the expression for f. \n",
    "\n",
    "3. Then execute the backward function by hand to convince yourself that it indeed calculates the gradients with respect to the variables. \n",
    "\n",
    "4. Write down the sequence of calls to backprop.\n"
   ]
  },
  {
   "cell_type": "markdown",
   "metadata": {},
   "source": [
    "\n",
    "#### **SOLUTION:**\n",
    "\n",
    "1. see graphics\n",
    "\n",
    "2. & 4. f = a x b & f = (a x b)+(a x d)\n",
    "\n",
    "  a) f.backward() is called\n",
    "\n",
    "  b) that calls self.backdrop(1) so on f itself\n",
    "\n",
    "  c) as in the multiplication of a and b we have in lamda [(varA, 5),(varB,3)] we run the forloop on that\n",
    "\n",
    "  d) We get the respective gradients out of that list than by the backdrop funtions\n",
    "\n",
    "All that is important for the calculation is that we put in the lamda list on muliplication for the instance of class a the value of b and for b the value of a. Than everything falls into place."
   ]
  },
  {
   "cell_type": "code",
   "execution_count": 28,
   "metadata": {
    "id": "idGr71jYXl26"
   },
   "outputs": [],
   "source": [
    "# import logging\n",
    "# ! pip3 install graphviz\n",
    "import graphviz\n",
    "\n",
    "#logging.basicConfig(format='[%(levelname)s@%(name)s] %(message)s', level=logging.DEBUG)\n",
    "\n",
    "#graphviz.__version__, graphviz.version()"
   ]
  },
  {
   "cell_type": "code",
   "execution_count": 29,
   "metadata": {
    "colab": {
     "base_uri": "https://localhost:8080/",
     "height": 152
    },
    "id": "KPe30Q2QXzeG",
    "outputId": "7fa002cd-a018-4dbb-ddf1-28ed5e99ee19"
   },
   "outputs": [
    {
     "data": {
      "image/svg+xml": [
       "<?xml version=\"1.0\" encoding=\"UTF-8\" standalone=\"no\"?>\n",
       "<!DOCTYPE svg PUBLIC \"-//W3C//DTD SVG 1.1//EN\"\n",
       " \"http://www.w3.org/Graphics/SVG/1.1/DTD/svg11.dtd\">\n",
       "<!-- Generated by graphviz version 12.1.1 (20240910.0053)\n",
       " -->\n",
       "<!-- Title: first expression Pages: 1 -->\n",
       "<svg width=\"160pt\" height=\"98pt\"\n",
       " viewBox=\"0.00 0.00 159.50 98.00\" xmlns=\"http://www.w3.org/2000/svg\" xmlns:xlink=\"http://www.w3.org/1999/xlink\">\n",
       "<g id=\"graph0\" class=\"graph\" transform=\"scale(1 1) rotate(0) translate(4 94)\">\n",
       "<title>first expression</title>\n",
       "<polygon fill=\"white\" stroke=\"none\" points=\"-4,4 -4,-94 155.5,-94 155.5,4 -4,4\"/>\n",
       "<!-- a -->\n",
       "<g id=\"node1\" class=\"node\">\n",
       "<title>a</title>\n",
       "<ellipse fill=\"none\" stroke=\"black\" cx=\"18\" cy=\"-72\" rx=\"18\" ry=\"18\"/>\n",
       "<text text-anchor=\"middle\" x=\"18\" y=\"-66.95\" font-family=\"Times,serif\" font-size=\"14.00\">a</text>\n",
       "</g>\n",
       "<!-- f -->\n",
       "<g id=\"node2\" class=\"node\">\n",
       "<title>f</title>\n",
       "<ellipse fill=\"none\" stroke=\"black\" cx=\"133.5\" cy=\"-45\" rx=\"18\" ry=\"18\"/>\n",
       "<text text-anchor=\"middle\" x=\"133.5\" y=\"-39.95\" font-family=\"Times,serif\" font-size=\"14.00\">f</text>\n",
       "</g>\n",
       "<!-- a&#45;&gt;f -->\n",
       "<g id=\"edge1\" class=\"edge\">\n",
       "<title>a&#45;&gt;f</title>\n",
       "<path fill=\"none\" stroke=\"black\" d=\"M35.75,-68.02C53.85,-63.71 83.01,-56.77 104.59,-51.64\"/>\n",
       "<polygon fill=\"black\" stroke=\"black\" points=\"105.29,-55.07 114.21,-49.35 103.67,-48.26 105.29,-55.07\"/>\n",
       "<text text-anchor=\"middle\" x=\"75.75\" y=\"-66.47\" font-family=\"Times,serif\" font-size=\"14.00\">df/da=5</text>\n",
       "</g>\n",
       "<!-- b -->\n",
       "<g id=\"node3\" class=\"node\">\n",
       "<title>b</title>\n",
       "<ellipse fill=\"none\" stroke=\"black\" cx=\"18\" cy=\"-18\" rx=\"18\" ry=\"18\"/>\n",
       "<text text-anchor=\"middle\" x=\"18\" y=\"-12.95\" font-family=\"Times,serif\" font-size=\"14.00\">b</text>\n",
       "</g>\n",
       "<!-- b&#45;&gt;f -->\n",
       "<g id=\"edge2\" class=\"edge\">\n",
       "<title>b&#45;&gt;f</title>\n",
       "<path fill=\"none\" stroke=\"black\" d=\"M36.29,-20.79C52.29,-23.51 76.67,-28.04 97.5,-33.5 100.11,-34.18 102.81,-34.95 105.5,-35.76\"/>\n",
       "<polygon fill=\"black\" stroke=\"black\" points=\"104.21,-39.03 114.8,-38.74 106.34,-32.36 104.21,-39.03\"/>\n",
       "<text text-anchor=\"middle\" x=\"75.75\" y=\"-36.7\" font-family=\"Times,serif\" font-size=\"14.00\">df/db=3</text>\n",
       "</g>\n",
       "</g>\n",
       "</svg>\n"
      ],
      "text/plain": [
       "<graphviz.graphs.Digraph at 0x105ac5750>"
      ]
     },
     "execution_count": 29,
     "metadata": {},
     "output_type": "execute_result"
    }
   ],
   "source": [
    "e1 = graphviz.Digraph('first expression', filename='fsm.gv')\n",
    "\n",
    "e1.attr(rankdir='LR', size='8,5')\n",
    "\n",
    "e1.attr('node', shape='circle')\n",
    "e1.edge('a', 'f', label='df/da=5')\n",
    "e1.edge('b', 'f', label='df/db=3')\n",
    "\n",
    "e1"
   ]
  },
  {
   "cell_type": "code",
   "execution_count": 30,
   "metadata": {
    "colab": {
     "base_uri": "https://localhost:8080/",
     "height": 232
    },
    "id": "0nittR-mZFeX",
    "outputId": "fa3656a3-732c-4abe-8084-98a492b0d6be"
   },
   "outputs": [
    {
     "data": {
      "image/svg+xml": [
       "<?xml version=\"1.0\" encoding=\"UTF-8\" standalone=\"no\"?>\n",
       "<!DOCTYPE svg PUBLIC \"-//W3C//DTD SVG 1.1//EN\"\n",
       " \"http://www.w3.org/Graphics/SVG/1.1/DTD/svg11.dtd\">\n",
       "<!-- Generated by graphviz version 12.1.1 (20240910.0053)\n",
       " -->\n",
       "<!-- Title: second expression Pages: 1 -->\n",
       "<svg width=\"276pt\" height=\"164pt\"\n",
       " viewBox=\"0.00 0.00 275.75 164.00\" xmlns=\"http://www.w3.org/2000/svg\" xmlns:xlink=\"http://www.w3.org/1999/xlink\">\n",
       "<g id=\"graph0\" class=\"graph\" transform=\"scale(1 1) rotate(0) translate(4 160)\">\n",
       "<title>second expression</title>\n",
       "<polygon fill=\"white\" stroke=\"none\" points=\"-4,4 -4,-160 271.75,-160 271.75,4 -4,4\"/>\n",
       "<!-- a -->\n",
       "<g id=\"node1\" class=\"node\">\n",
       "<title>a</title>\n",
       "<ellipse fill=\"none\" stroke=\"black\" cx=\"18\" cy=\"-78\" rx=\"18\" ry=\"18\"/>\n",
       "<text text-anchor=\"middle\" x=\"18\" y=\"-72.95\" font-family=\"Times,serif\" font-size=\"14.00\">a</text>\n",
       "</g>\n",
       "<!-- c -->\n",
       "<g id=\"node2\" class=\"node\">\n",
       "<title>c</title>\n",
       "<ellipse fill=\"none\" stroke=\"black\" cx=\"135\" cy=\"-105\" rx=\"18\" ry=\"18\"/>\n",
       "<text text-anchor=\"middle\" x=\"135\" y=\"-99.95\" font-family=\"Times,serif\" font-size=\"14.00\">c</text>\n",
       "</g>\n",
       "<!-- a&#45;&gt;c -->\n",
       "<g id=\"edge1\" class=\"edge\">\n",
       "<title>a&#45;&gt;c</title>\n",
       "<path fill=\"none\" stroke=\"black\" d=\"M35.97,-81.98C54.4,-86.31 84.13,-93.29 106.03,-98.43\"/>\n",
       "<polygon fill=\"black\" stroke=\"black\" points=\"104.95,-101.78 115.49,-100.65 106.55,-94.96 104.95,-101.78\"/>\n",
       "<text text-anchor=\"middle\" x=\"76.5\" y=\"-99.47\" font-family=\"Times,serif\" font-size=\"14.00\">dc/da=5</text>\n",
       "</g>\n",
       "<!-- e -->\n",
       "<g id=\"node4\" class=\"node\">\n",
       "<title>e</title>\n",
       "<ellipse fill=\"none\" stroke=\"black\" cx=\"135\" cy=\"-51\" rx=\"18\" ry=\"18\"/>\n",
       "<text text-anchor=\"middle\" x=\"135\" y=\"-45.95\" font-family=\"Times,serif\" font-size=\"14.00\">e</text>\n",
       "</g>\n",
       "<!-- a&#45;&gt;e -->\n",
       "<g id=\"edge3\" class=\"edge\">\n",
       "<title>a&#45;&gt;e</title>\n",
       "<path fill=\"none\" stroke=\"black\" d=\"M35.25,-72.19C41.12,-70.22 47.81,-68.11 54,-66.5 71.13,-62.05 90.62,-58.24 106.08,-55.52\"/>\n",
       "<polygon fill=\"black\" stroke=\"black\" points=\"106.25,-59.04 115.51,-53.91 105.07,-52.14 106.25,-59.04\"/>\n",
       "<text text-anchor=\"middle\" x=\"76.5\" y=\"-69.7\" font-family=\"Times,serif\" font-size=\"14.00\">de/da=9</text>\n",
       "</g>\n",
       "<!-- f -->\n",
       "<g id=\"node6\" class=\"node\">\n",
       "<title>f</title>\n",
       "<ellipse fill=\"none\" stroke=\"black\" cx=\"249.75\" cy=\"-78\" rx=\"18\" ry=\"18\"/>\n",
       "<text text-anchor=\"middle\" x=\"249.75\" y=\"-72.95\" font-family=\"Times,serif\" font-size=\"14.00\">f</text>\n",
       "</g>\n",
       "<!-- c&#45;&gt;f -->\n",
       "<g id=\"edge5\" class=\"edge\">\n",
       "<title>c&#45;&gt;f</title>\n",
       "<path fill=\"none\" stroke=\"black\" d=\"M152.64,-101.02C170.62,-96.71 199.59,-89.77 221.03,-84.64\"/>\n",
       "<polygon fill=\"black\" stroke=\"black\" points=\"221.66,-88.09 230.57,-82.35 220.03,-81.28 221.66,-88.09\"/>\n",
       "<text text-anchor=\"middle\" x=\"192.38\" y=\"-99.47\" font-family=\"Times,serif\" font-size=\"14.00\">df/dc=1</text>\n",
       "</g>\n",
       "<!-- b -->\n",
       "<g id=\"node3\" class=\"node\">\n",
       "<title>b</title>\n",
       "<ellipse fill=\"none\" stroke=\"black\" cx=\"18\" cy=\"-138\" rx=\"18\" ry=\"18\"/>\n",
       "<text text-anchor=\"middle\" x=\"18\" y=\"-132.95\" font-family=\"Times,serif\" font-size=\"14.00\">b</text>\n",
       "</g>\n",
       "<!-- b&#45;&gt;c -->\n",
       "<g id=\"edge2\" class=\"edge\">\n",
       "<title>b&#45;&gt;c</title>\n",
       "<path fill=\"none\" stroke=\"black\" d=\"M35.91,-133.54C52.13,-129.22 77.31,-122.39 99,-116 101.43,-115.28 103.95,-114.52 106.48,-113.75\"/>\n",
       "<polygon fill=\"black\" stroke=\"black\" points=\"107.35,-117.15 115.86,-110.83 105.27,-110.46 107.35,-117.15\"/>\n",
       "<text text-anchor=\"middle\" x=\"76.5\" y=\"-131.44\" font-family=\"Times,serif\" font-size=\"14.00\">dc/db=3</text>\n",
       "</g>\n",
       "<!-- e&#45;&gt;f -->\n",
       "<g id=\"edge6\" class=\"edge\">\n",
       "<title>e&#45;&gt;f</title>\n",
       "<path fill=\"none\" stroke=\"black\" d=\"M153.12,-53.8C168.97,-56.54 193.12,-61.07 213.75,-66.5 216.36,-67.19 219.06,-67.96 221.75,-68.77\"/>\n",
       "<polygon fill=\"black\" stroke=\"black\" points=\"220.46,-72.03 231.05,-71.74 222.59,-65.36 220.46,-72.03\"/>\n",
       "<text text-anchor=\"middle\" x=\"192.38\" y=\"-69.7\" font-family=\"Times,serif\" font-size=\"14.00\">df/de=1</text>\n",
       "</g>\n",
       "<!-- d -->\n",
       "<g id=\"node5\" class=\"node\">\n",
       "<title>d</title>\n",
       "<ellipse fill=\"none\" stroke=\"black\" cx=\"18\" cy=\"-18\" rx=\"18\" ry=\"18\"/>\n",
       "<text text-anchor=\"middle\" x=\"18\" y=\"-12.95\" font-family=\"Times,serif\" font-size=\"14.00\">d</text>\n",
       "</g>\n",
       "<!-- d&#45;&gt;e -->\n",
       "<g id=\"edge4\" class=\"edge\">\n",
       "<title>d&#45;&gt;e</title>\n",
       "<path fill=\"none\" stroke=\"black\" d=\"M36.08,-21.1C52.43,-24.26 77.69,-29.67 99,-36.5 101.8,-37.4 104.68,-38.42 107.54,-39.5\"/>\n",
       "<polygon fill=\"black\" stroke=\"black\" points=\"106.19,-42.73 116.77,-43.23 108.81,-36.24 106.19,-42.73\"/>\n",
       "<text text-anchor=\"middle\" x=\"76.5\" y=\"-39.7\" font-family=\"Times,serif\" font-size=\"14.00\">de/dd=3</text>\n",
       "</g>\n",
       "</g>\n",
       "</svg>\n"
      ],
      "text/plain": [
       "<graphviz.graphs.Digraph at 0x107941250>"
      ]
     },
     "execution_count": 30,
     "metadata": {},
     "output_type": "execute_result"
    }
   ],
   "source": [
    "e2 = graphviz.Digraph('second expression', filename='fsm.gv')\n",
    "\n",
    "e2.attr(rankdir='LR', size='8,5')\n",
    "\n",
    "e2.attr('node', shape='circle')\n",
    "e2.edge('a', 'c', label='dc/da=5')\n",
    "e2.edge('b', 'c', label='dc/db=3')\n",
    "e2.edge('a', 'e', label='de/da=9')\n",
    "e2.edge('d', 'e', label='de/dd=3')\n",
    "e2.edge('c', 'f', label='df/dc=1')\n",
    "e2.edge('e', 'f', label='df/de=1')\n",
    "\n",
    "e2"
   ]
  },
  {
   "cell_type": "markdown",
   "metadata": {
    "id": "A5oi21W4gpeM"
   },
   "source": [
    "## Exercise c) What happens if we run backward again?\n",
    "\n",
    "Try to execute the code below. Explain what happens."
   ]
  },
  {
   "cell_type": "markdown",
   "metadata": {},
   "source": [
    "#### **SOLUTION:**\n",
    "\n",
    "All Gradients double because we initialize f with 1 again. The problem is that in the first backward() call gradients are computed and stored and in the second call they are added again. This effectively doubles the original values. This happens because each variable keeps track of the gradient for every call unless explicitly cleared."
   ]
  },
  {
   "cell_type": "code",
   "execution_count": 31,
   "metadata": {
    "colab": {
     "base_uri": "https://localhost:8080/"
    },
    "id": "DCtpJyr-gyX1",
    "outputId": "d014bcfa-c9ae-49c3-d268-91cc6ca94ea5"
   },
   "outputs": [
    {
     "name": "stdout",
     "output_type": "stream",
     "text": [
      "Var(v=3.0000, grad=28.0000)\n",
      "Var(v=5.0000, grad=6.0000)\n",
      "Var(v=15.0000, grad=2.0000)\n",
      "Var(v=9.0000, grad=6.0000)\n",
      "Var(v=27.0000, grad=2.0000)\n",
      "Var(v=42.0000, grad=2.0000)\n"
     ]
    }
   ],
   "source": [
    "f.backward()\n",
    "\n",
    "for v in [a, b, c, d, e, f]:\n",
    "    print(v)"
   ]
  },
  {
   "cell_type": "markdown",
   "metadata": {
    "id": "e8bPVq2VhsP-"
   },
   "source": [
    "## Exercise d) Zero gradient\n",
    "\n",
    "We can zero the gradient by backpropagating a -1.0 as is shown in the example below. (If you have run backward multiple time then you also have to run the cell below an equal amount of times.) Explain what is going on."
   ]
  },
  {
   "cell_type": "markdown",
   "metadata": {},
   "source": [
    "#### **SOLUTION:**\n",
    "\n",
    "You are effectively canceling out the previously accumulated gradients by multiplying the backpropagated gradient with -1.0."
   ]
  },
  {
   "cell_type": "code",
   "execution_count": 33,
   "metadata": {
    "colab": {
     "base_uri": "https://localhost:8080/"
    },
    "id": "OnyPDQx9lJe0",
    "outputId": "7a125fdc-60c4-4340-a580-8b82aea5b0db"
   },
   "outputs": [
    {
     "name": "stdout",
     "output_type": "stream",
     "text": [
      "Var(v=2.0000, grad=0.0000)\n",
      "Var(v=5.0000, grad=3.0000)\n",
      "Var(v=15.0000, grad=1.0000)\n",
      "Var(v=9.0000, grad=3.0000)\n",
      "Var(v=27.0000, grad=1.0000)\n",
      "Var(v=42.0000, grad=1.0000)\n",
      "Var(v=2.0000, grad=0.0000)\n",
      "Var(v=5.0000, grad=0.0000)\n",
      "Var(v=15.0000, grad=0.0000)\n",
      "Var(v=9.0000, grad=0.0000)\n",
      "Var(v=27.0000, grad=0.0000)\n",
      "Var(v=42.0000, grad=0.0000)\n"
     ]
    }
   ],
   "source": [
    "a = Var(2.0)\n",
    "\n",
    "for v in [a, b, c, d, e, f]:\n",
    "    print(v)\n",
    "\n",
    "f.backprop(-1.0)\n",
    "\n",
    "for v in [a, b, c, d, e, f]:\n",
    "    print(v)"
   ]
  },
  {
   "cell_type": "markdown",
   "metadata": {
    "id": "U4057_ljNvWB"
   },
   "source": [
    "## Exercise e) Test correctness of derivatives with the finite difference method\n",
    "\n",
    "Write a small function that uses [the finite difference method](https://en.wikipedia.org/wiki/Finite_difference_method) to numerically test that backpropation implementation is working. In short we will use\n",
    "$$\n",
    "\\frac{\\partial f(a)}{\\partial a} \\approx \\frac{f(a+da)-f(a)}{da}\n",
    "$$\n",
    "for $da \\ll 1$.\n",
    "\n",
    "As an example, we could approximate the derivative of the function $f(a)=a^2$ in e.g. the value $a=4$ using the finite difference method. This amounts to inserting the relevant values and approximating the gradient $f'(4)$ with the fraction above. \n"
   ]
  },
  {
   "cell_type": "markdown",
   "metadata": {},
   "source": [
    "#### **SOLUTION:**"
   ]
  },
  {
   "cell_type": "code",
   "execution_count": 78,
   "metadata": {
    "colab": {
     "base_uri": "https://localhost:8080/"
    },
    "id": "9TGil92lSXDN",
    "outputId": "7ef5489b-b525-4132-ab08-0b1109c07f4d"
   },
   "outputs": [
    {
     "name": "stdout",
     "output_type": "stream",
     "text": [
      "Var(v=3.0000, grad=5.0000)\n",
      "Var(v=5.0000, grad=3.0000)\n",
      "Var(v=15.0000, grad=1.0000)\n",
      "5.000000413701855\n"
     ]
    }
   ],
   "source": [
    "# f function - try to change the code to test other types of functions as well (such as different polynomials etc.)\n",
    "def f_function(a):\n",
    "  a = Var(a)\n",
    "  b = Var(5.0)\n",
    "  f = a * b\n",
    "  f.backward()\n",
    "  return a,b,f\n",
    "\n",
    "for v in f_function(3.0):\n",
    "  print(v)\n",
    "\n",
    "# Insert your finite difference code here\n",
    "def finite_difference(a=3.0, da=1e-10):\n",
    "    \"\"\"\n",
    "    This function compute the finite difference between\n",
    "    \n",
    "    Input:\n",
    "    da:          The finite difference                           (float)\n",
    "    \n",
    "    Output:\n",
    "    finite_difference: numerical approximation to the derivative (float) \n",
    "    \"\"\"\n",
    "    \n",
    "    fa_da = f_function(a + da)[-1].v\n",
    "    fa = f_function(a)[-1].v\n",
    "\n",
    "    finite_difference = (fa_da - fa) / da\n",
    "    \n",
    "    return finite_difference\n",
    "\n",
    "print(finite_difference())"
   ]
  },
  {
   "cell_type": "markdown",
   "metadata": {
    "id": "6pZar5RKaUkg"
   },
   "source": [
    "# Create an artificial dataset to play with\n",
    "\n",
    "We create a non-linear 1d regression task. The generator supports various noise levels and it creates train, validation and test sets. You can modify it yourself if you want more or less challenging tasks."
   ]
  },
  {
   "cell_type": "code",
   "execution_count": 79,
   "metadata": {
    "id": "Y6yfMAQ8aduj"
   },
   "outputs": [],
   "source": [
    "import numpy as np\n",
    "import matplotlib.pyplot as plt\n",
    "\n",
    "np.random.seed(42)"
   ]
  },
  {
   "cell_type": "code",
   "execution_count": 80,
   "metadata": {
    "id": "4YabfD43ajNh"
   },
   "outputs": [],
   "source": [
    "def data_generator(noise=0.1, n_samples=300, D1=True):\n",
    "    # Create covariates and response variable\n",
    "    if D1:\n",
    "        X = np.linspace(-3, 3, num=n_samples).reshape(-1,1) # 1-D\n",
    "        np.random.shuffle(X)\n",
    "        y = np.random.normal((0.5*np.sin(X[:,0]*3) + X[:,0]), noise) # 1-D with trend\n",
    "    else:\n",
    "        X = np.random.multivariate_normal(np.zeros(3), noise*np.eye(3), size = n_samples) # 3-D\n",
    "        np.random.shuffle(X)    \n",
    "        y = np.sin(X[:,0]) - 5*(X[:,1]**2) + 0.5*X[:,2] # 3-D\n",
    "\n",
    "    # Stack them together vertically to split data set\n",
    "    data_set = np.vstack((X.T,y)).T\n",
    "    \n",
    "    train, validation, test = np.split(data_set, [int(0.35*n_samples), int(0.7*n_samples)], axis=0)\n",
    "    \n",
    "    # Standardization of the data, remember we do the standardization with the training set mean and standard deviation\n",
    "    train_mu = np.mean(train, axis=0)\n",
    "    train_sigma = np.std(train, axis=0)\n",
    "    \n",
    "    train = (train-train_mu)/train_sigma\n",
    "    validation = (validation-train_mu)/train_sigma\n",
    "    test = (test-train_mu)/train_sigma\n",
    "    \n",
    "    x_train, x_validation, x_test = train[:,:-1], validation[:,:-1], test[:,:-1]\n",
    "    y_train, y_validation, y_test = train[:,-1], validation[:,-1], test[:,-1]\n",
    "\n",
    "    return x_train, y_train,  x_validation, y_validation, x_test, y_test"
   ]
  },
  {
   "cell_type": "code",
   "execution_count": 81,
   "metadata": {
    "id": "u1oDngHLapIz"
   },
   "outputs": [],
   "source": [
    "D1 = True\n",
    "x_train, y_train,  x_validation, y_validation, x_test, y_test = data_generator(noise=0.5, D1=D1)"
   ]
  },
  {
   "cell_type": "code",
   "execution_count": 82,
   "metadata": {
    "colab": {
     "base_uri": "https://localhost:8080/",
     "height": 265
    },
    "id": "Ysfa3FsBavlm",
    "outputId": "399e5382-ae7d-48f6-9774-7ea4c73e7d95"
   },
   "outputs": [
    {
     "data": {
      "image/png": "[encoded data removed]",
      "text/plain": [
       "<Figure size 640x480 with 1 Axes>"
      ]
     },
     "metadata": {},
     "output_type": "display_data"
    }
   ],
   "source": [
    "if D1:\n",
    "    plt.scatter(x_train[:,0], y_train);\n",
    "    plt.scatter(x_validation[:,0], y_validation);\n",
    "    plt.scatter(x_test[:,0], y_test);\n",
    "else:\n",
    "    plt.scatter(x_train[:,1], y_train);\n",
    "    plt.scatter(x_validation[:,1], y_validation);\n",
    "    plt.scatter(x_test[:,1], y_test);\n",
    "plt.show()"
   ]
  },
  {
   "cell_type": "code",
   "execution_count": 83,
   "metadata": {
    "id": "zac2HHNlgbpm"
   },
   "outputs": [],
   "source": [
    "# convert from nparray to Var\n",
    "def nparray_to_Var(x):\n",
    "  if x.ndim==1:\n",
    "    y = [[Var(float(x[i]))] for i in range(x.shape[0])] # always work with list of list\n",
    "  else:\n",
    "    y = [[Var(float(x[i,j])) for j in range(x.shape[1])] for i in range(x.shape[0])]\n",
    "  return y\n",
    "   \n",
    "x_train = nparray_to_Var(x_train)\n",
    "y_train = nparray_to_Var(y_train)\n",
    "x_validation = nparray_to_Var(x_validation)\n",
    "y_validation = nparray_to_Var(y_validation)\n",
    "x_test = nparray_to_Var(x_test)\n",
    "y_test = nparray_to_Var(y_test)\n"
   ]
  },
  {
   "cell_type": "markdown",
   "metadata": {
    "id": "VbjrqcpVFtGe"
   },
   "source": [
    "# Defining and initializing the network\n",
    "\n",
    "The steps to create a feed forward neural network are the following:\n",
    "\n",
    "1. **Number of hidden layer and hidden units**. We have to define the number of hidden units in each layer. The number of features in X and the output dimensionality (the size of Y) are given but the numbers in between are set by the researcher. Remember that for each unit in each layer beside in the input has a bias term.\n",
    "2. **Activation functions** for each hidden layer. Each hidden layer in your list must have an activation function (it can also be the linear activation which is equivalent to identity function). The power of neural networks comes from non-linear activation functions that learn representations (features) from the data allowing us to learn from it. \n",
    "3. **Parameter initialization**. We will initialize the weights to have random values. This is done in practice by drawing pseudo random numbers from a Gaussian or uniform distribution. It turns out that for deeper models we have to be careful about how we scale the random numbers. This will be the topic of the exercise below. For now we will just use unit variance Gaussians.  \n",
    "\n",
    "In order to make life easier for ourselves we define a DenseLayer class that takes care of initialization and the forward pass. We can also extend it later with print and advanced initialization capabilities. For the latter we have introduced a Initializer class.\n",
    "\n",
    "Note that we use Sequence in the code below. A Sequence is an ordered list. This means the order we insert and access items are the same."
   ]
  },
  {
   "cell_type": "code",
   "execution_count": 84,
   "metadata": {
    "id": "ij_ieRsAt7Xt"
   },
   "outputs": [],
   "source": [
    "class Initializer:\n",
    "\n",
    "  def init_weights(self, n_in, n_out):\n",
    "    raise NotImplementedError\n",
    "\n",
    "  def init_bias(self, n_out):\n",
    "    raise NotImplementedError"
   ]
  },
  {
   "cell_type": "code",
   "execution_count": 85,
   "metadata": {
    "id": "eb18N5phuIha"
   },
   "outputs": [],
   "source": [
    "import random\n",
    "\n",
    "class NormalInitializer(Initializer):\n",
    "\n",
    "  def __init__(self, mean=0, std=0.1):\n",
    "    self.mean = mean\n",
    "    self.std = std\n",
    "\n",
    "  def init_weights(self, n_in, n_out):\n",
    "    return [[Var(random.gauss(self.mean, self.std)) for _ in range(n_out)] for _ in range(n_in)]\n",
    "\n",
    "  def init_bias(self, n_out):\n",
    "    return [Var(0.0) for _ in range(n_out)]\n",
    "\n",
    "class ConstantInitializer(Initializer):\n",
    "\n",
    "  def __init__(self, weight=1.0, bias=0.0):\n",
    "    self.weight = weight\n",
    "    self.bias = bias\n",
    "\n",
    "  def init_weights(self, n_in, n_out):\n",
    "    return [[Var(self.weight) for _ in range(n_out)] for _ in range(n_in)]\n",
    "\n",
    "  def init_bias(self, n_out):\n",
    "    return [Var(self.bias) for _ in range(n_out)]"
   ]
  },
  {
   "cell_type": "code",
   "execution_count": 86,
   "metadata": {
    "id": "jOLYGnZKuM6W"
   },
   "outputs": [],
   "source": [
    "from typing import Sequence\n",
    "\n",
    "class DenseLayer:\n",
    "    def __init__(self, n_in: int, n_out: int, act_fn, initializer = NormalInitializer()):\n",
    "        self.weights = initializer.init_weights(n_in, n_out)\n",
    "        self.bias = initializer.init_bias(n_out)\n",
    "        self.act_fn = act_fn\n",
    "    \n",
    "    def __repr__(self):    \n",
    "        return 'Weights: ' + repr(self.weights) + ' Biases: ' + repr(self.bias)\n",
    "\n",
    "    def parameters(self) -> Sequence[Var]:\n",
    "      params = []\n",
    "      for r in self.weights:\n",
    "        params += r\n",
    "\n",
    "      return params + self.bias\n",
    "\n",
    "    def forward(self, single_input: Sequence[Var]) -> Sequence[Var]:\n",
    "        # self.weights is a matrix with dimension n_in x n_out. We check that the dimensionality of the input \n",
    "        # to the current layer matches the number of nodes in the current layer\n",
    "        assert len(self.weights) == len(single_input), \"weights and single_input must match in first dimension\"\n",
    "        weights = self.weights\n",
    "        out = []\n",
    "        # For some given data point single_input, we now want to calculate the resulting value in each node in the current layer\n",
    "        # We therefore loop over the (number of) nodes in the current layer:\n",
    "        for j in range(len(weights[0])): \n",
    "            # Initialize the node value depending on its corresponding parameters.\n",
    "            node = Var(0.0) # <- Insert code\n",
    "            # We now finish the linear transformation corresponding to the parameters of the currently considered node.\n",
    "            for i in range(len(single_input)):\n",
    "                node += single_input[i] * weights[i][j]\n",
    "            node = self.act_fn(node)\n",
    "            out.append(node)\n",
    "\n",
    "        return out"
   ]
  },
  {
   "cell_type": "markdown",
   "metadata": {
    "id": "jpIZPBpNI0pO"
   },
   "source": [
    "## Exercise f) Add more activation functions\n",
    "\n",
    "To have a full definition of the neural network, we must define an activation function for every layer. Several activation functions have been proposed and have different characteristics. In the Var class we have already defined the rectified linear init (relu). \n",
    " \n",
    "Implement the following activation functions in the Var class:\n",
    "\n",
    "* Identity: $$\\mathrm{identity}(x) = x$$\n",
    "* Hyperbolic tangent: $$\\tanh(x)$$\n",
    "* Sigmoid (or logistic function): $$\\mathrm{sigmoid}(x) = \\frac{1}{1.0 + \\exp(-x ) }$$  Hint: $\\mathrm{sigmoid}'(x)= \\mathrm{sigmoid}(x)(1-\\mathrm{sigmoid}(x))$.  \n",
    "\n",
    "Hint: You can seek inspiration in the relu method in the Var class."
   ]
  },
  {
   "cell_type": "markdown",
   "metadata": {},
   "source": [
    "#### **SOLUTION:**\n",
    "\n",
    "see (adjusted) class Var in beginning"
   ]
  },
  {
   "cell_type": "markdown",
   "metadata": {
    "id": "p_8n_SKnIW2F"
   },
   "source": [
    "## Exercise g) Complete the forward pass\n",
    "\n",
    "In the code below we initialize a 1-5-1 network and pass the training set through it. *The forward method in DenseLayer is **not** complete*. It just outputs zeros right now. The method forward should perform an [affine transformation](https://en.wikipedia.org/wiki/Affine_transformation) on the input followed by an application of the activation function."
   ]
  },
  {
   "cell_type": "markdown",
   "metadata": {},
   "source": [
    "#### **SOLUTION:**\n",
    "\n",
    "see class DenseLayer"
   ]
  },
  {
   "cell_type": "code",
   "execution_count": 87,
   "metadata": {
    "colab": {
     "base_uri": "https://localhost:8080/",
     "height": 337
    },
    "id": "xDEjtePxE7Mv",
    "outputId": "753406cd-d8a1-4282-ce03-25ad959b0e11"
   },
   "outputs": [
    {
     "data": {
      "text/plain": [
       "[[Var(v=-0.0030, grad=0.0000)],\n",
       " [Var(v=-0.0061, grad=0.0000)],\n",
       " [Var(v=-0.0006, grad=0.0000)],\n",
       " [Var(v=0.0254, grad=0.0000)],\n",
       " [Var(v=-0.0045, grad=0.0000)],\n",
       " [Var(v=-0.0041, grad=0.0000)],\n",
       " [Var(v=-0.0027, grad=0.0000)],\n",
       " [Var(v=0.0061, grad=0.0000)],\n",
       " [Var(v=0.0262, grad=0.0000)],\n",
       " [Var(v=-0.0017, grad=0.0000)],\n",
       " [Var(v=-0.0047, grad=0.0000)],\n",
       " [Var(v=0.0161, grad=0.0000)],\n",
       " [Var(v=-0.0038, grad=0.0000)],\n",
       " [Var(v=0.0185, grad=0.0000)],\n",
       " [Var(v=-0.0020, grad=0.0000)],\n",
       " [Var(v=-0.0039, grad=0.0000)],\n",
       " [Var(v=-0.0072, grad=0.0000)],\n",
       " [Var(v=-0.0034, grad=0.0000)],\n",
       " [Var(v=-0.0004, grad=0.0000)],\n",
       " [Var(v=-0.0012, grad=0.0000)],\n",
       " [Var(v=0.0121, grad=0.0000)],\n",
       " [Var(v=0.0053, grad=0.0000)],\n",
       " [Var(v=-0.0053, grad=0.0000)],\n",
       " [Var(v=-0.0053, grad=0.0000)],\n",
       " [Var(v=0.0071, grad=0.0000)],\n",
       " [Var(v=0.0190, grad=0.0000)],\n",
       " [Var(v=-0.0068, grad=0.0000)],\n",
       " [Var(v=-0.0075, grad=0.0000)],\n",
       " [Var(v=-0.0008, grad=0.0000)],\n",
       " [Var(v=-0.0047, grad=0.0000)],\n",
       " [Var(v=0.0239, grad=0.0000)],\n",
       " [Var(v=-0.0011, grad=0.0000)],\n",
       " [Var(v=0.0208, grad=0.0000)],\n",
       " [Var(v=0.0225, grad=0.0000)],\n",
       " [Var(v=-0.0036, grad=0.0000)],\n",
       " [Var(v=0.0042, grad=0.0000)],\n",
       " [Var(v=0.0258, grad=0.0000)],\n",
       " [Var(v=0.0098, grad=0.0000)],\n",
       " [Var(v=0.0183, grad=0.0000)],\n",
       " [Var(v=0.0131, grad=0.0000)],\n",
       " [Var(v=0.0092, grad=0.0000)],\n",
       " [Var(v=0.0125, grad=0.0000)],\n",
       " [Var(v=-0.0070, grad=0.0000)],\n",
       " [Var(v=0.0156, grad=0.0000)],\n",
       " [Var(v=0.0123, grad=0.0000)],\n",
       " [Var(v=0.0150, grad=0.0000)],\n",
       " [Var(v=-0.0045, grad=0.0000)],\n",
       " [Var(v=-0.0043, grad=0.0000)],\n",
       " [Var(v=0.0057, grad=0.0000)],\n",
       " [Var(v=-0.0044, grad=0.0000)],\n",
       " [Var(v=-0.0019, grad=0.0000)],\n",
       " [Var(v=-0.0002, grad=0.0000)],\n",
       " [Var(v=-0.0048, grad=0.0000)],\n",
       " [Var(v=0.0127, grad=0.0000)],\n",
       " [Var(v=-0.0076, grad=0.0000)],\n",
       " [Var(v=-0.0067, grad=0.0000)],\n",
       " [Var(v=0.0084, grad=0.0000)],\n",
       " [Var(v=0.0094, grad=0.0000)],\n",
       " [Var(v=-0.0025, grad=0.0000)],\n",
       " [Var(v=0.0223, grad=0.0000)],\n",
       " [Var(v=-0.0044, grad=0.0000)],\n",
       " [Var(v=0.0158, grad=0.0000)],\n",
       " [Var(v=0.0260, grad=0.0000)],\n",
       " [Var(v=-0.0022, grad=0.0000)],\n",
       " [Var(v=-0.0016, grad=0.0000)],\n",
       " [Var(v=0.0214, grad=0.0000)],\n",
       " [Var(v=0.0229, grad=0.0000)],\n",
       " [Var(v=-0.0056, grad=0.0000)],\n",
       " [Var(v=0.0163, grad=0.0000)],\n",
       " [Var(v=-0.0022, grad=0.0000)],\n",
       " [Var(v=0.0063, grad=0.0000)],\n",
       " [Var(v=0.0028, grad=0.0000)],\n",
       " [Var(v=-0.0043, grad=0.0000)],\n",
       " [Var(v=-0.0025, grad=0.0000)],\n",
       " [Var(v=0.0022, grad=0.0000)],\n",
       " [Var(v=-0.0069, grad=0.0000)],\n",
       " [Var(v=0.0113, grad=0.0000)],\n",
       " [Var(v=0.0109, grad=0.0000)],\n",
       " [Var(v=0.0144, grad=0.0000)],\n",
       " [Var(v=-0.0071, grad=0.0000)],\n",
       " [Var(v=-0.0011, grad=0.0000)],\n",
       " [Var(v=-0.0006, grad=0.0000)],\n",
       " [Var(v=0.0235, grad=0.0000)],\n",
       " [Var(v=0.0032, grad=0.0000)],\n",
       " [Var(v=0.0119, grad=0.0000)],\n",
       " [Var(v=0.0051, grad=0.0000)],\n",
       " [Var(v=0.0044, grad=0.0000)],\n",
       " [Var(v=0.0132, grad=0.0000)],\n",
       " [Var(v=0.0243, grad=0.0000)],\n",
       " [Var(v=0.0252, grad=0.0000)],\n",
       " [Var(v=-0.0026, grad=0.0000)],\n",
       " [Var(v=0.0076, grad=0.0000)],\n",
       " [Var(v=0.0140, grad=0.0000)],\n",
       " [Var(v=-0.0040, grad=0.0000)],\n",
       " [Var(v=0.0200, grad=0.0000)],\n",
       " [Var(v=0.0241, grad=0.0000)],\n",
       " [Var(v=-0.0019, grad=0.0000)],\n",
       " [Var(v=-0.0003, grad=0.0000)],\n",
       " [Var(v=-0.0065, grad=0.0000)],\n",
       " [Var(v=0.0142, grad=0.0000)],\n",
       " [Var(v=-0.0042, grad=0.0000)],\n",
       " [Var(v=0.0138, grad=0.0000)],\n",
       " [Var(v=0.0212, grad=0.0000)],\n",
       " [Var(v=-0.0021, grad=0.0000)],\n",
       " [Var(v=-0.0060, grad=0.0000)]]"
      ]
     },
     "execution_count": 87,
     "metadata": {},
     "output_type": "execute_result"
    }
   ],
   "source": [
    "NN = [\n",
    "    DenseLayer(1, 5, lambda x: x.relu()),\n",
    "    DenseLayer(5, 1, lambda x: x.identity())\n",
    "]\n",
    "\n",
    "def forward(input, network):\n",
    "\n",
    "  def forward_single(x, network):\n",
    "    for layer in network:\n",
    "        x = layer.forward(x)\n",
    "    return x\n",
    "\n",
    "  output = [ forward_single(input[n], network) for n in range(len(input))]\n",
    "  return output\n",
    "\n",
    "forward(x_train, NN)\n"
   ]
  },
  {
   "cell_type": "markdown",
   "metadata": {
    "id": "oLrGJytZFtGm"
   },
   "source": [
    "## Exercise h) Print all network parameters\n",
    "\n",
    "Make a function that prints all the parameters of the network (weights and biases) with information about in which layer the appear. In the object oriented spirit you should introduce a method in the DenseLayer class to print the parameters of a layer. Hint: You can take inspiration from the corresponding method in Var. "
   ]
  },
  {
   "cell_type": "markdown",
   "metadata": {},
   "source": [
    "#### **SOLUTION:**"
   ]
  },
  {
   "cell_type": "code",
   "execution_count": 88,
   "metadata": {
    "id": "iac-VwYGFtGm"
   },
   "outputs": [
    {
     "name": "stdout",
     "output_type": "stream",
     "text": [
      "Layer 1\n",
      " Weights: [[Var(v=-0.1034, grad=0.0000), Var(v=-0.0866, grad=0.0000), Var(v=0.0707, grad=0.0000), Var(v=-0.0127, grad=0.0000), Var(v=-0.1648, grad=0.0000)]] Biases: [Var(v=0.0000, grad=0.0000), Var(v=0.0000, grad=0.0000), Var(v=0.0000, grad=0.0000), Var(v=0.0000, grad=0.0000), Var(v=0.0000, grad=0.0000)]\n",
      "Layer 2\n",
      " Weights: [[Var(v=0.0735, grad=0.0000)], [Var(v=0.0098, grad=0.0000)], [Var(v=-0.0593, grad=0.0000)], [Var(v=-0.0249, grad=0.0000)], [Var(v=0.0520, grad=0.0000)]] Biases: [Var(v=0.0000, grad=0.0000)]\n"
     ]
    },
    {
     "data": {
      "text/plain": [
       "[[Var(v=-0.0061, grad=0.0000)]]"
      ]
     },
     "execution_count": 88,
     "metadata": {},
     "output_type": "execute_result"
    }
   ],
   "source": [
    "def forward(input, network):\n",
    "\n",
    "  def forward_single(x, network):\n",
    "    counter = 1\n",
    "    for layer in network:\n",
    "        x = layer.forward(x)\n",
    "        print(f\"Layer {counter}\\n {layer}\")\n",
    "        counter += 1\n",
    "    return x\n",
    "\n",
    "  output = [ forward_single(input[1], network)]\n",
    "  return output\n",
    "\n",
    "forward(x_train, NN)"
   ]
  },
  {
   "cell_type": "markdown",
   "metadata": {
    "id": "_79HOAXrFtHK"
   },
   "source": [
    "## Visualization\n",
    "\n",
    "Now that we have defined our activation functions we can visualize them to see what they look like:"
   ]
  },
  {
   "cell_type": "code",
   "execution_count": 92,
   "metadata": {},
   "outputs": [
    {
     "data": {
      "text/plain": [
       "[[Var(v=0.0027, grad=0.0000)],\n",
       " [Var(v=0.0054, grad=0.0000)],\n",
       " [Var(v=0.0005, grad=0.0000)],\n",
       " [Var(v=0.0069, grad=0.0000)],\n",
       " [Var(v=0.0040, grad=0.0000)],\n",
       " [Var(v=0.0037, grad=0.0000)],\n",
       " [Var(v=0.0024, grad=0.0000)],\n",
       " [Var(v=0.0017, grad=0.0000)],\n",
       " [Var(v=0.0071, grad=0.0000)],\n",
       " [Var(v=0.0015, grad=0.0000)],\n",
       " [Var(v=0.0042, grad=0.0000)],\n",
       " [Var(v=0.0044, grad=0.0000)],\n",
       " [Var(v=0.0033, grad=0.0000)],\n",
       " [Var(v=0.0050, grad=0.0000)],\n",
       " [Var(v=0.0018, grad=0.0000)],\n",
       " [Var(v=0.0035, grad=0.0000)],\n",
       " [Var(v=0.0064, grad=0.0000)],\n",
       " [Var(v=0.0030, grad=0.0000)],\n",
       " [Var(v=0.0003, grad=0.0000)],\n",
       " [Var(v=0.0011, grad=0.0000)],\n",
       " [Var(v=0.0033, grad=0.0000)],\n",
       " [Var(v=0.0014, grad=0.0000)],\n",
       " [Var(v=0.0047, grad=0.0000)],\n",
       " [Var(v=0.0047, grad=0.0000)],\n",
       " [Var(v=0.0019, grad=0.0000)],\n",
       " [Var(v=0.0052, grad=0.0000)],\n",
       " [Var(v=0.0060, grad=0.0000)],\n",
       " [Var(v=0.0067, grad=0.0000)],\n",
       " [Var(v=0.0007, grad=0.0000)],\n",
       " [Var(v=0.0042, grad=0.0000)],\n",
       " [Var(v=0.0065, grad=0.0000)],\n",
       " [Var(v=0.0010, grad=0.0000)],\n",
       " [Var(v=0.0056, grad=0.0000)],\n",
       " [Var(v=0.0061, grad=0.0000)],\n",
       " [Var(v=0.0032, grad=0.0000)],\n",
       " [Var(v=0.0011, grad=0.0000)],\n",
       " [Var(v=0.0070, grad=0.0000)],\n",
       " [Var(v=0.0027, grad=0.0000)],\n",
       " [Var(v=0.0050, grad=0.0000)],\n",
       " [Var(v=0.0035, grad=0.0000)],\n",
       " [Var(v=0.0025, grad=0.0000)],\n",
       " [Var(v=0.0034, grad=0.0000)],\n",
       " [Var(v=0.0063, grad=0.0000)],\n",
       " [Var(v=0.0042, grad=0.0000)],\n",
       " [Var(v=0.0033, grad=0.0000)],\n",
       " [Var(v=0.0041, grad=0.0000)],\n",
       " [Var(v=0.0040, grad=0.0000)],\n",
       " [Var(v=0.0038, grad=0.0000)],\n",
       " [Var(v=0.0016, grad=0.0000)],\n",
       " [Var(v=0.0039, grad=0.0000)],\n",
       " [Var(v=0.0017, grad=0.0000)],\n",
       " [Var(v=0.0001, grad=0.0000)],\n",
       " [Var(v=0.0042, grad=0.0000)],\n",
       " [Var(v=0.0034, grad=0.0000)],\n",
       " [Var(v=0.0067, grad=0.0000)],\n",
       " [Var(v=0.0059, grad=0.0000)],\n",
       " [Var(v=0.0023, grad=0.0000)],\n",
       " [Var(v=0.0025, grad=0.0000)],\n",
       " [Var(v=0.0022, grad=0.0000)],\n",
       " [Var(v=0.0061, grad=0.0000)],\n",
       " [Var(v=0.0039, grad=0.0000)],\n",
       " [Var(v=0.0043, grad=0.0000)],\n",
       " [Var(v=0.0071, grad=0.0000)],\n",
       " [Var(v=0.0019, grad=0.0000)],\n",
       " [Var(v=0.0014, grad=0.0000)],\n",
       " [Var(v=0.0058, grad=0.0000)],\n",
       " [Var(v=0.0062, grad=0.0000)],\n",
       " [Var(v=0.0050, grad=0.0000)],\n",
       " [Var(v=0.0044, grad=0.0000)],\n",
       " [Var(v=0.0020, grad=0.0000)],\n",
       " [Var(v=0.0017, grad=0.0000)],\n",
       " [Var(v=0.0008, grad=0.0000)],\n",
       " [Var(v=0.0039, grad=0.0000)],\n",
       " [Var(v=0.0023, grad=0.0000)],\n",
       " [Var(v=0.0006, grad=0.0000)],\n",
       " [Var(v=0.0061, grad=0.0000)],\n",
       " [Var(v=0.0031, grad=0.0000)],\n",
       " [Var(v=0.0030, grad=0.0000)],\n",
       " [Var(v=0.0039, grad=0.0000)],\n",
       " [Var(v=0.0063, grad=0.0000)],\n",
       " [Var(v=0.0010, grad=0.0000)],\n",
       " [Var(v=0.0006, grad=0.0000)],\n",
       " [Var(v=0.0064, grad=0.0000)],\n",
       " [Var(v=0.0009, grad=0.0000)],\n",
       " [Var(v=0.0032, grad=0.0000)],\n",
       " [Var(v=0.0014, grad=0.0000)],\n",
       " [Var(v=0.0012, grad=0.0000)],\n",
       " [Var(v=0.0036, grad=0.0000)],\n",
       " [Var(v=0.0066, grad=0.0000)],\n",
       " [Var(v=0.0068, grad=0.0000)],\n",
       " [Var(v=0.0023, grad=0.0000)],\n",
       " [Var(v=0.0021, grad=0.0000)],\n",
       " [Var(v=0.0038, grad=0.0000)],\n",
       " [Var(v=0.0036, grad=0.0000)],\n",
       " [Var(v=0.0054, grad=0.0000)],\n",
       " [Var(v=0.0065, grad=0.0000)],\n",
       " [Var(v=0.0017, grad=0.0000)],\n",
       " [Var(v=0.0003, grad=0.0000)],\n",
       " [Var(v=0.0057, grad=0.0000)],\n",
       " [Var(v=0.0039, grad=0.0000)],\n",
       " [Var(v=0.0038, grad=0.0000)],\n",
       " [Var(v=0.0038, grad=0.0000)],\n",
       " [Var(v=0.0057, grad=0.0000)],\n",
       " [Var(v=0.0018, grad=0.0000)],\n",
       " [Var(v=0.0054, grad=0.0000)]]"
      ]
     },
     "execution_count": 92,
     "metadata": {},
     "output_type": "execute_result"
    }
   ],
   "source": [
    "NN = [\n",
    "    DenseLayer(1, 5, lambda x: x.relu()),\n",
    "    DenseLayer(5, 1, lambda x: x.identity())\n",
    "]\n",
    "\n",
    "def forward(input, network):\n",
    "\n",
    "  def forward_single(x, network):\n",
    "    for layer in network:\n",
    "        x = layer.forward(x)\n",
    "\n",
    "    return x\n",
    "\n",
    "  output = [ forward_single(input[n], network) for n in range(len(input))]\n",
    "  return output\n",
    "\n",
    "forward(x_train, NN)"
   ]
  },
  {
   "cell_type": "code",
   "execution_count": 93,
   "metadata": {
    "id": "1FcylHqLTl-Z"
   },
   "outputs": [
    {
     "name": "stdout",
     "output_type": "stream",
     "text": [
      "Shape of x: (100,)\n",
      "Shape of y: (100, 1)\n"
     ]
    },
    {
     "data": {
      "text/plain": [
       "[<matplotlib.lines.Line2D at 0x126b1dd90>]"
      ]
     },
     "execution_count": 93,
     "metadata": {},
     "output_type": "execute_result"
    },
    {
     "data": {
      "image/png": "[encoded data removed]",
      "text/plain": [
       "<Figure size 640x480 with 1 Axes>"
      ]
     },
     "metadata": {},
     "output_type": "display_data"
    }
   ],
   "source": [
    "x = np.linspace(-6, 6, 100)\n",
    "\n",
    "# convert from Var to ndarray  \n",
    "def Var_to_nparray(x):\n",
    "  y = np.zeros((len(x),len(x[0])))\n",
    "  for i in range(len(x)):\n",
    "    for j in range(len(x[0])):\n",
    "      y[i,j] = x[i][j].v\n",
    "  return y\n",
    "\n",
    "# define 1-1 network with weight = 1 and relu activation \n",
    "NN = [ DenseLayer(1, 1, lambda x: x.relu(), initializer = ConstantInitializer(1.0)) ] \n",
    "y = Var_to_nparray(forward(nparray_to_Var(x), NN))\n",
    "print(\"Shape of x:\", x.shape)\n",
    "print(\"Shape of y:\", y.shape)\n",
    "\n",
    "\n",
    "#y = Var_to_nparray(relu(nparray_to_Var(x)))\n",
    "plt.plot(x,y)"
   ]
  },
  {
   "cell_type": "code",
   "execution_count": 94,
   "metadata": {
    "id": "oOL2UolJFtHL"
   },
   "outputs": [
    {
     "data": {
      "image/png": "[encoded data removed]",
      "text/plain": [
       "<Figure size 500x500 with 1 Axes>"
      ]
     },
     "metadata": {},
     "output_type": "display_data"
    }
   ],
   "source": [
    "# Testing all activation layers\n",
    "\n",
    "x = np.linspace(-6, 6, 100)\n",
    "units = {\n",
    "    \"identity\": lambda x: x.identity(),\n",
    "    \"sigmoid\": lambda x: x.sigmoid(),\n",
    "    \"relu\": lambda x: x.relu(),\n",
    "    \"tanh\": lambda x: x.tanh()\n",
    "}\n",
    "\n",
    "plt.figure(figsize=(5, 5))\n",
    "[plt.plot(x, Var_to_nparray(forward(nparray_to_Var(x), [DenseLayer(1, 1, unit, initializer = ConstantInitializer(1.0))]) ), label=unit_name, lw=2) for unit_name, unit in units.items()] # unit(nparray_to_Var(x))), label=unit_name, lw=2) for unit_name, unit in units.items()]\n",
    "plt.legend(loc=2, fontsize=16)\n",
    "plt.title('Our activation functions', fontsize=20)\n",
    "plt.ylim([-2, 5])\n",
    "plt.xlim([-6, 6])\n",
    "plt.show()"
   ]
  },
  {
   "cell_type": "markdown",
   "metadata": {
    "id": "b-jdEl-7FtGs"
   },
   "source": [
    "# Advanced initialization schemes\n",
    "\n",
    "If we are not careful with initialization, the signals we propagate forward ($a^{(l)}$, $l=1,\\ldots,L$) and backward ($\\delta^l$, $l=L,L-1,\\ldots,1$) can blow up or shrink to zero. A statistical analysis of the variance of the signals for different activation functions can be found in these two papers: [Glorot initialization](http://proceedings.mlr.press/v9/glorot10a/glorot10a.pdf) and [He initialization](https://arxiv.org/pdf/1502.01852v1.pdf). \n",
    "\n",
    "The result of the analyses are proposals for how to make the initialization such that the variance of the signals (forward and backward) are kept approxmimatly constant when propagating from layer to layer. The exact expressions depend upon the non-linear activation function used. In Glorot initialization, the aim is to keep both the forward and backward variances constant whereas He only aims at keeping the variance in the forward pass constant.\n",
    "\n",
    "We define $n_{in}$ and $n_{out}$ as the number of input units and output units of a particular layer. \n",
    "\n",
    "The Glorot initialization has the form: \n",
    "\n",
    "$$w_{ij} \\sim N \\bigg( 0, \\, \\frac{2 \\alpha }{n_{in} + n_{out}} \\bigg) \\ . $$\n",
    "\n",
    "where $N(\\mu,\\sigma^2)$ is a Gaussian distribution with mean $\\mu$ and variance $\\sigma^2$ and $\\alpha$ is a parameter that depends upon the activation function used. For $\\tanh$, $\\alpha=1$ and for Rectified Linear Unit (ReLU) activations, $\\alpha=2$. (It is also possible to use a uniform distribution for initialization, see [this blog post](https://mmuratarat.github.io/2019-02-25/xavier-glorot-he-weight-init).) \n",
    "\n",
    "The He initialization is very similar\n",
    "\n",
    "$$w_{ij} \\sim N \\bigg( 0, \\, \\frac{\\alpha}{n_{in}} \\bigg) \\ . $$"
   ]
  },
  {
   "cell_type": "markdown",
   "metadata": {
    "id": "mqeyab9qFtGs"
   },
   "source": [
    "## Exercise i) Glorot and He initialization\n",
    " \n",
    "Using the Initializer class, implement functions that implement Glorot and He \n",
    "\n",
    "Explain briefly how you would test numerically that these initializations have the sought after property. Hint: See plots in Glorot paper.\n",
    "\n",
    "Comment: If you want to be more advanced then try to make a universal initializer taking both the activation function and type (Glorot or He) as argument."
   ]
  },
  {
   "cell_type": "markdown",
   "metadata": {},
   "source": [
    "#### **SOLUTION:**\n",
    "\n",
    "Glorot Initialization is typically used with the tanh activation function. The idea behind this method is to keep the variance of the activations throughout the layers approximately the same. This helps the weights to be initialized in such a way that the variance of the activations remains stable across layers. Similar reasoning applies to the He Initialization with regard to the ReLU activations.\n",
    "\n",
    "To numerically test the initializations having the desired properties, you can check if the variance of the initialized weights aligns with the expectations set in the formulas in the text above and if the output distribution is reasonable.  \n"
   ]
  },
  {
   "cell_type": "code",
   "execution_count": 95,
   "metadata": {
    "id": "Qyk01CgaFtGt"
   },
   "outputs": [],
   "source": [
    "## Glorot\n",
    "def DenseLayer_Glorot_tanh(n_in: int, n_out: int):\n",
    "  std = (2/n_in+n_out)**0.5\n",
    "  return DenseLayer(n_in, n_out, lambda x: x.tanh(), initializer = NormalInitializer(std))\n",
    "\n",
    "## He\n",
    "def DenseLayer_He_relu(n_in: int, n_out: int):\n",
    "  std = (2/n_in)**0.5\n",
    "  return DenseLayer(n_in, n_out, lambda x: x.relu(), initializer = NormalInitializer(std))"
   ]
  },
  {
   "cell_type": "markdown",
   "metadata": {
    "id": "-XyXBD37FtHk"
   },
   "source": [
    "## Exercise j) Forward pass unit test\n",
    "\n",
    "Write a bit of code to make a unit test that the forward pass works. This can be done by defining a simple network with for example all weights equal to one (using the ConstantInitializer method) and identity activation functions. \n",
    "\n",
    "Hints: Use the [assert](https://www.w3schools.com/python/ref_keyword_assert.asp), the nparray_to_Var and the Var_to_nparray commands. "
   ]
  },
  {
   "cell_type": "code",
   "execution_count": 96,
   "metadata": {
    "id": "k0miqRUAFtHl"
   },
   "outputs": [
    {
     "name": "stdout",
     "output_type": "stream",
     "text": [
      "5.0\n"
     ]
    }
   ],
   "source": [
    "x = np.array([5])\n",
    "NN = [ DenseLayer(1, 1, lambda x: x.identity(), initializer = ConstantInitializer(1.0)) ]\n",
    "y = Var_to_nparray(forward(nparray_to_Var(x), NN))\n",
    "\n",
    "assert y[0] == 5, f\"Expected value: 5, but got some other value\"\n",
    "#This only prints if the assert does not fail to check change the value in the np array to something other than 5\n",
    "print(y[0][0])"
   ]
  },
  {
   "cell_type": "markdown",
   "metadata": {
    "id": "faCxhfFnFtHp"
   },
   "source": [
    "# Loss functions\n",
    "\n",
    "We are only missing a loss function to we need to define a loss function and its derivative with respect to the output of the neural network $y$"
   ]
  },
  {
   "cell_type": "code",
   "execution_count": 97,
   "metadata": {
    "id": "I2eDYKvAFtHq"
   },
   "outputs": [],
   "source": [
    "def squared_loss(t, y):\n",
    "  \n",
    "  # add check that sizes agree\n",
    "  \n",
    "  def squared_loss_single(t, y):\n",
    "    Loss = Var(0.0)\n",
    "    for i in range(len(t)): # sum over outputs\n",
    "      Loss += (t[i]-y[i]) ** 2\n",
    "    return Loss\n",
    "\n",
    "  Loss = Var(0.0)\n",
    "  for n in range(len(t)): # sum over training data\n",
    "    Loss += squared_loss_single(t[n],y[n])\n",
    "  return Loss"
   ]
  },
  {
   "cell_type": "markdown",
   "metadata": {
    "id": "SrwSJ2UWFtHu"
   },
   "source": [
    "## Exercise k) Implement cross entropy loss\n",
    "\n",
    "Insert code below to implement cross-entropy loss for general dimensionality of $t$. Use a logits formulation:\n",
    "$$\n",
    "\\rm{Loss} = - \\sum_i t_i \\, log \\, p_i \n",
    "$$\n",
    "with $p$ given by the the softmax function in terms of the logits $h$:\n",
    "$$\n",
    "p_i = \\frac{\\exp(h_i)}{\\sum_{i'} \\exp(h_{i'})} .\n",
    "$$\n",
    "Inserting $p$ in the expression for the loss gives\n",
    "$$\n",
    "\\rm{Loss} = - \\sum_i t_i h_i + \\rm{LogSumExp}(h) \\ ,\n",
    "$$\n",
    "where \n",
    "$$\n",
    "\\rm{LogSumExp}(h) = \\log \\sum_i \\exp h_i \\ .\n",
    "$$\n",
    "This is true for $t$ being a one-hot vector. \n",
    "\n",
    "Call the function to convince yourself it works. \n",
    "\n",
    "In practice you want to implement a [numerically stable](https://leimao.github.io/blog/LogSumExp/) version of LogSumExp. But we will not bother about that here.\n",
    "\n",
    "Help: You can add these methods in the Var class:\n",
    "\n",
    "    def exp(self):\n",
    "        return Var(exp(self.v), lambda: [(self, exp(self.v))])\n",
    "    \n",
    "    def log(self):\n",
    "        return Var(log(self.v), lambda: [(self, self.v ** -1)])"
   ]
  },
  {
   "cell_type": "code",
   "execution_count": 98,
   "metadata": {
    "id": "6nMuxyfzFtHv"
   },
   "outputs": [],
   "source": [
    "def cross_entropy_loss(t, y):\n",
    "\n",
    "    def logsumexp(h):\n",
    "        sum_exp = Var(0.0)\n",
    "        for h_i in h:\n",
    "            sum_exp = sum_exp + h_i.exp()\n",
    "        return sum_exp.log()\n",
    "\n",
    "    def cross_entropy_loss_single(t, y):\n",
    "      Loss = Var(0.0)\n",
    "      term_sum = Var(0.0)\n",
    "      for i in range(len(t)):\n",
    "          term_sum = term_sum + t[i] * y[i]\n",
    "      Loss = Loss - term_sum\n",
    "      Loss = Loss + logsumexp(y)\n",
    "      return Loss\n",
    "\n",
    "    Loss = Var(0.0)\n",
    "    for n in range(len(t)):\n",
    "        Loss = Loss + cross_entropy_loss_single(t[n],y[n])\n",
    "    return Loss"
   ]
  },
  {
   "cell_type": "markdown",
   "metadata": {
    "id": "8fAF5ew4FtHy"
   },
   "source": [
    "# Backward pass\n",
    "\n",
    "Now the magic happens! We get the calculation of the gradients for free. Just do:"
   ]
  },
  {
   "cell_type": "code",
   "execution_count": 99,
   "metadata": {
    "id": "iHyfPPI9Qqwu"
   },
   "outputs": [],
   "source": [
    "NN = [\n",
    "    DenseLayer(1, 5, lambda x: x.relu()),\n",
    "    DenseLayer(5, 1, lambda x: x.identity())\n",
    "]\n",
    "\n",
    "output = forward(x_train, NN)\n",
    "\n",
    "Loss = squared_loss(y_train,output)\n",
    "Loss.backward()"
   ]
  },
  {
   "cell_type": "markdown",
   "metadata": {
    "id": "49biIAYKQ1oG"
   },
   "source": [
    "and the gradients will be calculated:"
   ]
  },
  {
   "cell_type": "code",
   "execution_count": 100,
   "metadata": {
    "id": "_rGt1bq_Q7uk"
   },
   "outputs": [
    {
     "name": "stdout",
     "output_type": "stream",
     "text": [
      "Layer 0 \n",
      " Weights: [[Var(v=-0.0145, grad=-12.8806), Var(v=0.0246, grad=15.0142), Var(v=-0.0931, grad=-0.5990), Var(v=0.2335, grad=-2.9191), Var(v=-0.0664, grad=-8.9481)]] Biases: [Var(v=0.0000, grad=0.0000), Var(v=0.0000, grad=0.0000), Var(v=0.0000, grad=0.0000), Var(v=0.0000, grad=0.0000), Var(v=0.0000, grad=0.0000)]\n",
      "Layer 1 \n",
      " Weights: [[Var(v=0.1330, grad=1.3999)], [Var(v=-0.1483, grad=-2.4922)], [Var(v=0.0062, grad=9.0164)], [Var(v=0.0288, grad=-23.6423)], [Var(v=0.0924, grad=6.4320)]] Biases: [Var(v=0.0000, grad=0.0000)]\n"
     ]
    },
    {
     "data": {
      "text/plain": [
       "[None, None]"
      ]
     },
     "execution_count": 100,
     "metadata": {},
     "output_type": "execute_result"
    }
   ],
   "source": [
    "[print('Layer', i, '\\n', NN[i]) for i in range(len(NN))] "
   ]
  },
  {
   "cell_type": "markdown",
   "metadata": {
    "id": "D7d7qK0uFtH9"
   },
   "source": [
    "# Backward pass unit test\n",
    "\n",
    "Above we used finite differences to test that Nanograd is actually doing what it is supposed to do. We can in principle try the same for the neural network. But we will trust that the test above is enough."
   ]
  },
  {
   "cell_type": "markdown",
   "metadata": {
    "id": "WgBi8GOSFtIN"
   },
   "source": [
    "# Training and validation\n",
    "\n",
    "We are ready to train some neural networks!\n",
    "\n",
    "We initialize again:"
   ]
  },
  {
   "cell_type": "code",
   "execution_count": 101,
   "metadata": {
    "id": "01ePmzBzRtdh"
   },
   "outputs": [],
   "source": [
    "NN = [\n",
    "    DenseLayer(1, 15, lambda x: x.relu()),\n",
    "    DenseLayer(15, 50, lambda x: x.relu()),\n",
    "    DenseLayer(50, 1, lambda x: x.identity())\n",
    "]\n",
    "\n",
    "output = forward(x_train, NN)\n",
    "\n",
    "Loss = squared_loss(y_train,output)\n",
    "Loss.backward()"
   ]
  },
  {
   "cell_type": "markdown",
   "metadata": {
    "id": "10iRPiQ1ISHw"
   },
   "source": [
    "and make an update:\n",
    "\n",
    "We introduce a help function parameters to have a handle in all parameters in the network."
   ]
  },
  {
   "cell_type": "code",
   "execution_count": 102,
   "metadata": {
    "id": "dhAI7eyeznia"
   },
   "outputs": [
    {
     "name": "stdout",
     "output_type": "stream",
     "text": [
      "Network before update:\n",
      "Layer 0 \n",
      " Weights: [[Var(v=-0.0121, grad=3.1085), Var(v=0.1174, grad=5.9676), Var(v=-0.0633, grad=4.9160), Var(v=-0.0146, grad=5.0824), Var(v=-0.0375, grad=4.2311), Var(v=-0.1402, grad=7.3795), Var(v=0.1481, grad=-10.7402), Var(v=0.0416, grad=9.9860), Var(v=-0.1250, grad=-2.9434), Var(v=0.0334, grad=0.0341), Var(v=0.0819, grad=-8.1504), Var(v=-0.0623, grad=10.0402), Var(v=-0.0887, grad=1.8870), Var(v=-0.1331, grad=-3.8669), Var(v=-0.0688, grad=5.2724)]] Biases: [Var(v=0.0000, grad=0.0000), Var(v=0.0000, grad=0.0000), Var(v=0.0000, grad=0.0000), Var(v=0.0000, grad=0.0000), Var(v=0.0000, grad=0.0000), Var(v=0.0000, grad=0.0000), Var(v=0.0000, grad=0.0000), Var(v=0.0000, grad=0.0000), Var(v=0.0000, grad=0.0000), Var(v=0.0000, grad=0.0000), Var(v=0.0000, grad=0.0000), Var(v=0.0000, grad=0.0000), Var(v=0.0000, grad=0.0000), Var(v=0.0000, grad=0.0000), Var(v=0.0000, grad=0.0000)]\n",
      "Layer 1 \n",
      " Weights: [[Var(v=-0.0694, grad=-0.0789), Var(v=-0.1377, grad=0.0269), Var(v=0.2637, grad=0.0000), Var(v=-0.0578, grad=0.1683), Var(v=-0.0417, grad=0.0000), Var(v=0.0662, grad=-0.0321), Var(v=0.2356, grad=0.0000), Var(v=-0.0408, grad=0.0000), Var(v=0.0189, grad=0.0000), Var(v=-0.0812, grad=0.1742), Var(v=-0.0436, grad=0.0000), Var(v=0.0501, grad=-0.1234), Var(v=-0.0143, grad=0.2202), Var(v=0.0172, grad=-0.0877), Var(v=0.1187, grad=0.0000), Var(v=-0.1929, grad=0.0000), Var(v=-0.0888, grad=-0.0543), Var(v=-0.2303, grad=0.0000), Var(v=0.0844, grad=0.0000), Var(v=-0.0853, grad=0.0000), Var(v=0.0618, grad=0.0124), Var(v=-0.1004, grad=-0.3286), Var(v=-0.0916, grad=-0.3261), Var(v=0.2466, grad=-0.1137), Var(v=0.0489, grad=0.0000), Var(v=-0.0454, grad=0.0000), Var(v=-0.0285, grad=-0.0039), Var(v=-0.0596, grad=0.0000), Var(v=-0.1434, grad=0.0000), Var(v=0.1227, grad=-0.0477), Var(v=0.1053, grad=-0.0250), Var(v=0.0061, grad=0.0000), Var(v=0.0920, grad=0.0000), Var(v=-0.1010, grad=0.0000), Var(v=-0.0996, grad=0.0000), Var(v=-0.1058, grad=0.0375), Var(v=0.0663, grad=0.0000), Var(v=0.0704, grad=0.0000), Var(v=0.0786, grad=-0.0075), Var(v=-0.1905, grad=0.1162), Var(v=-0.0622, grad=0.0000), Var(v=-0.1111, grad=-0.0997), Var(v=0.0549, grad=0.0000), Var(v=-0.0272, grad=0.0000), Var(v=0.0249, grad=-0.1389), Var(v=-0.1003, grad=0.1066), Var(v=-0.0417, grad=0.0000), Var(v=0.0240, grad=-0.0385), Var(v=0.1593, grad=0.0000), Var(v=0.0669, grad=-0.0574)], [Var(v=0.1106, grad=0.8195), Var(v=-0.1215, grad=-0.2795), Var(v=-0.1816, grad=0.0000), Var(v=-0.0049, grad=-1.7473), Var(v=-0.0138, grad=-1.4563), Var(v=-0.0628, grad=0.3330), Var(v=-0.0710, grad=0.0000), Var(v=-0.0519, grad=1.7302), Var(v=0.0914, grad=-1.8162), Var(v=-0.1804, grad=0.0000), Var(v=0.1054, grad=0.7787), Var(v=-0.0314, grad=0.0000), Var(v=-0.0499, grad=-2.2863), Var(v=-0.0291, grad=0.0000), Var(v=-0.0635, grad=0.0000), Var(v=0.0875, grad=1.3568), Var(v=0.0916, grad=0.0000), Var(v=0.0385, grad=-1.1005), Var(v=-0.1189, grad=1.2672), Var(v=0.0399, grad=-0.9384), Var(v=-0.0503, grad=0.0000), Var(v=-0.0700, grad=0.0000), Var(v=0.1250, grad=3.3867), Var(v=-0.0609, grad=0.0000), Var(v=-0.0738, grad=-1.4688), Var(v=0.0412, grad=0.0000), Var(v=-0.0960, grad=0.0403), Var(v=0.1018, grad=-0.9409), Var(v=0.1156, grad=-0.0192), Var(v=0.1460, grad=0.4956), Var(v=0.1419, grad=0.2593), Var(v=0.0569, grad=-2.3208), Var(v=-0.1091, grad=0.0000), Var(v=-0.0810, grad=0.0000), Var(v=0.0399, grad=2.2392), Var(v=-0.1002, grad=0.0000), Var(v=-0.0795, grad=0.0000), Var(v=0.0663, grad=0.0000), Var(v=0.1104, grad=0.0781), Var(v=-0.1435, grad=0.0000), Var(v=0.0028, grad=1.3850), Var(v=0.1905, grad=1.0356), Var(v=0.0936, grad=0.0000), Var(v=0.1258, grad=-0.7697), Var(v=0.0481, grad=1.4424), Var(v=-0.0260, grad=-1.1072), Var(v=-0.0350, grad=0.0000), Var(v=0.0476, grad=0.0000), Var(v=-0.0909, grad=-0.3598), Var(v=-0.0316, grad=0.0000)], [Var(v=0.0542, grad=-0.4137), Var(v=0.1171, grad=0.1411), Var(v=0.1110, grad=0.0000), Var(v=-0.0956, grad=0.8821), Var(v=-0.1080, grad=0.0000), Var(v=-0.0150, grad=-0.1681), Var(v=-0.4122, grad=0.0000), Var(v=-0.1366, grad=0.0000), Var(v=-0.0754, grad=0.0000), Var(v=0.1015, grad=0.9133), Var(v=0.0187, grad=0.0000), Var(v=0.1770, grad=-0.6472), Var(v=0.0277, grad=1.1542), Var(v=-0.0082, grad=-0.4599), Var(v=0.0209, grad=0.0000), Var(v=0.0885, grad=0.0000), Var(v=-0.0368, grad=-0.2848), Var(v=-0.0305, grad=0.0000), Var(v=0.0396, grad=0.0000), Var(v=0.0209, grad=0.0000), Var(v=0.0647, grad=0.0650), Var(v=0.2160, grad=-1.7225), Var(v=-0.0004, grad=-1.7097), Var(v=0.1256, grad=-0.5959), Var(v=-0.0556, grad=0.0000), Var(v=-0.0363, grad=0.0000), Var(v=0.1254, grad=-0.0203), Var(v=0.0376, grad=0.0000), Var(v=0.1047, grad=0.0000), Var(v=0.1191, grad=-0.2502), Var(v=0.0272, grad=-0.1309), Var(v=-0.0414, grad=0.0000), Var(v=0.0259, grad=0.0000), Var(v=0.0410, grad=0.0000), Var(v=-0.0511, grad=0.0000), Var(v=0.1069, grad=0.1967), Var(v=-0.0264, grad=0.0000), Var(v=0.0214, grad=0.0000), Var(v=0.0005, grad=-0.0394), Var(v=0.1167, grad=0.6089), Var(v=-0.0800, grad=0.0000), Var(v=0.0171, grad=-0.5228), Var(v=0.2402, grad=0.0000), Var(v=0.1060, grad=0.0000), Var(v=-0.1947, grad=-0.7282), Var(v=-0.1085, grad=0.5590), Var(v=-0.0383, grad=0.0000), Var(v=0.0864, grad=-0.2016), Var(v=-0.0303, grad=0.0000), Var(v=-0.2762, grad=-0.3011)], [Var(v=0.1532, grad=-0.0954), Var(v=-0.0927, grad=0.0325), Var(v=0.2346, grad=0.0000), Var(v=-0.1255, grad=0.2033), Var(v=0.1359, grad=0.0000), Var(v=0.0450, grad=-0.0387), Var(v=-0.0648, grad=0.0000), Var(v=-0.1472, grad=0.0000), Var(v=-0.1230, grad=0.0000), Var(v=0.0383, grad=0.2105), Var(v=-0.1125, grad=0.0000), Var(v=-0.1242, grad=-0.1492), Var(v=0.0050, grad=0.2660), Var(v=0.2350, grad=-0.1060), Var(v=0.0507, grad=0.0000), Var(v=-0.1616, grad=0.0000), Var(v=0.1088, grad=-0.0656), Var(v=0.0238, grad=0.0000), Var(v=0.0727, grad=0.0000), Var(v=0.0272, grad=0.0000), Var(v=0.0335, grad=0.0150), Var(v=0.0288, grad=-0.3970), Var(v=0.0635, grad=-0.3941), Var(v=-0.1835, grad=-0.1373), Var(v=-0.0914, grad=0.0000), Var(v=-0.0259, grad=0.0000), Var(v=-0.0382, grad=-0.0047), Var(v=-0.0192, grad=0.0000), Var(v=-0.0405, grad=0.0000), Var(v=-0.0453, grad=-0.0577), Var(v=0.1669, grad=-0.0302), Var(v=0.0166, grad=0.0000), Var(v=-0.0389, grad=0.0000), Var(v=-0.1236, grad=0.0000), Var(v=-0.0949, grad=0.0000), Var(v=0.1200, grad=0.0453), Var(v=0.1172, grad=0.0000), Var(v=0.0150, grad=0.0000), Var(v=0.0265, grad=-0.0091), Var(v=-0.0204, grad=0.1403), Var(v=0.0649, grad=0.0000), Var(v=0.0285, grad=-0.1205), Var(v=-0.0945, grad=0.0000), Var(v=0.0463, grad=0.0000), Var(v=0.0007, grad=-0.1678), Var(v=-0.0116, grad=0.1288), Var(v=0.0242, grad=0.0000), Var(v=-0.0518, grad=-0.0465), Var(v=-0.0466, grad=0.0000), Var(v=0.1705, grad=-0.0694)], [Var(v=0.0481, grad=-0.2448), Var(v=0.0345, grad=0.0835), Var(v=-0.1713, grad=0.0000), Var(v=-0.1250, grad=0.5220), Var(v=0.0450, grad=0.0000), Var(v=0.2046, grad=-0.0995), Var(v=-0.0359, grad=0.0000), Var(v=-0.0077, grad=0.0000), Var(v=-0.0231, grad=0.0000), Var(v=0.2085, grad=0.5405), Var(v=-0.0352, grad=0.0000), Var(v=-0.2539, grad=-0.3830), Var(v=0.0785, grad=0.6831), Var(v=0.0191, grad=-0.2722), Var(v=0.0332, grad=0.0000), Var(v=0.0328, grad=0.0000), Var(v=0.0631, grad=-0.1685), Var(v=0.0237, grad=0.0000), Var(v=-0.0528, grad=0.0000), Var(v=0.1520, grad=0.0000), Var(v=0.0653, grad=0.0385), Var(v=0.0622, grad=-1.0194), Var(v=0.1203, grad=-1.0118), Var(v=0.1009, grad=-0.3526), Var(v=-0.0226, grad=0.0000), Var(v=-0.0462, grad=0.0000), Var(v=-0.0185, grad=-0.0120), Var(v=0.1873, grad=0.0000), Var(v=-0.1164, grad=0.0000), Var(v=0.1072, grad=-0.1481), Var(v=-0.1210, grad=-0.0775), Var(v=-0.0010, grad=0.0000), Var(v=-0.0560, grad=0.0000), Var(v=-0.1841, grad=0.0000), Var(v=-0.0167, grad=0.0000), Var(v=0.0041, grad=0.1164), Var(v=0.0122, grad=0.0000), Var(v=-0.1873, grad=0.0000), Var(v=0.0981, grad=-0.0233), Var(v=-0.1126, grad=0.3604), Var(v=0.0484, grad=0.0000), Var(v=0.0712, grad=-0.3094), Var(v=-0.0967, grad=0.0000), Var(v=0.0267, grad=0.0000), Var(v=-0.0491, grad=-0.4309), Var(v=-0.1287, grad=0.3308), Var(v=0.1063, grad=0.0000), Var(v=0.0067, grad=-0.1193), Var(v=0.2564, grad=0.0000), Var(v=0.0035, grad=-0.1782)], [Var(v=0.0419, grad=-0.9163), Var(v=-0.0395, grad=0.3126), Var(v=-0.0843, grad=0.0000), Var(v=0.0813, grad=1.9537), Var(v=-0.0180, grad=0.0000), Var(v=0.1198, grad=-0.3723), Var(v=-0.0498, grad=0.0000), Var(v=-0.0866, grad=0.0000), Var(v=-0.0042, grad=0.0000), Var(v=0.1827, grad=2.0229), Var(v=-0.0817, grad=0.0000), Var(v=0.0324, grad=-1.4334), Var(v=-0.0724, grad=2.5564), Var(v=0.0796, grad=-1.0187), Var(v=-0.0031, grad=0.0000), Var(v=-0.0925, grad=0.0000), Var(v=0.0548, grad=-0.6307), Var(v=0.0521, grad=0.0000), Var(v=-0.1488, grad=0.0000), Var(v=-0.1066, grad=0.0000), Var(v=-0.0093, grad=0.1440), Var(v=0.0270, grad=-3.8149), Var(v=0.1822, grad=-3.7868), Var(v=0.0220, grad=-1.3197), Var(v=-0.0208, grad=0.0000), Var(v=0.1973, grad=0.0000), Var(v=-0.0159, grad=-0.0450), Var(v=0.0082, grad=0.0000), Var(v=-0.0542, grad=0.0000), Var(v=-0.0342, grad=-0.5541), Var(v=-0.1812, grad=-0.2899), Var(v=-0.1080, grad=0.0000), Var(v=-0.1141, grad=0.0000), Var(v=-0.1743, grad=0.0000), Var(v=-0.1165, grad=0.0000), Var(v=-0.0440, grad=0.4355), Var(v=-0.2984, grad=0.0000), Var(v=-0.0858, grad=0.0000), Var(v=0.0015, grad=-0.0873), Var(v=0.0212, grad=1.3487), Var(v=-0.0582, grad=0.0000), Var(v=0.0925, grad=-1.1579), Var(v=-0.0154, grad=0.0000), Var(v=-0.0458, grad=0.0000), Var(v=0.1077, grad=-1.6128), Var(v=0.0653, grad=1.2380), Var(v=0.0037, grad=0.0000), Var(v=0.0060, grad=-0.4466), Var(v=0.0286, grad=0.0000), Var(v=0.2633, grad=-0.6668)], [Var(v=0.0124, grad=1.0338), Var(v=0.1471, grad=-0.3526), Var(v=0.0624, grad=0.0000), Var(v=0.3075, grad=-2.2041), Var(v=0.0220, grad=-1.8371), Var(v=-0.0147, grad=0.4200), Var(v=-0.0112, grad=0.0000), Var(v=0.0424, grad=2.1826), Var(v=0.0434, grad=-2.2911), Var(v=-0.0269, grad=0.0000), Var(v=-0.0144, grad=0.9823), Var(v=-0.0450, grad=0.0000), Var(v=0.1039, grad=-2.8841), Var(v=-0.1113, grad=0.0000), Var(v=-0.1828, grad=0.0000), Var(v=-0.0604, grad=1.7115), Var(v=-0.1163, grad=0.0000), Var(v=-0.0420, grad=-1.3882), Var(v=0.0794, grad=1.5985), Var(v=-0.0626, grad=-1.1837), Var(v=0.0094, grad=0.0000), Var(v=0.0578, grad=0.0000), Var(v=-0.0164, grad=4.2722), Var(v=-0.0919, grad=0.0000), Var(v=0.2260, grad=-1.8528), Var(v=-0.0608, grad=0.0000), Var(v=0.1256, grad=0.0508), Var(v=0.0462, grad=-1.1869), Var(v=-0.0727, grad=-0.0242), Var(v=0.2627, grad=0.6252), Var(v=0.2005, grad=0.3271), Var(v=0.1491, grad=-2.9276), Var(v=-0.1836, grad=0.0000), Var(v=-0.0064, grad=0.0000), Var(v=0.0929, grad=2.8247), Var(v=0.0479, grad=0.0000), Var(v=-0.2286, grad=0.0000), Var(v=-0.2642, grad=0.0000), Var(v=0.0414, grad=0.0985), Var(v=-0.1186, grad=0.0000), Var(v=0.0503, grad=1.7472), Var(v=-0.0745, grad=1.3064), Var(v=-0.0814, grad=0.0000), Var(v=-0.0374, grad=-0.9710), Var(v=0.0276, grad=1.8196), Var(v=0.1421, grad=-1.3967), Var(v=-0.0882, grad=0.0000), Var(v=0.0323, grad=0.0000), Var(v=0.1449, grad=-0.4539), Var(v=-0.0608, grad=0.0000)], [Var(v=0.2061, grad=0.2906), Var(v=-0.0437, grad=-0.0991), Var(v=-0.0811, grad=0.0000), Var(v=-0.0363, grad=-0.6197), Var(v=0.1130, grad=-0.5165), Var(v=0.1610, grad=0.1181), Var(v=-0.0489, grad=0.0000), Var(v=0.0799, grad=0.6136), Var(v=-0.0425, grad=-0.6441), Var(v=0.1560, grad=0.0000), Var(v=-0.0873, grad=0.2762), Var(v=0.0428, grad=0.0000), Var(v=-0.0420, grad=-0.8108), Var(v=-0.0319, grad=0.0000), Var(v=0.1540, grad=0.0000), Var(v=-0.0307, grad=0.4812), Var(v=-0.0754, grad=0.0000), Var(v=-0.0500, grad=-0.3903), Var(v=-0.0265, grad=0.4494), Var(v=-0.1457, grad=-0.3328), Var(v=-0.0894, grad=0.0000), Var(v=-0.3303, grad=0.0000), Var(v=0.1354, grad=1.2011), Var(v=0.0807, grad=0.0000), Var(v=-0.0081, grad=-0.5209), Var(v=0.0219, grad=0.0000), Var(v=0.0132, grad=0.0143), Var(v=-0.1472, grad=-0.3337), Var(v=0.1840, grad=-0.0068), Var(v=0.0067, grad=0.1758), Var(v=-0.0350, grad=0.0920), Var(v=0.0502, grad=-0.8230), Var(v=0.0520, grad=0.0000), Var(v=-0.0262, grad=0.0000), Var(v=-0.0185, grad=0.7941), Var(v=0.0334, grad=0.0000), Var(v=-0.0035, grad=0.0000), Var(v=0.0484, grad=0.0000), Var(v=-0.1513, grad=0.0277), Var(v=0.0072, grad=0.0000), Var(v=-0.0924, grad=0.4912), Var(v=0.0059, grad=0.3673), Var(v=-0.0432, grad=0.0000), Var(v=-0.0776, grad=-0.2730), Var(v=0.2091, grad=0.5115), Var(v=-0.0603, grad=-0.3927), Var(v=-0.0945, grad=0.0000), Var(v=-0.1984, grad=0.0000), Var(v=0.1591, grad=-0.1276), Var(v=-0.0204, grad=0.0000)], [Var(v=0.0019, grad=-0.8169), Var(v=-0.0192, grad=0.2786), Var(v=0.0226, grad=0.0000), Var(v=0.1477, grad=1.7417), Var(v=-0.1823, grad=0.0000), Var(v=0.0050, grad=-0.3319), Var(v=0.0771, grad=0.0000), Var(v=-0.0091, grad=0.0000), Var(v=0.0807, grad=0.0000), Var(v=-0.0738, grad=1.8034), Var(v=-0.1130, grad=0.0000), Var(v=-0.0467, grad=-1.2778), Var(v=-0.0354, grad=2.2790), Var(v=0.1441, grad=-0.9082), Var(v=0.0497, grad=0.0000), Var(v=-0.2077, grad=0.0000), Var(v=0.1117, grad=-0.5623), Var(v=0.0726, grad=0.0000), Var(v=0.0082, grad=0.0000), Var(v=-0.1536, grad=0.0000), Var(v=0.0028, grad=0.1284), Var(v=0.0695, grad=-3.4010), Var(v=-0.1435, grad=-3.3759), Var(v=0.0355, grad=-1.1765), Var(v=-0.0977, grad=0.0000), Var(v=-0.0362, grad=0.0000), Var(v=0.1011, grad=-0.0402), Var(v=-0.0420, grad=0.0000), Var(v=-0.1596, grad=0.0000), Var(v=-0.0734, grad=-0.4940), Var(v=0.0255, grad=-0.2584), Var(v=-0.0593, grad=0.0000), Var(v=0.0773, grad=0.0000), Var(v=-0.0606, grad=0.0000), Var(v=-0.2193, grad=0.0000), Var(v=0.0600, grad=0.3883), Var(v=-0.0677, grad=0.0000), Var(v=-0.1437, grad=0.0000), Var(v=0.1593, grad=-0.0778), Var(v=0.1286, grad=1.2023), Var(v=-0.0322, grad=0.0000), Var(v=-0.0470, grad=-1.0323), Var(v=-0.1172, grad=0.0000), Var(v=-0.0338, grad=0.0000), Var(v=-0.0055, grad=-1.4378), Var(v=0.0460, grad=1.1037), Var(v=-0.1397, grad=0.0000), Var(v=-0.1128, grad=-0.3981), Var(v=-0.0578, grad=0.0000), Var(v=0.1400, grad=-0.5945)], [Var(v=-0.0803, grad=0.2332), Var(v=0.0876, grad=-0.0795), Var(v=0.0563, grad=0.0000), Var(v=0.0443, grad=-0.4972), Var(v=0.1295, grad=-0.4144), Var(v=0.0736, grad=0.0947), Var(v=-0.0351, grad=0.0000), Var(v=-0.0668, grad=0.4923), Var(v=-0.0086, grad=-0.5168), Var(v=0.0152, grad=0.0000), Var(v=-0.0967, grad=0.2216), Var(v=-0.0138, grad=0.0000), Var(v=-0.0765, grad=-0.6506), Var(v=0.1884, grad=0.0000), Var(v=-0.0888, grad=0.0000), Var(v=0.0285, grad=0.3861), Var(v=-0.0187, grad=0.0000), Var(v=-0.0529, grad=-0.3132), Var(v=0.1246, grad=0.3606), Var(v=0.0155, grad=-0.2670), Var(v=-0.0821, grad=0.0000), Var(v=-0.1088, grad=0.0000), Var(v=-0.0757, grad=0.9637), Var(v=-0.0927, grad=0.0000), Var(v=0.0587, grad=-0.4179), Var(v=0.1477, grad=0.0000), Var(v=0.0524, grad=0.0115), Var(v=-0.0185, grad=-0.2677), Var(v=-0.1428, grad=-0.0055), Var(v=0.0105, grad=0.1410), Var(v=0.0997, grad=0.0738), Var(v=-0.0636, grad=-0.6604), Var(v=0.0450, grad=0.0000), Var(v=-0.0538, grad=0.0000), Var(v=0.1594, grad=0.6372), Var(v=0.0026, grad=0.0000), Var(v=-0.1090, grad=0.0000), Var(v=-0.0339, grad=0.0000), Var(v=0.0263, grad=0.0222), Var(v=-0.0530, grad=0.0000), Var(v=-0.0479, grad=0.3941), Var(v=-0.0243, grad=0.2947), Var(v=-0.0519, grad=0.0000), Var(v=0.0153, grad=-0.2190), Var(v=0.0606, grad=0.4104), Var(v=0.1084, grad=-0.3151), Var(v=-0.1204, grad=0.0000), Var(v=-0.1734, grad=0.0000), Var(v=-0.0408, grad=-0.1024), Var(v=-0.1574, grad=0.0000)], [Var(v=-0.0825, grad=0.5716), Var(v=0.0484, grad=-0.1950), Var(v=-0.0390, grad=0.0000), Var(v=0.0764, grad=-1.2188), Var(v=-0.0327, grad=-1.0158), Var(v=0.1242, grad=0.2322), Var(v=0.0288, grad=0.0000), Var(v=0.1247, grad=1.2068), Var(v=0.1390, grad=-1.2669), Var(v=0.0422, grad=0.0000), Var(v=-0.0150, grad=0.5432), Var(v=0.0380, grad=0.0000), Var(v=-0.0393, grad=-1.5947), Var(v=-0.1208, grad=0.0000), Var(v=-0.2072, grad=0.0000), Var(v=0.0127, grad=0.9464), Var(v=0.0004, grad=0.0000), Var(v=0.1131, grad=-0.7676), Var(v=0.0134, grad=0.8839), Var(v=0.1681, grad=-0.6545), Var(v=0.0224, grad=0.0000), Var(v=0.0130, grad=0.0000), Var(v=-0.0347, grad=2.3623), Var(v=-0.0795, grad=0.0000), Var(v=0.0624, grad=-1.0245), Var(v=-0.0802, grad=0.0000), Var(v=0.0955, grad=0.0281), Var(v=0.0396, grad=-0.6563), Var(v=0.0620, grad=-0.0134), Var(v=-0.2413, grad=0.3457), Var(v=-0.0832, grad=0.1808), Var(v=-0.0887, grad=-1.6188), Var(v=0.0616, grad=0.0000), Var(v=0.1611, grad=0.0000), Var(v=-0.1006, grad=1.5619), Var(v=-0.0645, grad=0.0000), Var(v=-0.1000, grad=0.0000), Var(v=-0.1351, grad=0.0000), Var(v=-0.0810, grad=0.0545), Var(v=-0.1275, grad=0.0000), Var(v=0.0548, grad=0.9661), Var(v=0.1166, grad=0.7224), Var(v=-0.0061, grad=0.0000), Var(v=0.0422, grad=-0.5369), Var(v=-0.1896, grad=1.0061), Var(v=0.0890, grad=-0.7723), Var(v=-0.0026, grad=0.0000), Var(v=-0.1589, grad=0.0000), Var(v=0.0177, grad=-0.2510), Var(v=-0.1215, grad=0.0000)], [Var(v=-0.0802, grad=-0.4074), Var(v=-0.0247, grad=0.1390), Var(v=-0.0041, grad=0.0000), Var(v=0.0795, grad=0.8686), Var(v=0.0315, grad=0.0000), Var(v=0.0644, grad=-0.1655), Var(v=-0.1500, grad=0.0000), Var(v=-0.0057, grad=0.0000), Var(v=-0.0322, grad=0.0000), Var(v=-0.0185, grad=0.8994), Var(v=0.0083, grad=0.0000), Var(v=0.0510, grad=-0.6373), Var(v=-0.1813, grad=1.1365), Var(v=0.0328, grad=-0.4529), Var(v=-0.1381, grad=0.0000), Var(v=0.0828, grad=0.0000), Var(v=-0.0012, grad=-0.2804), Var(v=0.0287, grad=0.0000), Var(v=0.0016, grad=0.0000), Var(v=0.0050, grad=0.0000), Var(v=0.0368, grad=0.0640), Var(v=0.0124, grad=-1.6961), Var(v=0.2470, grad=-1.6836), Var(v=-0.1694, grad=-0.5867), Var(v=0.0839, grad=0.0000), Var(v=-0.1634, grad=0.0000), Var(v=-0.1149, grad=-0.0200), Var(v=0.0716, grad=0.0000), Var(v=0.1174, grad=0.0000), Var(v=0.0726, grad=-0.2464), Var(v=0.0864, grad=-0.1289), Var(v=0.1574, grad=0.0000), Var(v=-0.1487, grad=0.0000), Var(v=-0.1477, grad=0.0000), Var(v=-0.0079, grad=0.0000), Var(v=0.0130, grad=0.1936), Var(v=0.0152, grad=0.0000), Var(v=0.0945, grad=0.0000), Var(v=-0.0456, grad=-0.0388), Var(v=0.0117, grad=0.5996), Var(v=0.0338, grad=0.0000), Var(v=0.0897, grad=-0.5148), Var(v=-0.0743, grad=0.0000), Var(v=-0.0760, grad=0.0000), Var(v=-0.0021, grad=-0.7170), Var(v=-0.1365, grad=0.5504), Var(v=-0.1691, grad=0.0000), Var(v=0.1527, grad=-0.1986), Var(v=0.0754, grad=0.0000), Var(v=-0.1924, grad=-0.2965)], [Var(v=0.2320, grad=-0.5799), Var(v=0.0330, grad=0.1978), Var(v=0.0267, grad=0.0000), Var(v=0.0648, grad=1.2364), Var(v=0.1935, grad=0.0000), Var(v=0.0143, grad=-0.2356), Var(v=0.0647, grad=0.0000), Var(v=-0.0141, grad=0.0000), Var(v=-0.1627, grad=0.0000), Var(v=0.0429, grad=1.2802), Var(v=-0.1436, grad=0.0000), Var(v=0.0584, grad=-0.9071), Var(v=-0.0164, grad=1.6178), Var(v=-0.0135, grad=-0.6447), Var(v=0.0193, grad=0.0000), Var(v=-0.1136, grad=0.0000), Var(v=0.1265, grad=-0.3991), Var(v=-0.1237, grad=0.0000), Var(v=-0.0411, grad=0.0000), Var(v=0.0395, grad=0.0000), Var(v=0.1626, grad=0.0912), Var(v=0.0993, grad=-2.4142), Var(v=-0.0122, grad=-2.3964), Var(v=-0.0249, grad=-0.8352), Var(v=0.0792, grad=0.0000), Var(v=0.0116, grad=0.0000), Var(v=0.1265, grad=-0.0285), Var(v=-0.0967, grad=0.0000), Var(v=-0.0686, grad=0.0000), Var(v=-0.0134, grad=-0.3507), Var(v=0.1310, grad=-0.1835), Var(v=-0.0306, grad=0.0000), Var(v=0.0764, grad=0.0000), Var(v=-0.1273, grad=0.0000), Var(v=-0.1768, grad=0.0000), Var(v=0.0981, grad=0.2756), Var(v=-0.0774, grad=0.0000), Var(v=-0.0213, grad=0.0000), Var(v=-0.0539, grad=-0.0552), Var(v=0.1017, grad=0.8535), Var(v=0.1158, grad=0.0000), Var(v=0.0887, grad=-0.7328), Var(v=-0.0107, grad=0.0000), Var(v=-0.1298, grad=0.0000), Var(v=-0.0207, grad=-1.0206), Var(v=0.0814, grad=0.7834), Var(v=-0.0106, grad=0.0000), Var(v=-0.0535, grad=-0.2826), Var(v=-0.0733, grad=0.0000), Var(v=0.0088, grad=-0.4220)], [Var(v=-0.0477, grad=-0.8703), Var(v=0.0231, grad=0.2968), Var(v=-0.0310, grad=0.0000), Var(v=0.0541, grad=1.8555), Var(v=-0.1058, grad=0.0000), Var(v=-0.1355, grad=-0.3536), Var(v=-0.0515, grad=0.0000), Var(v=0.0009, grad=0.0000), Var(v=0.0047, grad=0.0000), Var(v=-0.0384, grad=1.9212), Var(v=0.0379, grad=0.0000), Var(v=-0.0153, grad=-1.3613), Var(v=0.1990, grad=2.4279), Var(v=0.1872, grad=-0.9675), Var(v=-0.1498, grad=0.0000), Var(v=0.0446, grad=0.0000), Var(v=-0.0559, grad=-0.5990), Var(v=-0.0499, grad=0.0000), Var(v=0.0435, grad=0.0000), Var(v=-0.0347, grad=0.0000), Var(v=-0.1091, grad=0.1368), Var(v=0.1008, grad=-3.6232), Var(v=-0.0337, grad=-3.5964), Var(v=-0.0700, grad=-1.2534), Var(v=-0.0685, grad=0.0000), Var(v=-0.0739, grad=0.0000), Var(v=-0.0252, grad=-0.0428), Var(v=-0.1539, grad=0.0000), Var(v=-0.0131, grad=0.0000), Var(v=-0.0066, grad=-0.5263), Var(v=0.0439, grad=-0.2753), Var(v=0.0415, grad=0.0000), Var(v=-0.0291, grad=0.0000), Var(v=-0.1041, grad=0.0000), Var(v=0.1319, grad=0.0000), Var(v=0.0286, grad=0.4137), Var(v=0.0422, grad=0.0000), Var(v=0.0677, grad=0.0000), Var(v=0.1421, grad=-0.0829), Var(v=0.0084, grad=1.2809), Var(v=-0.0251, grad=0.0000), Var(v=-0.1157, grad=-1.0997), Var(v=0.0178, grad=0.0000), Var(v=-0.1484, grad=0.0000), Var(v=0.1616, grad=-1.5317), Var(v=0.2257, grad=1.1758), Var(v=-0.1048, grad=0.0000), Var(v=0.1154, grad=-0.4242), Var(v=-0.0508, grad=0.0000), Var(v=-0.1696, grad=-0.6333)], [Var(v=0.0488, grad=-0.4501), Var(v=0.1384, grad=0.1535), Var(v=-0.0123, grad=0.0000), Var(v=-0.2222, grad=0.9597), Var(v=0.1072, grad=0.0000), Var(v=-0.1412, grad=-0.1829), Var(v=-0.0086, grad=0.0000), Var(v=0.0750, grad=0.0000), Var(v=0.0739, grad=0.0000), Var(v=0.0523, grad=0.9937), Var(v=0.1763, grad=0.0000), Var(v=0.1381, grad=-0.7041), Var(v=-0.0303, grad=1.2557), Var(v=-0.0834, grad=-0.5004), Var(v=-0.0869, grad=0.0000), Var(v=-0.0127, grad=0.0000), Var(v=-0.0446, grad=-0.3098), Var(v=-0.0385, grad=0.0000), Var(v=0.0526, grad=0.0000), Var(v=-0.0011, grad=0.0000), Var(v=0.1043, grad=0.0708), Var(v=0.0384, grad=-1.8739), Var(v=-0.0248, grad=-1.8601), Var(v=0.0493, grad=-0.6483), Var(v=0.1225, grad=0.0000), Var(v=-0.1810, grad=0.0000), Var(v=0.0883, grad=-0.0221), Var(v=0.1381, grad=0.0000), Var(v=-0.0467, grad=0.0000), Var(v=-0.0115, grad=-0.2722), Var(v=0.1074, grad=-0.1424), Var(v=0.0057, grad=0.0000), Var(v=-0.0625, grad=0.0000), Var(v=0.0989, grad=0.0000), Var(v=-0.1283, grad=0.0000), Var(v=-0.1147, grad=0.2139), Var(v=-0.1067, grad=0.0000), Var(v=0.0813, grad=0.0000), Var(v=-0.0086, grad=-0.0429), Var(v=-0.0095, grad=0.6625), Var(v=0.0303, grad=0.0000), Var(v=-0.0260, grad=-0.5688), Var(v=-0.0476, grad=0.0000), Var(v=0.1400, grad=0.0000), Var(v=-0.0392, grad=-0.7922), Var(v=-0.1660, grad=0.6081), Var(v=0.0990, grad=0.0000), Var(v=-0.0745, grad=-0.2194), Var(v=-0.0427, grad=0.0000), Var(v=0.0410, grad=-0.3275)]] Biases: [Var(v=0.0000, grad=0.0000), Var(v=0.0000, grad=0.0000), Var(v=0.0000, grad=0.0000), Var(v=0.0000, grad=0.0000), Var(v=0.0000, grad=0.0000), Var(v=0.0000, grad=0.0000), Var(v=0.0000, grad=0.0000), Var(v=0.0000, grad=0.0000), Var(v=0.0000, grad=0.0000), Var(v=0.0000, grad=0.0000), Var(v=0.0000, grad=0.0000), Var(v=0.0000, grad=0.0000), Var(v=0.0000, grad=0.0000), Var(v=0.0000, grad=0.0000), Var(v=0.0000, grad=0.0000), Var(v=0.0000, grad=0.0000), Var(v=0.0000, grad=0.0000), Var(v=0.0000, grad=0.0000), Var(v=0.0000, grad=0.0000), Var(v=0.0000, grad=0.0000), Var(v=0.0000, grad=0.0000), Var(v=0.0000, grad=0.0000), Var(v=0.0000, grad=0.0000), Var(v=0.0000, grad=0.0000), Var(v=0.0000, grad=0.0000), Var(v=0.0000, grad=0.0000), Var(v=0.0000, grad=0.0000), Var(v=0.0000, grad=0.0000), Var(v=0.0000, grad=0.0000), Var(v=0.0000, grad=0.0000), Var(v=0.0000, grad=0.0000), Var(v=0.0000, grad=0.0000), Var(v=0.0000, grad=0.0000), Var(v=0.0000, grad=0.0000), Var(v=0.0000, grad=0.0000), Var(v=0.0000, grad=0.0000), Var(v=0.0000, grad=0.0000), Var(v=0.0000, grad=0.0000), Var(v=0.0000, grad=0.0000), Var(v=0.0000, grad=0.0000), Var(v=0.0000, grad=0.0000), Var(v=0.0000, grad=0.0000), Var(v=0.0000, grad=0.0000), Var(v=0.0000, grad=0.0000), Var(v=0.0000, grad=0.0000), Var(v=0.0000, grad=0.0000), Var(v=0.0000, grad=0.0000), Var(v=0.0000, grad=0.0000), Var(v=0.0000, grad=0.0000), Var(v=0.0000, grad=0.0000)]\n",
      "Layer 2 \n",
      " Weights: [[Var(v=-0.0696, grad=0.9800)], [Var(v=0.0237, grad=-0.1598)], [Var(v=-0.0722, grad=0.0000)], [Var(v=0.1483, grad=-3.3316)], [Var(v=0.1236, grad=-0.8021)], [Var(v=-0.0283, grad=-0.6900)], [Var(v=-0.1746, grad=0.0000)], [Var(v=-0.1468, grad=-1.1525)], [Var(v=0.1541, grad=-2.6583)], [Var(v=0.1535, grad=2.9462)], [Var(v=-0.0661, grad=-0.2155)], [Var(v=-0.1088, grad=1.4112)], [Var(v=0.1940, grad=-0.0450)], [Var(v=-0.0773, grad=4.9830)], [Var(v=-0.0152, grad=0.0000)], [Var(v=-0.1151, grad=-0.2055)], [Var(v=-0.0479, grad=2.1451)], [Var(v=0.0934, grad=-0.3719)], [Var(v=-0.1075, grad=-0.1962)], [Var(v=0.0796, grad=-0.3642)], [Var(v=0.0109, grad=1.5230)], [Var(v=-0.2896, grad=5.0106)], [Var(v=-0.2874, grad=0.6273)], [Var(v=-0.1002, grad=0.0808)], [Var(v=0.1247, grad=-3.1645)], [Var(v=-0.1121, grad=0.0000)], [Var(v=-0.0034, grad=0.4612)], [Var(v=0.0799, grad=-1.5350)], [Var(v=0.0016, grad=-1.0817)], [Var(v=-0.0421, grad=-3.6962)], [Var(v=-0.0220, grad=-3.3172)], [Var(v=0.1970, grad=-2.1545)], [Var(v=0.0467, grad=0.0000)], [Var(v=0.1164, grad=0.0000)], [Var(v=-0.1900, grad=-1.4802)], [Var(v=0.0331, grad=1.3295)], [Var(v=-0.0835, grad=0.0000)], [Var(v=-0.2303, grad=0.0000)], [Var(v=-0.0066, grad=2.6638)], [Var(v=0.1024, grad=2.8031)], [Var(v=-0.1175, grad=-0.6842)], [Var(v=-0.0879, grad=-1.4578)], [Var(v=0.1099, grad=0.0000)], [Var(v=0.0653, grad=-0.9992)], [Var(v=-0.1224, grad=1.1410)], [Var(v=0.0940, grad=-0.8460)], [Var(v=-0.0542, grad=0.0000)], [Var(v=-0.0339, grad=0.6582)], [Var(v=0.0305, grad=-1.7558)], [Var(v=-0.0506, grad=0.8826)]] Biases: [Var(v=0.0000, grad=0.0000)]\n",
      "\n",
      "Network after update:\n",
      "Layer 0 \n",
      " Weights: [[Var(v=-0.0432, grad=3.1085), Var(v=0.0577, grad=5.9676), Var(v=-0.1124, grad=4.9160), Var(v=-0.0654, grad=5.0824), Var(v=-0.0798, grad=4.2311), Var(v=-0.2140, grad=7.3795), Var(v=0.2555, grad=-10.7402), Var(v=-0.0582, grad=9.9860), Var(v=-0.0955, grad=-2.9434), Var(v=0.0331, grad=0.0341), Var(v=0.1634, grad=-8.1504), Var(v=-0.1627, grad=10.0402), Var(v=-0.1076, grad=1.8870), Var(v=-0.0944, grad=-3.8669), Var(v=-0.1216, grad=5.2724)]] Biases: [Var(v=0.0000, grad=0.0000), Var(v=0.0000, grad=0.0000), Var(v=0.0000, grad=0.0000), Var(v=0.0000, grad=0.0000), Var(v=0.0000, grad=0.0000), Var(v=0.0000, grad=0.0000), Var(v=0.0000, grad=0.0000), Var(v=0.0000, grad=0.0000), Var(v=0.0000, grad=0.0000), Var(v=0.0000, grad=0.0000), Var(v=0.0000, grad=0.0000), Var(v=0.0000, grad=0.0000), Var(v=0.0000, grad=0.0000), Var(v=0.0000, grad=0.0000), Var(v=0.0000, grad=0.0000)]\n",
      "Layer 1 \n",
      " Weights: [[Var(v=-0.0686, grad=-0.0789), Var(v=-0.1380, grad=0.0269), Var(v=0.2637, grad=0.0000), Var(v=-0.0594, grad=0.1683), Var(v=-0.0417, grad=0.0000), Var(v=0.0665, grad=-0.0321), Var(v=0.2356, grad=0.0000), Var(v=-0.0408, grad=0.0000), Var(v=0.0189, grad=0.0000), Var(v=-0.0829, grad=0.1742), Var(v=-0.0436, grad=0.0000), Var(v=0.0513, grad=-0.1234), Var(v=-0.0165, grad=0.2202), Var(v=0.0180, grad=-0.0877), Var(v=0.1187, grad=0.0000), Var(v=-0.1929, grad=0.0000), Var(v=-0.0882, grad=-0.0543), Var(v=-0.2303, grad=0.0000), Var(v=0.0844, grad=0.0000), Var(v=-0.0853, grad=0.0000), Var(v=0.0617, grad=0.0124), Var(v=-0.0971, grad=-0.3286), Var(v=-0.0884, grad=-0.3261), Var(v=0.2477, grad=-0.1137), Var(v=0.0489, grad=0.0000), Var(v=-0.0454, grad=0.0000), Var(v=-0.0285, grad=-0.0039), Var(v=-0.0596, grad=0.0000), Var(v=-0.1434, grad=0.0000), Var(v=0.1232, grad=-0.0477), Var(v=0.1056, grad=-0.0250), Var(v=0.0061, grad=0.0000), Var(v=0.0920, grad=0.0000), Var(v=-0.1010, grad=0.0000), Var(v=-0.0996, grad=0.0000), Var(v=-0.1062, grad=0.0375), Var(v=0.0663, grad=0.0000), Var(v=0.0704, grad=0.0000), Var(v=0.0787, grad=-0.0075), Var(v=-0.1917, grad=0.1162), Var(v=-0.0622, grad=0.0000), Var(v=-0.1101, grad=-0.0997), Var(v=0.0549, grad=0.0000), Var(v=-0.0272, grad=0.0000), Var(v=0.0263, grad=-0.1389), Var(v=-0.1014, grad=0.1066), Var(v=-0.0417, grad=0.0000), Var(v=0.0244, grad=-0.0385), Var(v=0.1593, grad=0.0000), Var(v=0.0675, grad=-0.0574)], [Var(v=0.1024, grad=0.8195), Var(v=-0.1187, grad=-0.2795), Var(v=-0.1816, grad=0.0000), Var(v=0.0125, grad=-1.7473), Var(v=0.0008, grad=-1.4563), Var(v=-0.0661, grad=0.3330), Var(v=-0.0710, grad=0.0000), Var(v=-0.0692, grad=1.7302), Var(v=0.1096, grad=-1.8162), Var(v=-0.1804, grad=0.0000), Var(v=0.0976, grad=0.7787), Var(v=-0.0314, grad=0.0000), Var(v=-0.0270, grad=-2.2863), Var(v=-0.0291, grad=0.0000), Var(v=-0.0635, grad=0.0000), Var(v=0.0740, grad=1.3568), Var(v=0.0916, grad=0.0000), Var(v=0.0495, grad=-1.1005), Var(v=-0.1316, grad=1.2672), Var(v=0.0493, grad=-0.9384), Var(v=-0.0503, grad=0.0000), Var(v=-0.0700, grad=0.0000), Var(v=0.0911, grad=3.3867), Var(v=-0.0609, grad=0.0000), Var(v=-0.0591, grad=-1.4688), Var(v=0.0412, grad=0.0000), Var(v=-0.0964, grad=0.0403), Var(v=0.1112, grad=-0.9409), Var(v=0.1158, grad=-0.0192), Var(v=0.1411, grad=0.4956), Var(v=0.1393, grad=0.2593), Var(v=0.0801, grad=-2.3208), Var(v=-0.1091, grad=0.0000), Var(v=-0.0810, grad=0.0000), Var(v=0.0175, grad=2.2392), Var(v=-0.1002, grad=0.0000), Var(v=-0.0795, grad=0.0000), Var(v=0.0663, grad=0.0000), Var(v=0.1096, grad=0.0781), Var(v=-0.1435, grad=0.0000), Var(v=-0.0111, grad=1.3850), Var(v=0.1802, grad=1.0356), Var(v=0.0936, grad=0.0000), Var(v=0.1335, grad=-0.7697), Var(v=0.0336, grad=1.4424), Var(v=-0.0150, grad=-1.1072), Var(v=-0.0350, grad=0.0000), Var(v=0.0476, grad=0.0000), Var(v=-0.0873, grad=-0.3598), Var(v=-0.0316, grad=0.0000)], [Var(v=0.0584, grad=-0.4137), Var(v=0.1157, grad=0.1411), Var(v=0.1110, grad=0.0000), Var(v=-0.1044, grad=0.8821), Var(v=-0.1080, grad=0.0000), Var(v=-0.0134, grad=-0.1681), Var(v=-0.4122, grad=0.0000), Var(v=-0.1366, grad=0.0000), Var(v=-0.0754, grad=0.0000), Var(v=0.0924, grad=0.9133), Var(v=0.0187, grad=0.0000), Var(v=0.1834, grad=-0.6472), Var(v=0.0162, grad=1.1542), Var(v=-0.0036, grad=-0.4599), Var(v=0.0209, grad=0.0000), Var(v=0.0885, grad=0.0000), Var(v=-0.0339, grad=-0.2848), Var(v=-0.0305, grad=0.0000), Var(v=0.0396, grad=0.0000), Var(v=0.0209, grad=0.0000), Var(v=0.0641, grad=0.0650), Var(v=0.2332, grad=-1.7225), Var(v=0.0167, grad=-1.7097), Var(v=0.1316, grad=-0.5959), Var(v=-0.0556, grad=0.0000), Var(v=-0.0363, grad=0.0000), Var(v=0.1256, grad=-0.0203), Var(v=0.0376, grad=0.0000), Var(v=0.1047, grad=0.0000), Var(v=0.1217, grad=-0.2502), Var(v=0.0285, grad=-0.1309), Var(v=-0.0414, grad=0.0000), Var(v=0.0259, grad=0.0000), Var(v=0.0410, grad=0.0000), Var(v=-0.0511, grad=0.0000), Var(v=0.1049, grad=0.1967), Var(v=-0.0264, grad=0.0000), Var(v=0.0214, grad=0.0000), Var(v=0.0009, grad=-0.0394), Var(v=0.1106, grad=0.6089), Var(v=-0.0800, grad=0.0000), Var(v=0.0223, grad=-0.5228), Var(v=0.2402, grad=0.0000), Var(v=0.1060, grad=0.0000), Var(v=-0.1874, grad=-0.7282), Var(v=-0.1141, grad=0.5590), Var(v=-0.0383, grad=0.0000), Var(v=0.0884, grad=-0.2016), Var(v=-0.0303, grad=0.0000), Var(v=-0.2732, grad=-0.3011)], [Var(v=0.1542, grad=-0.0954), Var(v=-0.0930, grad=0.0325), Var(v=0.2346, grad=0.0000), Var(v=-0.1276, grad=0.2033), Var(v=0.1359, grad=0.0000), Var(v=0.0454, grad=-0.0387), Var(v=-0.0648, grad=0.0000), Var(v=-0.1472, grad=0.0000), Var(v=-0.1230, grad=0.0000), Var(v=0.0362, grad=0.2105), Var(v=-0.1125, grad=0.0000), Var(v=-0.1227, grad=-0.1492), Var(v=0.0024, grad=0.2660), Var(v=0.2360, grad=-0.1060), Var(v=0.0507, grad=0.0000), Var(v=-0.1616, grad=0.0000), Var(v=0.1095, grad=-0.0656), Var(v=0.0238, grad=0.0000), Var(v=0.0727, grad=0.0000), Var(v=0.0272, grad=0.0000), Var(v=0.0334, grad=0.0150), Var(v=0.0328, grad=-0.3970), Var(v=0.0674, grad=-0.3941), Var(v=-0.1821, grad=-0.1373), Var(v=-0.0914, grad=0.0000), Var(v=-0.0259, grad=0.0000), Var(v=-0.0381, grad=-0.0047), Var(v=-0.0192, grad=0.0000), Var(v=-0.0405, grad=0.0000), Var(v=-0.0447, grad=-0.0577), Var(v=0.1672, grad=-0.0302), Var(v=0.0166, grad=0.0000), Var(v=-0.0389, grad=0.0000), Var(v=-0.1236, grad=0.0000), Var(v=-0.0949, grad=0.0000), Var(v=0.1196, grad=0.0453), Var(v=0.1172, grad=0.0000), Var(v=0.0150, grad=0.0000), Var(v=0.0266, grad=-0.0091), Var(v=-0.0218, grad=0.1403), Var(v=0.0649, grad=0.0000), Var(v=0.0297, grad=-0.1205), Var(v=-0.0945, grad=0.0000), Var(v=0.0463, grad=0.0000), Var(v=0.0024, grad=-0.1678), Var(v=-0.0129, grad=0.1288), Var(v=0.0242, grad=0.0000), Var(v=-0.0513, grad=-0.0465), Var(v=-0.0466, grad=0.0000), Var(v=0.1712, grad=-0.0694)], [Var(v=0.0505, grad=-0.2448), Var(v=0.0337, grad=0.0835), Var(v=-0.1713, grad=0.0000), Var(v=-0.1302, grad=0.5220), Var(v=0.0450, grad=0.0000), Var(v=0.2056, grad=-0.0995), Var(v=-0.0359, grad=0.0000), Var(v=-0.0077, grad=0.0000), Var(v=-0.0231, grad=0.0000), Var(v=0.2031, grad=0.5405), Var(v=-0.0352, grad=0.0000), Var(v=-0.2500, grad=-0.3830), Var(v=0.0717, grad=0.6831), Var(v=0.0218, grad=-0.2722), Var(v=0.0332, grad=0.0000), Var(v=0.0328, grad=0.0000), Var(v=0.0648, grad=-0.1685), Var(v=0.0237, grad=0.0000), Var(v=-0.0528, grad=0.0000), Var(v=0.1520, grad=0.0000), Var(v=0.0649, grad=0.0385), Var(v=0.0724, grad=-1.0194), Var(v=0.1304, grad=-1.0118), Var(v=0.1045, grad=-0.3526), Var(v=-0.0226, grad=0.0000), Var(v=-0.0462, grad=0.0000), Var(v=-0.0184, grad=-0.0120), Var(v=0.1873, grad=0.0000), Var(v=-0.1164, grad=0.0000), Var(v=0.1087, grad=-0.1481), Var(v=-0.1202, grad=-0.0775), Var(v=-0.0010, grad=0.0000), Var(v=-0.0560, grad=0.0000), Var(v=-0.1841, grad=0.0000), Var(v=-0.0167, grad=0.0000), Var(v=0.0029, grad=0.1164), Var(v=0.0122, grad=0.0000), Var(v=-0.1873, grad=0.0000), Var(v=0.0984, grad=-0.0233), Var(v=-0.1162, grad=0.3604), Var(v=0.0484, grad=0.0000), Var(v=0.0743, grad=-0.3094), Var(v=-0.0967, grad=0.0000), Var(v=0.0267, grad=0.0000), Var(v=-0.0448, grad=-0.4309), Var(v=-0.1320, grad=0.3308), Var(v=0.1063, grad=0.0000), Var(v=0.0079, grad=-0.1193), Var(v=0.2564, grad=0.0000), Var(v=0.0053, grad=-0.1782)], [Var(v=0.0510, grad=-0.9163), Var(v=-0.0427, grad=0.3126), Var(v=-0.0843, grad=0.0000), Var(v=0.0618, grad=1.9537), Var(v=-0.0180, grad=0.0000), Var(v=0.1235, grad=-0.3723), Var(v=-0.0498, grad=0.0000), Var(v=-0.0866, grad=0.0000), Var(v=-0.0042, grad=0.0000), Var(v=0.1625, grad=2.0229), Var(v=-0.0817, grad=0.0000), Var(v=0.0467, grad=-1.4334), Var(v=-0.0980, grad=2.5564), Var(v=0.0898, grad=-1.0187), Var(v=-0.0031, grad=0.0000), Var(v=-0.0925, grad=0.0000), Var(v=0.0611, grad=-0.6307), Var(v=0.0521, grad=0.0000), Var(v=-0.1488, grad=0.0000), Var(v=-0.1066, grad=0.0000), Var(v=-0.0107, grad=0.1440), Var(v=0.0652, grad=-3.8149), Var(v=0.2201, grad=-3.7868), Var(v=0.0352, grad=-1.3197), Var(v=-0.0208, grad=0.0000), Var(v=0.1973, grad=0.0000), Var(v=-0.0155, grad=-0.0450), Var(v=0.0082, grad=0.0000), Var(v=-0.0542, grad=0.0000), Var(v=-0.0287, grad=-0.5541), Var(v=-0.1783, grad=-0.2899), Var(v=-0.1080, grad=0.0000), Var(v=-0.1141, grad=0.0000), Var(v=-0.1743, grad=0.0000), Var(v=-0.1165, grad=0.0000), Var(v=-0.0483, grad=0.4355), Var(v=-0.2984, grad=0.0000), Var(v=-0.0858, grad=0.0000), Var(v=0.0023, grad=-0.0873), Var(v=0.0077, grad=1.3487), Var(v=-0.0582, grad=0.0000), Var(v=0.1041, grad=-1.1579), Var(v=-0.0154, grad=0.0000), Var(v=-0.0458, grad=0.0000), Var(v=0.1238, grad=-1.6128), Var(v=0.0529, grad=1.2380), Var(v=0.0037, grad=0.0000), Var(v=0.0105, grad=-0.4466), Var(v=0.0286, grad=0.0000), Var(v=0.2700, grad=-0.6668)], [Var(v=0.0020, grad=1.0338), Var(v=0.1506, grad=-0.3526), Var(v=0.0624, grad=0.0000), Var(v=0.3295, grad=-2.2041), Var(v=0.0404, grad=-1.8371), Var(v=-0.0189, grad=0.4200), Var(v=-0.0112, grad=0.0000), Var(v=0.0206, grad=2.1826), Var(v=0.0663, grad=-2.2911), Var(v=-0.0269, grad=0.0000), Var(v=-0.0242, grad=0.9823), Var(v=-0.0450, grad=0.0000), Var(v=0.1328, grad=-2.8841), Var(v=-0.1113, grad=0.0000), Var(v=-0.1828, grad=0.0000), Var(v=-0.0775, grad=1.7115), Var(v=-0.1163, grad=0.0000), Var(v=-0.0282, grad=-1.3882), Var(v=0.0634, grad=1.5985), Var(v=-0.0508, grad=-1.1837), Var(v=0.0094, grad=0.0000), Var(v=0.0578, grad=0.0000), Var(v=-0.0591, grad=4.2722), Var(v=-0.0919, grad=0.0000), Var(v=0.2445, grad=-1.8528), Var(v=-0.0608, grad=0.0000), Var(v=0.1251, grad=0.0508), Var(v=0.0581, grad=-1.1869), Var(v=-0.0724, grad=-0.0242), Var(v=0.2564, grad=0.6252), Var(v=0.1972, grad=0.3271), Var(v=0.1784, grad=-2.9276), Var(v=-0.1836, grad=0.0000), Var(v=-0.0064, grad=0.0000), Var(v=0.0646, grad=2.8247), Var(v=0.0479, grad=0.0000), Var(v=-0.2286, grad=0.0000), Var(v=-0.2642, grad=0.0000), Var(v=0.0404, grad=0.0985), Var(v=-0.1186, grad=0.0000), Var(v=0.0329, grad=1.7472), Var(v=-0.0875, grad=1.3064), Var(v=-0.0814, grad=0.0000), Var(v=-0.0277, grad=-0.9710), Var(v=0.0094, grad=1.8196), Var(v=0.1560, grad=-1.3967), Var(v=-0.0882, grad=0.0000), Var(v=0.0323, grad=0.0000), Var(v=0.1494, grad=-0.4539), Var(v=-0.0608, grad=0.0000)], [Var(v=0.2031, grad=0.2906), Var(v=-0.0427, grad=-0.0991), Var(v=-0.0811, grad=0.0000), Var(v=-0.0301, grad=-0.6197), Var(v=0.1182, grad=-0.5165), Var(v=0.1598, grad=0.1181), Var(v=-0.0489, grad=0.0000), Var(v=0.0738, grad=0.6136), Var(v=-0.0360, grad=-0.6441), Var(v=0.1560, grad=0.0000), Var(v=-0.0901, grad=0.2762), Var(v=0.0428, grad=0.0000), Var(v=-0.0338, grad=-0.8108), Var(v=-0.0319, grad=0.0000), Var(v=0.1540, grad=0.0000), Var(v=-0.0355, grad=0.4812), Var(v=-0.0754, grad=0.0000), Var(v=-0.0461, grad=-0.3903), Var(v=-0.0310, grad=0.4494), Var(v=-0.1424, grad=-0.3328), Var(v=-0.0894, grad=0.0000), Var(v=-0.3303, grad=0.0000), Var(v=0.1234, grad=1.2011), Var(v=0.0807, grad=0.0000), Var(v=-0.0029, grad=-0.5209), Var(v=0.0219, grad=0.0000), Var(v=0.0131, grad=0.0143), Var(v=-0.1438, grad=-0.3337), Var(v=0.1841, grad=-0.0068), Var(v=0.0049, grad=0.1758), Var(v=-0.0359, grad=0.0920), Var(v=0.0584, grad=-0.8230), Var(v=0.0520, grad=0.0000), Var(v=-0.0262, grad=0.0000), Var(v=-0.0264, grad=0.7941), Var(v=0.0334, grad=0.0000), Var(v=-0.0035, grad=0.0000), Var(v=0.0484, grad=0.0000), Var(v=-0.1515, grad=0.0277), Var(v=0.0072, grad=0.0000), Var(v=-0.0974, grad=0.4912), Var(v=0.0023, grad=0.3673), Var(v=-0.0432, grad=0.0000), Var(v=-0.0749, grad=-0.2730), Var(v=0.2040, grad=0.5115), Var(v=-0.0564, grad=-0.3927), Var(v=-0.0945, grad=0.0000), Var(v=-0.1984, grad=0.0000), Var(v=0.1604, grad=-0.1276), Var(v=-0.0204, grad=0.0000)], [Var(v=0.0101, grad=-0.8169), Var(v=-0.0219, grad=0.2786), Var(v=0.0226, grad=0.0000), Var(v=0.1303, grad=1.7417), Var(v=-0.1823, grad=0.0000), Var(v=0.0083, grad=-0.3319), Var(v=0.0771, grad=0.0000), Var(v=-0.0091, grad=0.0000), Var(v=0.0807, grad=0.0000), Var(v=-0.0918, grad=1.8034), Var(v=-0.1130, grad=0.0000), Var(v=-0.0339, grad=-1.2778), Var(v=-0.0582, grad=2.2790), Var(v=0.1531, grad=-0.9082), Var(v=0.0497, grad=0.0000), Var(v=-0.2077, grad=0.0000), Var(v=0.1173, grad=-0.5623), Var(v=0.0726, grad=0.0000), Var(v=0.0082, grad=0.0000), Var(v=-0.1536, grad=0.0000), Var(v=0.0015, grad=0.1284), Var(v=0.1035, grad=-3.4010), Var(v=-0.1098, grad=-3.3759), Var(v=0.0472, grad=-1.1765), Var(v=-0.0977, grad=0.0000), Var(v=-0.0362, grad=0.0000), Var(v=0.1015, grad=-0.0402), Var(v=-0.0420, grad=0.0000), Var(v=-0.1596, grad=0.0000), Var(v=-0.0684, grad=-0.4940), Var(v=0.0280, grad=-0.2584), Var(v=-0.0593, grad=0.0000), Var(v=0.0773, grad=0.0000), Var(v=-0.0606, grad=0.0000), Var(v=-0.2193, grad=0.0000), Var(v=0.0561, grad=0.3883), Var(v=-0.0677, grad=0.0000), Var(v=-0.1437, grad=0.0000), Var(v=0.1601, grad=-0.0778), Var(v=0.1166, grad=1.2023), Var(v=-0.0322, grad=0.0000), Var(v=-0.0367, grad=-1.0323), Var(v=-0.1172, grad=0.0000), Var(v=-0.0338, grad=0.0000), Var(v=0.0089, grad=-1.4378), Var(v=0.0350, grad=1.1037), Var(v=-0.1397, grad=0.0000), Var(v=-0.1089, grad=-0.3981), Var(v=-0.0578, grad=0.0000), Var(v=0.1459, grad=-0.5945)], [Var(v=-0.0826, grad=0.2332), Var(v=0.0884, grad=-0.0795), Var(v=0.0563, grad=0.0000), Var(v=0.0493, grad=-0.4972), Var(v=0.1336, grad=-0.4144), Var(v=0.0727, grad=0.0947), Var(v=-0.0351, grad=0.0000), Var(v=-0.0717, grad=0.4923), Var(v=-0.0034, grad=-0.5168), Var(v=0.0152, grad=0.0000), Var(v=-0.0990, grad=0.2216), Var(v=-0.0138, grad=0.0000), Var(v=-0.0700, grad=-0.6506), Var(v=0.1884, grad=0.0000), Var(v=-0.0888, grad=0.0000), Var(v=0.0247, grad=0.3861), Var(v=-0.0187, grad=0.0000), Var(v=-0.0498, grad=-0.3132), Var(v=0.1210, grad=0.3606), Var(v=0.0182, grad=-0.2670), Var(v=-0.0821, grad=0.0000), Var(v=-0.1088, grad=0.0000), Var(v=-0.0854, grad=0.9637), Var(v=-0.0927, grad=0.0000), Var(v=0.0629, grad=-0.4179), Var(v=0.1477, grad=0.0000), Var(v=0.0522, grad=0.0115), Var(v=-0.0158, grad=-0.2677), Var(v=-0.1428, grad=-0.0055), Var(v=0.0091, grad=0.1410), Var(v=0.0990, grad=0.0738), Var(v=-0.0570, grad=-0.6604), Var(v=0.0450, grad=0.0000), Var(v=-0.0538, grad=0.0000), Var(v=0.1530, grad=0.6372), Var(v=0.0026, grad=0.0000), Var(v=-0.1090, grad=0.0000), Var(v=-0.0339, grad=0.0000), Var(v=0.0261, grad=0.0222), Var(v=-0.0530, grad=0.0000), Var(v=-0.0518, grad=0.3941), Var(v=-0.0273, grad=0.2947), Var(v=-0.0519, grad=0.0000), Var(v=0.0175, grad=-0.2190), Var(v=0.0565, grad=0.4104), Var(v=0.1115, grad=-0.3151), Var(v=-0.1204, grad=0.0000), Var(v=-0.1734, grad=0.0000), Var(v=-0.0398, grad=-0.1024), Var(v=-0.1574, grad=0.0000)], [Var(v=-0.0882, grad=0.5716), Var(v=0.0503, grad=-0.1950), Var(v=-0.0390, grad=0.0000), Var(v=0.0886, grad=-1.2188), Var(v=-0.0226, grad=-1.0158), Var(v=0.1218, grad=0.2322), Var(v=0.0288, grad=0.0000), Var(v=0.1126, grad=1.2068), Var(v=0.1517, grad=-1.2669), Var(v=0.0422, grad=0.0000), Var(v=-0.0204, grad=0.5432), Var(v=0.0380, grad=0.0000), Var(v=-0.0233, grad=-1.5947), Var(v=-0.1208, grad=0.0000), Var(v=-0.2072, grad=0.0000), Var(v=0.0032, grad=0.9464), Var(v=0.0004, grad=0.0000), Var(v=0.1208, grad=-0.7676), Var(v=0.0046, grad=0.8839), Var(v=0.1746, grad=-0.6545), Var(v=0.0224, grad=0.0000), Var(v=0.0130, grad=0.0000), Var(v=-0.0583, grad=2.3623), Var(v=-0.0795, grad=0.0000), Var(v=0.0727, grad=-1.0245), Var(v=-0.0802, grad=0.0000), Var(v=0.0952, grad=0.0281), Var(v=0.0462, grad=-0.6563), Var(v=0.0621, grad=-0.0134), Var(v=-0.2448, grad=0.3457), Var(v=-0.0850, grad=0.1808), Var(v=-0.0725, grad=-1.6188), Var(v=0.0616, grad=0.0000), Var(v=0.1611, grad=0.0000), Var(v=-0.1162, grad=1.5619), Var(v=-0.0645, grad=0.0000), Var(v=-0.1000, grad=0.0000), Var(v=-0.1351, grad=0.0000), Var(v=-0.0816, grad=0.0545), Var(v=-0.1275, grad=0.0000), Var(v=0.0452, grad=0.9661), Var(v=0.1094, grad=0.7224), Var(v=-0.0061, grad=0.0000), Var(v=0.0476, grad=-0.5369), Var(v=-0.1997, grad=1.0061), Var(v=0.0967, grad=-0.7723), Var(v=-0.0026, grad=0.0000), Var(v=-0.1589, grad=0.0000), Var(v=0.0202, grad=-0.2510), Var(v=-0.1215, grad=0.0000)], [Var(v=-0.0761, grad=-0.4074), Var(v=-0.0261, grad=0.1390), Var(v=-0.0041, grad=0.0000), Var(v=0.0708, grad=0.8686), Var(v=0.0315, grad=0.0000), Var(v=0.0661, grad=-0.1655), Var(v=-0.1500, grad=0.0000), Var(v=-0.0057, grad=0.0000), Var(v=-0.0322, grad=0.0000), Var(v=-0.0275, grad=0.8994), Var(v=0.0083, grad=0.0000), Var(v=0.0573, grad=-0.6373), Var(v=-0.1927, grad=1.1365), Var(v=0.0373, grad=-0.4529), Var(v=-0.1381, grad=0.0000), Var(v=0.0828, grad=0.0000), Var(v=0.0016, grad=-0.2804), Var(v=0.0287, grad=0.0000), Var(v=0.0016, grad=0.0000), Var(v=0.0050, grad=0.0000), Var(v=0.0361, grad=0.0640), Var(v=0.0293, grad=-1.6961), Var(v=0.2638, grad=-1.6836), Var(v=-0.1636, grad=-0.5867), Var(v=0.0839, grad=0.0000), Var(v=-0.1634, grad=0.0000), Var(v=-0.1147, grad=-0.0200), Var(v=0.0716, grad=0.0000), Var(v=0.1174, grad=0.0000), Var(v=0.0750, grad=-0.2464), Var(v=0.0877, grad=-0.1289), Var(v=0.1574, grad=0.0000), Var(v=-0.1487, grad=0.0000), Var(v=-0.1477, grad=0.0000), Var(v=-0.0079, grad=0.0000), Var(v=0.0111, grad=0.1936), Var(v=0.0152, grad=0.0000), Var(v=0.0945, grad=0.0000), Var(v=-0.0453, grad=-0.0388), Var(v=0.0057, grad=0.5996), Var(v=0.0338, grad=0.0000), Var(v=0.0948, grad=-0.5148), Var(v=-0.0743, grad=0.0000), Var(v=-0.0760, grad=0.0000), Var(v=0.0051, grad=-0.7170), Var(v=-0.1420, grad=0.5504), Var(v=-0.1691, grad=0.0000), Var(v=0.1547, grad=-0.1986), Var(v=0.0754, grad=0.0000), Var(v=-0.1894, grad=-0.2965)], [Var(v=0.2378, grad=-0.5799), Var(v=0.0310, grad=0.1978), Var(v=0.0267, grad=0.0000), Var(v=0.0525, grad=1.2364), Var(v=0.1935, grad=0.0000), Var(v=0.0167, grad=-0.2356), Var(v=0.0647, grad=0.0000), Var(v=-0.0141, grad=0.0000), Var(v=-0.1627, grad=0.0000), Var(v=0.0301, grad=1.2802), Var(v=-0.1436, grad=0.0000), Var(v=0.0675, grad=-0.9071), Var(v=-0.0326, grad=1.6178), Var(v=-0.0070, grad=-0.6447), Var(v=0.0193, grad=0.0000), Var(v=-0.1136, grad=0.0000), Var(v=0.1304, grad=-0.3991), Var(v=-0.1237, grad=0.0000), Var(v=-0.0411, grad=0.0000), Var(v=0.0395, grad=0.0000), Var(v=0.1617, grad=0.0912), Var(v=0.1235, grad=-2.4142), Var(v=0.0118, grad=-2.3964), Var(v=-0.0166, grad=-0.8352), Var(v=0.0792, grad=0.0000), Var(v=0.0116, grad=0.0000), Var(v=0.1268, grad=-0.0285), Var(v=-0.0967, grad=0.0000), Var(v=-0.0686, grad=0.0000), Var(v=-0.0099, grad=-0.3507), Var(v=0.1329, grad=-0.1835), Var(v=-0.0306, grad=0.0000), Var(v=0.0764, grad=0.0000), Var(v=-0.1273, grad=0.0000), Var(v=-0.1768, grad=0.0000), Var(v=0.0954, grad=0.2756), Var(v=-0.0774, grad=0.0000), Var(v=-0.0213, grad=0.0000), Var(v=-0.0533, grad=-0.0552), Var(v=0.0931, grad=0.8535), Var(v=0.1158, grad=0.0000), Var(v=0.0961, grad=-0.7328), Var(v=-0.0107, grad=0.0000), Var(v=-0.1298, grad=0.0000), Var(v=-0.0105, grad=-1.0206), Var(v=0.0736, grad=0.7834), Var(v=-0.0106, grad=0.0000), Var(v=-0.0506, grad=-0.2826), Var(v=-0.0733, grad=0.0000), Var(v=0.0131, grad=-0.4220)], [Var(v=-0.0390, grad=-0.8703), Var(v=0.0201, grad=0.2968), Var(v=-0.0310, grad=0.0000), Var(v=0.0356, grad=1.8555), Var(v=-0.1058, grad=0.0000), Var(v=-0.1320, grad=-0.3536), Var(v=-0.0515, grad=0.0000), Var(v=0.0009, grad=0.0000), Var(v=0.0047, grad=0.0000), Var(v=-0.0576, grad=1.9212), Var(v=0.0379, grad=0.0000), Var(v=-0.0017, grad=-1.3613), Var(v=0.1747, grad=2.4279), Var(v=0.1969, grad=-0.9675), Var(v=-0.1498, grad=0.0000), Var(v=0.0446, grad=0.0000), Var(v=-0.0499, grad=-0.5990), Var(v=-0.0499, grad=0.0000), Var(v=0.0435, grad=0.0000), Var(v=-0.0347, grad=0.0000), Var(v=-0.1104, grad=0.1368), Var(v=0.1370, grad=-3.6232), Var(v=0.0023, grad=-3.5964), Var(v=-0.0574, grad=-1.2534), Var(v=-0.0685, grad=0.0000), Var(v=-0.0739, grad=0.0000), Var(v=-0.0247, grad=-0.0428), Var(v=-0.1539, grad=0.0000), Var(v=-0.0131, grad=0.0000), Var(v=-0.0013, grad=-0.5263), Var(v=0.0467, grad=-0.2753), Var(v=0.0415, grad=0.0000), Var(v=-0.0291, grad=0.0000), Var(v=-0.1041, grad=0.0000), Var(v=0.1319, grad=0.0000), Var(v=0.0245, grad=0.4137), Var(v=0.0422, grad=0.0000), Var(v=0.0677, grad=0.0000), Var(v=0.1430, grad=-0.0829), Var(v=-0.0044, grad=1.2809), Var(v=-0.0251, grad=0.0000), Var(v=-0.1047, grad=-1.0997), Var(v=0.0178, grad=0.0000), Var(v=-0.1484, grad=0.0000), Var(v=0.1770, grad=-1.5317), Var(v=0.2139, grad=1.1758), Var(v=-0.1048, grad=0.0000), Var(v=0.1196, grad=-0.4242), Var(v=-0.0508, grad=0.0000), Var(v=-0.1633, grad=-0.6333)], [Var(v=0.0533, grad=-0.4501), Var(v=0.1369, grad=0.1535), Var(v=-0.0123, grad=0.0000), Var(v=-0.2318, grad=0.9597), Var(v=0.1072, grad=0.0000), Var(v=-0.1394, grad=-0.1829), Var(v=-0.0086, grad=0.0000), Var(v=0.0750, grad=0.0000), Var(v=0.0739, grad=0.0000), Var(v=0.0424, grad=0.9937), Var(v=0.1763, grad=0.0000), Var(v=0.1451, grad=-0.7041), Var(v=-0.0429, grad=1.2557), Var(v=-0.0784, grad=-0.5004), Var(v=-0.0869, grad=0.0000), Var(v=-0.0127, grad=0.0000), Var(v=-0.0415, grad=-0.3098), Var(v=-0.0385, grad=0.0000), Var(v=0.0526, grad=0.0000), Var(v=-0.0011, grad=0.0000), Var(v=0.1036, grad=0.0708), Var(v=0.0571, grad=-1.8739), Var(v=-0.0062, grad=-1.8601), Var(v=0.0558, grad=-0.6483), Var(v=0.1225, grad=0.0000), Var(v=-0.1810, grad=0.0000), Var(v=0.0885, grad=-0.0221), Var(v=0.1381, grad=0.0000), Var(v=-0.0467, grad=0.0000), Var(v=-0.0088, grad=-0.2722), Var(v=0.1088, grad=-0.1424), Var(v=0.0057, grad=0.0000), Var(v=-0.0625, grad=0.0000), Var(v=0.0989, grad=0.0000), Var(v=-0.1283, grad=0.0000), Var(v=-0.1168, grad=0.2139), Var(v=-0.1067, grad=0.0000), Var(v=0.0813, grad=0.0000), Var(v=-0.0082, grad=-0.0429), Var(v=-0.0161, grad=0.6625), Var(v=0.0303, grad=0.0000), Var(v=-0.0203, grad=-0.5688), Var(v=-0.0476, grad=0.0000), Var(v=0.1400, grad=0.0000), Var(v=-0.0313, grad=-0.7922), Var(v=-0.1721, grad=0.6081), Var(v=0.0990, grad=0.0000), Var(v=-0.0723, grad=-0.2194), Var(v=-0.0427, grad=0.0000), Var(v=0.0443, grad=-0.3275)]] Biases: [Var(v=0.0000, grad=0.0000), Var(v=0.0000, grad=0.0000), Var(v=0.0000, grad=0.0000), Var(v=0.0000, grad=0.0000), Var(v=0.0000, grad=0.0000), Var(v=0.0000, grad=0.0000), Var(v=0.0000, grad=0.0000), Var(v=0.0000, grad=0.0000), Var(v=0.0000, grad=0.0000), Var(v=0.0000, grad=0.0000), Var(v=0.0000, grad=0.0000), Var(v=0.0000, grad=0.0000), Var(v=0.0000, grad=0.0000), Var(v=0.0000, grad=0.0000), Var(v=0.0000, grad=0.0000), Var(v=0.0000, grad=0.0000), Var(v=0.0000, grad=0.0000), Var(v=0.0000, grad=0.0000), Var(v=0.0000, grad=0.0000), Var(v=0.0000, grad=0.0000), Var(v=0.0000, grad=0.0000), Var(v=0.0000, grad=0.0000), Var(v=0.0000, grad=0.0000), Var(v=0.0000, grad=0.0000), Var(v=0.0000, grad=0.0000), Var(v=0.0000, grad=0.0000), Var(v=0.0000, grad=0.0000), Var(v=0.0000, grad=0.0000), Var(v=0.0000, grad=0.0000), Var(v=0.0000, grad=0.0000), Var(v=0.0000, grad=0.0000), Var(v=0.0000, grad=0.0000), Var(v=0.0000, grad=0.0000), Var(v=0.0000, grad=0.0000), Var(v=0.0000, grad=0.0000), Var(v=0.0000, grad=0.0000), Var(v=0.0000, grad=0.0000), Var(v=0.0000, grad=0.0000), Var(v=0.0000, grad=0.0000), Var(v=0.0000, grad=0.0000), Var(v=0.0000, grad=0.0000), Var(v=0.0000, grad=0.0000), Var(v=0.0000, grad=0.0000), Var(v=0.0000, grad=0.0000), Var(v=0.0000, grad=0.0000), Var(v=0.0000, grad=0.0000), Var(v=0.0000, grad=0.0000), Var(v=0.0000, grad=0.0000), Var(v=0.0000, grad=0.0000), Var(v=0.0000, grad=0.0000)]\n",
      "Layer 2 \n",
      " Weights: [[Var(v=-0.0794, grad=0.9800)], [Var(v=0.0253, grad=-0.1598)], [Var(v=-0.0722, grad=0.0000)], [Var(v=0.1816, grad=-3.3316)], [Var(v=0.1316, grad=-0.8021)], [Var(v=-0.0214, grad=-0.6900)], [Var(v=-0.1746, grad=0.0000)], [Var(v=-0.1353, grad=-1.1525)], [Var(v=0.1807, grad=-2.6583)], [Var(v=0.1241, grad=2.9462)], [Var(v=-0.0639, grad=-0.2155)], [Var(v=-0.1229, grad=1.4112)], [Var(v=0.1945, grad=-0.0450)], [Var(v=-0.1272, grad=4.9830)], [Var(v=-0.0152, grad=0.0000)], [Var(v=-0.1131, grad=-0.2055)], [Var(v=-0.0693, grad=2.1451)], [Var(v=0.0971, grad=-0.3719)], [Var(v=-0.1056, grad=-0.1962)], [Var(v=0.0833, grad=-0.3642)], [Var(v=-0.0043, grad=1.5230)], [Var(v=-0.3397, grad=5.0106)], [Var(v=-0.2937, grad=0.6273)], [Var(v=-0.1010, grad=0.0808)], [Var(v=0.1563, grad=-3.1645)], [Var(v=-0.1121, grad=0.0000)], [Var(v=-0.0080, grad=0.4612)], [Var(v=0.0952, grad=-1.5350)], [Var(v=0.0124, grad=-1.0817)], [Var(v=-0.0051, grad=-3.6962)], [Var(v=0.0112, grad=-3.3172)], [Var(v=0.2185, grad=-2.1545)], [Var(v=0.0467, grad=0.0000)], [Var(v=0.1164, grad=0.0000)], [Var(v=-0.1752, grad=-1.4802)], [Var(v=0.0198, grad=1.3295)], [Var(v=-0.0835, grad=0.0000)], [Var(v=-0.2303, grad=0.0000)], [Var(v=-0.0333, grad=2.6638)], [Var(v=0.0743, grad=2.8031)], [Var(v=-0.1107, grad=-0.6842)], [Var(v=-0.0733, grad=-1.4578)], [Var(v=0.1099, grad=0.0000)], [Var(v=0.0753, grad=-0.9992)], [Var(v=-0.1338, grad=1.1410)], [Var(v=0.1024, grad=-0.8460)], [Var(v=-0.0542, grad=0.0000)], [Var(v=-0.0405, grad=0.6582)], [Var(v=0.0481, grad=-1.7558)], [Var(v=-0.0594, grad=0.8826)]] Biases: [Var(v=0.0000, grad=0.0000)]\n",
      "\n",
      "Network after zeroing gradients:\n",
      "Layer 0 \n",
      " Weights: [[Var(v=-0.0432, grad=0.0000), Var(v=0.0577, grad=0.0000), Var(v=-0.1124, grad=0.0000), Var(v=-0.0654, grad=0.0000), Var(v=-0.0798, grad=0.0000), Var(v=-0.2140, grad=0.0000), Var(v=0.2555, grad=0.0000), Var(v=-0.0582, grad=0.0000), Var(v=-0.0955, grad=0.0000), Var(v=0.0331, grad=0.0000), Var(v=0.1634, grad=0.0000), Var(v=-0.1627, grad=0.0000), Var(v=-0.1076, grad=0.0000), Var(v=-0.0944, grad=0.0000), Var(v=-0.1216, grad=0.0000)]] Biases: [Var(v=0.0000, grad=0.0000), Var(v=0.0000, grad=0.0000), Var(v=0.0000, grad=0.0000), Var(v=0.0000, grad=0.0000), Var(v=0.0000, grad=0.0000), Var(v=0.0000, grad=0.0000), Var(v=0.0000, grad=0.0000), Var(v=0.0000, grad=0.0000), Var(v=0.0000, grad=0.0000), Var(v=0.0000, grad=0.0000), Var(v=0.0000, grad=0.0000), Var(v=0.0000, grad=0.0000), Var(v=0.0000, grad=0.0000), Var(v=0.0000, grad=0.0000), Var(v=0.0000, grad=0.0000)]\n",
      "Layer 1 \n",
      " Weights: [[Var(v=-0.0686, grad=0.0000), Var(v=-0.1380, grad=0.0000), Var(v=0.2637, grad=0.0000), Var(v=-0.0594, grad=0.0000), Var(v=-0.0417, grad=0.0000), Var(v=0.0665, grad=0.0000), Var(v=0.2356, grad=0.0000), Var(v=-0.0408, grad=0.0000), Var(v=0.0189, grad=0.0000), Var(v=-0.0829, grad=0.0000), Var(v=-0.0436, grad=0.0000), Var(v=0.0513, grad=0.0000), Var(v=-0.0165, grad=0.0000), Var(v=0.0180, grad=0.0000), Var(v=0.1187, grad=0.0000), Var(v=-0.1929, grad=0.0000), Var(v=-0.0882, grad=0.0000), Var(v=-0.2303, grad=0.0000), Var(v=0.0844, grad=0.0000), Var(v=-0.0853, grad=0.0000), Var(v=0.0617, grad=0.0000), Var(v=-0.0971, grad=0.0000), Var(v=-0.0884, grad=0.0000), Var(v=0.2477, grad=0.0000), Var(v=0.0489, grad=0.0000), Var(v=-0.0454, grad=0.0000), Var(v=-0.0285, grad=0.0000), Var(v=-0.0596, grad=0.0000), Var(v=-0.1434, grad=0.0000), Var(v=0.1232, grad=0.0000), Var(v=0.1056, grad=0.0000), Var(v=0.0061, grad=0.0000), Var(v=0.0920, grad=0.0000), Var(v=-0.1010, grad=0.0000), Var(v=-0.0996, grad=0.0000), Var(v=-0.1062, grad=0.0000), Var(v=0.0663, grad=0.0000), Var(v=0.0704, grad=0.0000), Var(v=0.0787, grad=0.0000), Var(v=-0.1917, grad=0.0000), Var(v=-0.0622, grad=0.0000), Var(v=-0.1101, grad=0.0000), Var(v=0.0549, grad=0.0000), Var(v=-0.0272, grad=0.0000), Var(v=0.0263, grad=0.0000), Var(v=-0.1014, grad=0.0000), Var(v=-0.0417, grad=0.0000), Var(v=0.0244, grad=0.0000), Var(v=0.1593, grad=0.0000), Var(v=0.0675, grad=0.0000)], [Var(v=0.1024, grad=0.0000), Var(v=-0.1187, grad=0.0000), Var(v=-0.1816, grad=0.0000), Var(v=0.0125, grad=0.0000), Var(v=0.0008, grad=0.0000), Var(v=-0.0661, grad=0.0000), Var(v=-0.0710, grad=0.0000), Var(v=-0.0692, grad=0.0000), Var(v=0.1096, grad=0.0000), Var(v=-0.1804, grad=0.0000), Var(v=0.0976, grad=0.0000), Var(v=-0.0314, grad=0.0000), Var(v=-0.0270, grad=0.0000), Var(v=-0.0291, grad=0.0000), Var(v=-0.0635, grad=0.0000), Var(v=0.0740, grad=0.0000), Var(v=0.0916, grad=0.0000), Var(v=0.0495, grad=0.0000), Var(v=-0.1316, grad=0.0000), Var(v=0.0493, grad=0.0000), Var(v=-0.0503, grad=0.0000), Var(v=-0.0700, grad=0.0000), Var(v=0.0911, grad=0.0000), Var(v=-0.0609, grad=0.0000), Var(v=-0.0591, grad=0.0000), Var(v=0.0412, grad=0.0000), Var(v=-0.0964, grad=0.0000), Var(v=0.1112, grad=0.0000), Var(v=0.1158, grad=0.0000), Var(v=0.1411, grad=0.0000), Var(v=0.1393, grad=0.0000), Var(v=0.0801, grad=0.0000), Var(v=-0.1091, grad=0.0000), Var(v=-0.0810, grad=0.0000), Var(v=0.0175, grad=0.0000), Var(v=-0.1002, grad=0.0000), Var(v=-0.0795, grad=0.0000), Var(v=0.0663, grad=0.0000), Var(v=0.1096, grad=0.0000), Var(v=-0.1435, grad=0.0000), Var(v=-0.0111, grad=0.0000), Var(v=0.1802, grad=0.0000), Var(v=0.0936, grad=0.0000), Var(v=0.1335, grad=0.0000), Var(v=0.0336, grad=0.0000), Var(v=-0.0150, grad=0.0000), Var(v=-0.0350, grad=0.0000), Var(v=0.0476, grad=0.0000), Var(v=-0.0873, grad=0.0000), Var(v=-0.0316, grad=0.0000)], [Var(v=0.0584, grad=0.0000), Var(v=0.1157, grad=0.0000), Var(v=0.1110, grad=0.0000), Var(v=-0.1044, grad=0.0000), Var(v=-0.1080, grad=0.0000), Var(v=-0.0134, grad=0.0000), Var(v=-0.4122, grad=0.0000), Var(v=-0.1366, grad=0.0000), Var(v=-0.0754, grad=0.0000), Var(v=0.0924, grad=0.0000), Var(v=0.0187, grad=0.0000), Var(v=0.1834, grad=0.0000), Var(v=0.0162, grad=0.0000), Var(v=-0.0036, grad=0.0000), Var(v=0.0209, grad=0.0000), Var(v=0.0885, grad=0.0000), Var(v=-0.0339, grad=0.0000), Var(v=-0.0305, grad=0.0000), Var(v=0.0396, grad=0.0000), Var(v=0.0209, grad=0.0000), Var(v=0.0641, grad=0.0000), Var(v=0.2332, grad=0.0000), Var(v=0.0167, grad=0.0000), Var(v=0.1316, grad=0.0000), Var(v=-0.0556, grad=0.0000), Var(v=-0.0363, grad=0.0000), Var(v=0.1256, grad=0.0000), Var(v=0.0376, grad=0.0000), Var(v=0.1047, grad=0.0000), Var(v=0.1217, grad=0.0000), Var(v=0.0285, grad=0.0000), Var(v=-0.0414, grad=0.0000), Var(v=0.0259, grad=0.0000), Var(v=0.0410, grad=0.0000), Var(v=-0.0511, grad=0.0000), Var(v=0.1049, grad=0.0000), Var(v=-0.0264, grad=0.0000), Var(v=0.0214, grad=0.0000), Var(v=0.0009, grad=0.0000), Var(v=0.1106, grad=0.0000), Var(v=-0.0800, grad=0.0000), Var(v=0.0223, grad=0.0000), Var(v=0.2402, grad=0.0000), Var(v=0.1060, grad=0.0000), Var(v=-0.1874, grad=0.0000), Var(v=-0.1141, grad=0.0000), Var(v=-0.0383, grad=0.0000), Var(v=0.0884, grad=0.0000), Var(v=-0.0303, grad=0.0000), Var(v=-0.2732, grad=0.0000)], [Var(v=0.1542, grad=0.0000), Var(v=-0.0930, grad=0.0000), Var(v=0.2346, grad=0.0000), Var(v=-0.1276, grad=0.0000), Var(v=0.1359, grad=0.0000), Var(v=0.0454, grad=0.0000), Var(v=-0.0648, grad=0.0000), Var(v=-0.1472, grad=0.0000), Var(v=-0.1230, grad=0.0000), Var(v=0.0362, grad=0.0000), Var(v=-0.1125, grad=0.0000), Var(v=-0.1227, grad=0.0000), Var(v=0.0024, grad=0.0000), Var(v=0.2360, grad=0.0000), Var(v=0.0507, grad=0.0000), Var(v=-0.1616, grad=0.0000), Var(v=0.1095, grad=0.0000), Var(v=0.0238, grad=0.0000), Var(v=0.0727, grad=0.0000), Var(v=0.0272, grad=0.0000), Var(v=0.0334, grad=0.0000), Var(v=0.0328, grad=0.0000), Var(v=0.0674, grad=0.0000), Var(v=-0.1821, grad=0.0000), Var(v=-0.0914, grad=0.0000), Var(v=-0.0259, grad=0.0000), Var(v=-0.0381, grad=0.0000), Var(v=-0.0192, grad=0.0000), Var(v=-0.0405, grad=0.0000), Var(v=-0.0447, grad=0.0000), Var(v=0.1672, grad=0.0000), Var(v=0.0166, grad=0.0000), Var(v=-0.0389, grad=0.0000), Var(v=-0.1236, grad=0.0000), Var(v=-0.0949, grad=0.0000), Var(v=0.1196, grad=0.0000), Var(v=0.1172, grad=0.0000), Var(v=0.0150, grad=0.0000), Var(v=0.0266, grad=0.0000), Var(v=-0.0218, grad=0.0000), Var(v=0.0649, grad=0.0000), Var(v=0.0297, grad=0.0000), Var(v=-0.0945, grad=0.0000), Var(v=0.0463, grad=0.0000), Var(v=0.0024, grad=0.0000), Var(v=-0.0129, grad=0.0000), Var(v=0.0242, grad=0.0000), Var(v=-0.0513, grad=0.0000), Var(v=-0.0466, grad=0.0000), Var(v=0.1712, grad=0.0000)], [Var(v=0.0505, grad=0.0000), Var(v=0.0337, grad=0.0000), Var(v=-0.1713, grad=0.0000), Var(v=-0.1302, grad=0.0000), Var(v=0.0450, grad=0.0000), Var(v=0.2056, grad=0.0000), Var(v=-0.0359, grad=0.0000), Var(v=-0.0077, grad=0.0000), Var(v=-0.0231, grad=0.0000), Var(v=0.2031, grad=0.0000), Var(v=-0.0352, grad=0.0000), Var(v=-0.2500, grad=0.0000), Var(v=0.0717, grad=0.0000), Var(v=0.0218, grad=0.0000), Var(v=0.0332, grad=0.0000), Var(v=0.0328, grad=0.0000), Var(v=0.0648, grad=0.0000), Var(v=0.0237, grad=0.0000), Var(v=-0.0528, grad=0.0000), Var(v=0.1520, grad=0.0000), Var(v=0.0649, grad=0.0000), Var(v=0.0724, grad=0.0000), Var(v=0.1304, grad=0.0000), Var(v=0.1045, grad=0.0000), Var(v=-0.0226, grad=0.0000), Var(v=-0.0462, grad=0.0000), Var(v=-0.0184, grad=0.0000), Var(v=0.1873, grad=0.0000), Var(v=-0.1164, grad=0.0000), Var(v=0.1087, grad=0.0000), Var(v=-0.1202, grad=0.0000), Var(v=-0.0010, grad=0.0000), Var(v=-0.0560, grad=0.0000), Var(v=-0.1841, grad=0.0000), Var(v=-0.0167, grad=0.0000), Var(v=0.0029, grad=0.0000), Var(v=0.0122, grad=0.0000), Var(v=-0.1873, grad=0.0000), Var(v=0.0984, grad=0.0000), Var(v=-0.1162, grad=0.0000), Var(v=0.0484, grad=0.0000), Var(v=0.0743, grad=0.0000), Var(v=-0.0967, grad=0.0000), Var(v=0.0267, grad=0.0000), Var(v=-0.0448, grad=0.0000), Var(v=-0.1320, grad=0.0000), Var(v=0.1063, grad=0.0000), Var(v=0.0079, grad=0.0000), Var(v=0.2564, grad=0.0000), Var(v=0.0053, grad=0.0000)], [Var(v=0.0510, grad=0.0000), Var(v=-0.0427, grad=0.0000), Var(v=-0.0843, grad=0.0000), Var(v=0.0618, grad=0.0000), Var(v=-0.0180, grad=0.0000), Var(v=0.1235, grad=0.0000), Var(v=-0.0498, grad=0.0000), Var(v=-0.0866, grad=0.0000), Var(v=-0.0042, grad=0.0000), Var(v=0.1625, grad=0.0000), Var(v=-0.0817, grad=0.0000), Var(v=0.0467, grad=0.0000), Var(v=-0.0980, grad=0.0000), Var(v=0.0898, grad=0.0000), Var(v=-0.0031, grad=0.0000), Var(v=-0.0925, grad=0.0000), Var(v=0.0611, grad=0.0000), Var(v=0.0521, grad=0.0000), Var(v=-0.1488, grad=0.0000), Var(v=-0.1066, grad=0.0000), Var(v=-0.0107, grad=0.0000), Var(v=0.0652, grad=0.0000), Var(v=0.2201, grad=0.0000), Var(v=0.0352, grad=0.0000), Var(v=-0.0208, grad=0.0000), Var(v=0.1973, grad=0.0000), Var(v=-0.0155, grad=0.0000), Var(v=0.0082, grad=0.0000), Var(v=-0.0542, grad=0.0000), Var(v=-0.0287, grad=0.0000), Var(v=-0.1783, grad=0.0000), Var(v=-0.1080, grad=0.0000), Var(v=-0.1141, grad=0.0000), Var(v=-0.1743, grad=0.0000), Var(v=-0.1165, grad=0.0000), Var(v=-0.0483, grad=0.0000), Var(v=-0.2984, grad=0.0000), Var(v=-0.0858, grad=0.0000), Var(v=0.0023, grad=0.0000), Var(v=0.0077, grad=0.0000), Var(v=-0.0582, grad=0.0000), Var(v=0.1041, grad=0.0000), Var(v=-0.0154, grad=0.0000), Var(v=-0.0458, grad=0.0000), Var(v=0.1238, grad=0.0000), Var(v=0.0529, grad=0.0000), Var(v=0.0037, grad=0.0000), Var(v=0.0105, grad=0.0000), Var(v=0.0286, grad=0.0000), Var(v=0.2700, grad=0.0000)], [Var(v=0.0020, grad=0.0000), Var(v=0.1506, grad=0.0000), Var(v=0.0624, grad=0.0000), Var(v=0.3295, grad=0.0000), Var(v=0.0404, grad=0.0000), Var(v=-0.0189, grad=0.0000), Var(v=-0.0112, grad=0.0000), Var(v=0.0206, grad=0.0000), Var(v=0.0663, grad=0.0000), Var(v=-0.0269, grad=0.0000), Var(v=-0.0242, grad=0.0000), Var(v=-0.0450, grad=0.0000), Var(v=0.1328, grad=0.0000), Var(v=-0.1113, grad=0.0000), Var(v=-0.1828, grad=0.0000), Var(v=-0.0775, grad=0.0000), Var(v=-0.1163, grad=0.0000), Var(v=-0.0282, grad=0.0000), Var(v=0.0634, grad=0.0000), Var(v=-0.0508, grad=0.0000), Var(v=0.0094, grad=0.0000), Var(v=0.0578, grad=0.0000), Var(v=-0.0591, grad=0.0000), Var(v=-0.0919, grad=0.0000), Var(v=0.2445, grad=0.0000), Var(v=-0.0608, grad=0.0000), Var(v=0.1251, grad=0.0000), Var(v=0.0581, grad=0.0000), Var(v=-0.0724, grad=0.0000), Var(v=0.2564, grad=0.0000), Var(v=0.1972, grad=0.0000), Var(v=0.1784, grad=0.0000), Var(v=-0.1836, grad=0.0000), Var(v=-0.0064, grad=0.0000), Var(v=0.0646, grad=0.0000), Var(v=0.0479, grad=0.0000), Var(v=-0.2286, grad=0.0000), Var(v=-0.2642, grad=0.0000), Var(v=0.0404, grad=0.0000), Var(v=-0.1186, grad=0.0000), Var(v=0.0329, grad=0.0000), Var(v=-0.0875, grad=0.0000), Var(v=-0.0814, grad=0.0000), Var(v=-0.0277, grad=0.0000), Var(v=0.0094, grad=0.0000), Var(v=0.1560, grad=0.0000), Var(v=-0.0882, grad=0.0000), Var(v=0.0323, grad=0.0000), Var(v=0.1494, grad=0.0000), Var(v=-0.0608, grad=0.0000)], [Var(v=0.2031, grad=0.0000), Var(v=-0.0427, grad=0.0000), Var(v=-0.0811, grad=0.0000), Var(v=-0.0301, grad=0.0000), Var(v=0.1182, grad=0.0000), Var(v=0.1598, grad=0.0000), Var(v=-0.0489, grad=0.0000), Var(v=0.0738, grad=0.0000), Var(v=-0.0360, grad=0.0000), Var(v=0.1560, grad=0.0000), Var(v=-0.0901, grad=0.0000), Var(v=0.0428, grad=0.0000), Var(v=-0.0338, grad=0.0000), Var(v=-0.0319, grad=0.0000), Var(v=0.1540, grad=0.0000), Var(v=-0.0355, grad=0.0000), Var(v=-0.0754, grad=0.0000), Var(v=-0.0461, grad=0.0000), Var(v=-0.0310, grad=0.0000), Var(v=-0.1424, grad=0.0000), Var(v=-0.0894, grad=0.0000), Var(v=-0.3303, grad=0.0000), Var(v=0.1234, grad=0.0000), Var(v=0.0807, grad=0.0000), Var(v=-0.0029, grad=0.0000), Var(v=0.0219, grad=0.0000), Var(v=0.0131, grad=0.0000), Var(v=-0.1438, grad=0.0000), Var(v=0.1841, grad=0.0000), Var(v=0.0049, grad=0.0000), Var(v=-0.0359, grad=0.0000), Var(v=0.0584, grad=0.0000), Var(v=0.0520, grad=0.0000), Var(v=-0.0262, grad=0.0000), Var(v=-0.0264, grad=0.0000), Var(v=0.0334, grad=0.0000), Var(v=-0.0035, grad=0.0000), Var(v=0.0484, grad=0.0000), Var(v=-0.1515, grad=0.0000), Var(v=0.0072, grad=0.0000), Var(v=-0.0974, grad=0.0000), Var(v=0.0023, grad=0.0000), Var(v=-0.0432, grad=0.0000), Var(v=-0.0749, grad=0.0000), Var(v=0.2040, grad=0.0000), Var(v=-0.0564, grad=0.0000), Var(v=-0.0945, grad=0.0000), Var(v=-0.1984, grad=0.0000), Var(v=0.1604, grad=0.0000), Var(v=-0.0204, grad=0.0000)], [Var(v=0.0101, grad=0.0000), Var(v=-0.0219, grad=0.0000), Var(v=0.0226, grad=0.0000), Var(v=0.1303, grad=0.0000), Var(v=-0.1823, grad=0.0000), Var(v=0.0083, grad=0.0000), Var(v=0.0771, grad=0.0000), Var(v=-0.0091, grad=0.0000), Var(v=0.0807, grad=0.0000), Var(v=-0.0918, grad=0.0000), Var(v=-0.1130, grad=0.0000), Var(v=-0.0339, grad=0.0000), Var(v=-0.0582, grad=0.0000), Var(v=0.1531, grad=0.0000), Var(v=0.0497, grad=0.0000), Var(v=-0.2077, grad=0.0000), Var(v=0.1173, grad=0.0000), Var(v=0.0726, grad=0.0000), Var(v=0.0082, grad=0.0000), Var(v=-0.1536, grad=0.0000), Var(v=0.0015, grad=0.0000), Var(v=0.1035, grad=0.0000), Var(v=-0.1098, grad=0.0000), Var(v=0.0472, grad=0.0000), Var(v=-0.0977, grad=0.0000), Var(v=-0.0362, grad=0.0000), Var(v=0.1015, grad=0.0000), Var(v=-0.0420, grad=0.0000), Var(v=-0.1596, grad=0.0000), Var(v=-0.0684, grad=0.0000), Var(v=0.0280, grad=0.0000), Var(v=-0.0593, grad=0.0000), Var(v=0.0773, grad=0.0000), Var(v=-0.0606, grad=0.0000), Var(v=-0.2193, grad=0.0000), Var(v=0.0561, grad=0.0000), Var(v=-0.0677, grad=0.0000), Var(v=-0.1437, grad=0.0000), Var(v=0.1601, grad=0.0000), Var(v=0.1166, grad=0.0000), Var(v=-0.0322, grad=0.0000), Var(v=-0.0367, grad=0.0000), Var(v=-0.1172, grad=0.0000), Var(v=-0.0338, grad=0.0000), Var(v=0.0089, grad=0.0000), Var(v=0.0350, grad=0.0000), Var(v=-0.1397, grad=0.0000), Var(v=-0.1089, grad=0.0000), Var(v=-0.0578, grad=0.0000), Var(v=0.1459, grad=0.0000)], [Var(v=-0.0826, grad=0.0000), Var(v=0.0884, grad=0.0000), Var(v=0.0563, grad=0.0000), Var(v=0.0493, grad=0.0000), Var(v=0.1336, grad=0.0000), Var(v=0.0727, grad=0.0000), Var(v=-0.0351, grad=0.0000), Var(v=-0.0717, grad=0.0000), Var(v=-0.0034, grad=0.0000), Var(v=0.0152, grad=0.0000), Var(v=-0.0990, grad=0.0000), Var(v=-0.0138, grad=0.0000), Var(v=-0.0700, grad=0.0000), Var(v=0.1884, grad=0.0000), Var(v=-0.0888, grad=0.0000), Var(v=0.0247, grad=0.0000), Var(v=-0.0187, grad=0.0000), Var(v=-0.0498, grad=0.0000), Var(v=0.1210, grad=0.0000), Var(v=0.0182, grad=0.0000), Var(v=-0.0821, grad=0.0000), Var(v=-0.1088, grad=0.0000), Var(v=-0.0854, grad=0.0000), Var(v=-0.0927, grad=0.0000), Var(v=0.0629, grad=0.0000), Var(v=0.1477, grad=0.0000), Var(v=0.0522, grad=0.0000), Var(v=-0.0158, grad=0.0000), Var(v=-0.1428, grad=0.0000), Var(v=0.0091, grad=0.0000), Var(v=0.0990, grad=0.0000), Var(v=-0.0570, grad=0.0000), Var(v=0.0450, grad=0.0000), Var(v=-0.0538, grad=0.0000), Var(v=0.1530, grad=0.0000), Var(v=0.0026, grad=0.0000), Var(v=-0.1090, grad=0.0000), Var(v=-0.0339, grad=0.0000), Var(v=0.0261, grad=0.0000), Var(v=-0.0530, grad=0.0000), Var(v=-0.0518, grad=0.0000), Var(v=-0.0273, grad=0.0000), Var(v=-0.0519, grad=0.0000), Var(v=0.0175, grad=0.0000), Var(v=0.0565, grad=0.0000), Var(v=0.1115, grad=0.0000), Var(v=-0.1204, grad=0.0000), Var(v=-0.1734, grad=0.0000), Var(v=-0.0398, grad=0.0000), Var(v=-0.1574, grad=0.0000)], [Var(v=-0.0882, grad=0.0000), Var(v=0.0503, grad=0.0000), Var(v=-0.0390, grad=0.0000), Var(v=0.0886, grad=0.0000), Var(v=-0.0226, grad=0.0000), Var(v=0.1218, grad=0.0000), Var(v=0.0288, grad=0.0000), Var(v=0.1126, grad=0.0000), Var(v=0.1517, grad=0.0000), Var(v=0.0422, grad=0.0000), Var(v=-0.0204, grad=0.0000), Var(v=0.0380, grad=0.0000), Var(v=-0.0233, grad=0.0000), Var(v=-0.1208, grad=0.0000), Var(v=-0.2072, grad=0.0000), Var(v=0.0032, grad=0.0000), Var(v=0.0004, grad=0.0000), Var(v=0.1208, grad=0.0000), Var(v=0.0046, grad=0.0000), Var(v=0.1746, grad=0.0000), Var(v=0.0224, grad=0.0000), Var(v=0.0130, grad=0.0000), Var(v=-0.0583, grad=0.0000), Var(v=-0.0795, grad=0.0000), Var(v=0.0727, grad=0.0000), Var(v=-0.0802, grad=0.0000), Var(v=0.0952, grad=0.0000), Var(v=0.0462, grad=0.0000), Var(v=0.0621, grad=0.0000), Var(v=-0.2448, grad=0.0000), Var(v=-0.0850, grad=0.0000), Var(v=-0.0725, grad=0.0000), Var(v=0.0616, grad=0.0000), Var(v=0.1611, grad=0.0000), Var(v=-0.1162, grad=0.0000), Var(v=-0.0645, grad=0.0000), Var(v=-0.1000, grad=0.0000), Var(v=-0.1351, grad=0.0000), Var(v=-0.0816, grad=0.0000), Var(v=-0.1275, grad=0.0000), Var(v=0.0452, grad=0.0000), Var(v=0.1094, grad=0.0000), Var(v=-0.0061, grad=0.0000), Var(v=0.0476, grad=0.0000), Var(v=-0.1997, grad=0.0000), Var(v=0.0967, grad=0.0000), Var(v=-0.0026, grad=0.0000), Var(v=-0.1589, grad=0.0000), Var(v=0.0202, grad=0.0000), Var(v=-0.1215, grad=0.0000)], [Var(v=-0.0761, grad=0.0000), Var(v=-0.0261, grad=0.0000), Var(v=-0.0041, grad=0.0000), Var(v=0.0708, grad=0.0000), Var(v=0.0315, grad=0.0000), Var(v=0.0661, grad=0.0000), Var(v=-0.1500, grad=0.0000), Var(v=-0.0057, grad=0.0000), Var(v=-0.0322, grad=0.0000), Var(v=-0.0275, grad=0.0000), Var(v=0.0083, grad=0.0000), Var(v=0.0573, grad=0.0000), Var(v=-0.1927, grad=0.0000), Var(v=0.0373, grad=0.0000), Var(v=-0.1381, grad=0.0000), Var(v=0.0828, grad=0.0000), Var(v=0.0016, grad=0.0000), Var(v=0.0287, grad=0.0000), Var(v=0.0016, grad=0.0000), Var(v=0.0050, grad=0.0000), Var(v=0.0361, grad=0.0000), Var(v=0.0293, grad=0.0000), Var(v=0.2638, grad=0.0000), Var(v=-0.1636, grad=0.0000), Var(v=0.0839, grad=0.0000), Var(v=-0.1634, grad=0.0000), Var(v=-0.1147, grad=0.0000), Var(v=0.0716, grad=0.0000), Var(v=0.1174, grad=0.0000), Var(v=0.0750, grad=0.0000), Var(v=0.0877, grad=0.0000), Var(v=0.1574, grad=0.0000), Var(v=-0.1487, grad=0.0000), Var(v=-0.1477, grad=0.0000), Var(v=-0.0079, grad=0.0000), Var(v=0.0111, grad=0.0000), Var(v=0.0152, grad=0.0000), Var(v=0.0945, grad=0.0000), Var(v=-0.0453, grad=0.0000), Var(v=0.0057, grad=0.0000), Var(v=0.0338, grad=0.0000), Var(v=0.0948, grad=0.0000), Var(v=-0.0743, grad=0.0000), Var(v=-0.0760, grad=0.0000), Var(v=0.0051, grad=0.0000), Var(v=-0.1420, grad=0.0000), Var(v=-0.1691, grad=0.0000), Var(v=0.1547, grad=0.0000), Var(v=0.0754, grad=0.0000), Var(v=-0.1894, grad=0.0000)], [Var(v=0.2378, grad=0.0000), Var(v=0.0310, grad=0.0000), Var(v=0.0267, grad=0.0000), Var(v=0.0525, grad=0.0000), Var(v=0.1935, grad=0.0000), Var(v=0.0167, grad=0.0000), Var(v=0.0647, grad=0.0000), Var(v=-0.0141, grad=0.0000), Var(v=-0.1627, grad=0.0000), Var(v=0.0301, grad=0.0000), Var(v=-0.1436, grad=0.0000), Var(v=0.0675, grad=0.0000), Var(v=-0.0326, grad=0.0000), Var(v=-0.0070, grad=0.0000), Var(v=0.0193, grad=0.0000), Var(v=-0.1136, grad=0.0000), Var(v=0.1304, grad=0.0000), Var(v=-0.1237, grad=0.0000), Var(v=-0.0411, grad=0.0000), Var(v=0.0395, grad=0.0000), Var(v=0.1617, grad=0.0000), Var(v=0.1235, grad=0.0000), Var(v=0.0118, grad=0.0000), Var(v=-0.0166, grad=0.0000), Var(v=0.0792, grad=0.0000), Var(v=0.0116, grad=0.0000), Var(v=0.1268, grad=0.0000), Var(v=-0.0967, grad=0.0000), Var(v=-0.0686, grad=0.0000), Var(v=-0.0099, grad=0.0000), Var(v=0.1329, grad=0.0000), Var(v=-0.0306, grad=0.0000), Var(v=0.0764, grad=0.0000), Var(v=-0.1273, grad=0.0000), Var(v=-0.1768, grad=0.0000), Var(v=0.0954, grad=0.0000), Var(v=-0.0774, grad=0.0000), Var(v=-0.0213, grad=0.0000), Var(v=-0.0533, grad=0.0000), Var(v=0.0931, grad=0.0000), Var(v=0.1158, grad=0.0000), Var(v=0.0961, grad=0.0000), Var(v=-0.0107, grad=0.0000), Var(v=-0.1298, grad=0.0000), Var(v=-0.0105, grad=0.0000), Var(v=0.0736, grad=0.0000), Var(v=-0.0106, grad=0.0000), Var(v=-0.0506, grad=0.0000), Var(v=-0.0733, grad=0.0000), Var(v=0.0131, grad=0.0000)], [Var(v=-0.0390, grad=0.0000), Var(v=0.0201, grad=0.0000), Var(v=-0.0310, grad=0.0000), Var(v=0.0356, grad=0.0000), Var(v=-0.1058, grad=0.0000), Var(v=-0.1320, grad=0.0000), Var(v=-0.0515, grad=0.0000), Var(v=0.0009, grad=0.0000), Var(v=0.0047, grad=0.0000), Var(v=-0.0576, grad=0.0000), Var(v=0.0379, grad=0.0000), Var(v=-0.0017, grad=0.0000), Var(v=0.1747, grad=0.0000), Var(v=0.1969, grad=0.0000), Var(v=-0.1498, grad=0.0000), Var(v=0.0446, grad=0.0000), Var(v=-0.0499, grad=0.0000), Var(v=-0.0499, grad=0.0000), Var(v=0.0435, grad=0.0000), Var(v=-0.0347, grad=0.0000), Var(v=-0.1104, grad=0.0000), Var(v=0.1370, grad=0.0000), Var(v=0.0023, grad=0.0000), Var(v=-0.0574, grad=0.0000), Var(v=-0.0685, grad=0.0000), Var(v=-0.0739, grad=0.0000), Var(v=-0.0247, grad=0.0000), Var(v=-0.1539, grad=0.0000), Var(v=-0.0131, grad=0.0000), Var(v=-0.0013, grad=0.0000), Var(v=0.0467, grad=0.0000), Var(v=0.0415, grad=0.0000), Var(v=-0.0291, grad=0.0000), Var(v=-0.1041, grad=0.0000), Var(v=0.1319, grad=0.0000), Var(v=0.0245, grad=0.0000), Var(v=0.0422, grad=0.0000), Var(v=0.0677, grad=0.0000), Var(v=0.1430, grad=0.0000), Var(v=-0.0044, grad=0.0000), Var(v=-0.0251, grad=0.0000), Var(v=-0.1047, grad=0.0000), Var(v=0.0178, grad=0.0000), Var(v=-0.1484, grad=0.0000), Var(v=0.1770, grad=0.0000), Var(v=0.2139, grad=0.0000), Var(v=-0.1048, grad=0.0000), Var(v=0.1196, grad=0.0000), Var(v=-0.0508, grad=0.0000), Var(v=-0.1633, grad=0.0000)], [Var(v=0.0533, grad=0.0000), Var(v=0.1369, grad=0.0000), Var(v=-0.0123, grad=0.0000), Var(v=-0.2318, grad=0.0000), Var(v=0.1072, grad=0.0000), Var(v=-0.1394, grad=0.0000), Var(v=-0.0086, grad=0.0000), Var(v=0.0750, grad=0.0000), Var(v=0.0739, grad=0.0000), Var(v=0.0424, grad=0.0000), Var(v=0.1763, grad=0.0000), Var(v=0.1451, grad=0.0000), Var(v=-0.0429, grad=0.0000), Var(v=-0.0784, grad=0.0000), Var(v=-0.0869, grad=0.0000), Var(v=-0.0127, grad=0.0000), Var(v=-0.0415, grad=0.0000), Var(v=-0.0385, grad=0.0000), Var(v=0.0526, grad=0.0000), Var(v=-0.0011, grad=0.0000), Var(v=0.1036, grad=0.0000), Var(v=0.0571, grad=0.0000), Var(v=-0.0062, grad=0.0000), Var(v=0.0558, grad=0.0000), Var(v=0.1225, grad=0.0000), Var(v=-0.1810, grad=0.0000), Var(v=0.0885, grad=0.0000), Var(v=0.1381, grad=0.0000), Var(v=-0.0467, grad=0.0000), Var(v=-0.0088, grad=0.0000), Var(v=0.1088, grad=0.0000), Var(v=0.0057, grad=0.0000), Var(v=-0.0625, grad=0.0000), Var(v=0.0989, grad=0.0000), Var(v=-0.1283, grad=0.0000), Var(v=-0.1168, grad=0.0000), Var(v=-0.1067, grad=0.0000), Var(v=0.0813, grad=0.0000), Var(v=-0.0082, grad=0.0000), Var(v=-0.0161, grad=0.0000), Var(v=0.0303, grad=0.0000), Var(v=-0.0203, grad=0.0000), Var(v=-0.0476, grad=0.0000), Var(v=0.1400, grad=0.0000), Var(v=-0.0313, grad=0.0000), Var(v=-0.1721, grad=0.0000), Var(v=0.0990, grad=0.0000), Var(v=-0.0723, grad=0.0000), Var(v=-0.0427, grad=0.0000), Var(v=0.0443, grad=0.0000)]] Biases: [Var(v=0.0000, grad=0.0000), Var(v=0.0000, grad=0.0000), Var(v=0.0000, grad=0.0000), Var(v=0.0000, grad=0.0000), Var(v=0.0000, grad=0.0000), Var(v=0.0000, grad=0.0000), Var(v=0.0000, grad=0.0000), Var(v=0.0000, grad=0.0000), Var(v=0.0000, grad=0.0000), Var(v=0.0000, grad=0.0000), Var(v=0.0000, grad=0.0000), Var(v=0.0000, grad=0.0000), Var(v=0.0000, grad=0.0000), Var(v=0.0000, grad=0.0000), Var(v=0.0000, grad=0.0000), Var(v=0.0000, grad=0.0000), Var(v=0.0000, grad=0.0000), Var(v=0.0000, grad=0.0000), Var(v=0.0000, grad=0.0000), Var(v=0.0000, grad=0.0000), Var(v=0.0000, grad=0.0000), Var(v=0.0000, grad=0.0000), Var(v=0.0000, grad=0.0000), Var(v=0.0000, grad=0.0000), Var(v=0.0000, grad=0.0000), Var(v=0.0000, grad=0.0000), Var(v=0.0000, grad=0.0000), Var(v=0.0000, grad=0.0000), Var(v=0.0000, grad=0.0000), Var(v=0.0000, grad=0.0000), Var(v=0.0000, grad=0.0000), Var(v=0.0000, grad=0.0000), Var(v=0.0000, grad=0.0000), Var(v=0.0000, grad=0.0000), Var(v=0.0000, grad=0.0000), Var(v=0.0000, grad=0.0000), Var(v=0.0000, grad=0.0000), Var(v=0.0000, grad=0.0000), Var(v=0.0000, grad=0.0000), Var(v=0.0000, grad=0.0000), Var(v=0.0000, grad=0.0000), Var(v=0.0000, grad=0.0000), Var(v=0.0000, grad=0.0000), Var(v=0.0000, grad=0.0000), Var(v=0.0000, grad=0.0000), Var(v=0.0000, grad=0.0000), Var(v=0.0000, grad=0.0000), Var(v=0.0000, grad=0.0000), Var(v=0.0000, grad=0.0000), Var(v=0.0000, grad=0.0000)]\n",
      "Layer 2 \n",
      " Weights: [[Var(v=-0.0794, grad=0.0000)], [Var(v=0.0253, grad=0.0000)], [Var(v=-0.0722, grad=0.0000)], [Var(v=0.1816, grad=0.0000)], [Var(v=0.1316, grad=0.0000)], [Var(v=-0.0214, grad=0.0000)], [Var(v=-0.1746, grad=0.0000)], [Var(v=-0.1353, grad=0.0000)], [Var(v=0.1807, grad=0.0000)], [Var(v=0.1241, grad=0.0000)], [Var(v=-0.0639, grad=0.0000)], [Var(v=-0.1229, grad=0.0000)], [Var(v=0.1945, grad=0.0000)], [Var(v=-0.1272, grad=0.0000)], [Var(v=-0.0152, grad=0.0000)], [Var(v=-0.1131, grad=0.0000)], [Var(v=-0.0693, grad=0.0000)], [Var(v=0.0971, grad=0.0000)], [Var(v=-0.1056, grad=0.0000)], [Var(v=0.0833, grad=0.0000)], [Var(v=-0.0043, grad=0.0000)], [Var(v=-0.3397, grad=0.0000)], [Var(v=-0.2937, grad=0.0000)], [Var(v=-0.1010, grad=0.0000)], [Var(v=0.1563, grad=0.0000)], [Var(v=-0.1121, grad=0.0000)], [Var(v=-0.0080, grad=0.0000)], [Var(v=0.0952, grad=0.0000)], [Var(v=0.0124, grad=0.0000)], [Var(v=-0.0051, grad=0.0000)], [Var(v=0.0112, grad=0.0000)], [Var(v=0.2185, grad=0.0000)], [Var(v=0.0467, grad=0.0000)], [Var(v=0.1164, grad=0.0000)], [Var(v=-0.1752, grad=0.0000)], [Var(v=0.0198, grad=0.0000)], [Var(v=-0.0835, grad=0.0000)], [Var(v=-0.2303, grad=0.0000)], [Var(v=-0.0333, grad=0.0000)], [Var(v=0.0743, grad=0.0000)], [Var(v=-0.1107, grad=0.0000)], [Var(v=-0.0733, grad=0.0000)], [Var(v=0.1099, grad=0.0000)], [Var(v=0.0753, grad=0.0000)], [Var(v=-0.1338, grad=0.0000)], [Var(v=0.1024, grad=0.0000)], [Var(v=-0.0542, grad=0.0000)], [Var(v=-0.0405, grad=0.0000)], [Var(v=0.0481, grad=0.0000)], [Var(v=-0.0594, grad=0.0000)]] Biases: [Var(v=0.0000, grad=0.0000)]\n"
     ]
    },
    {
     "data": {
      "text/plain": [
       "[None, None, None]"
      ]
     },
     "execution_count": 102,
     "metadata": {},
     "output_type": "execute_result"
    }
   ],
   "source": [
    "print('Network before update:')\n",
    "[print('Layer', i, '\\n', NN[i]) for i in range(len(NN))] \n",
    "\n",
    "def parameters(network):\n",
    "  params = []\n",
    "  for layer in range(len(network)):\n",
    "    params += network[layer].parameters()\n",
    "  return params\n",
    "\n",
    "def update_parameters(params, learning_rate=0.01):\n",
    "  for p in params:\n",
    "    p.v -= learning_rate*p.grad\n",
    "\n",
    "def zero_gradients(params):\n",
    "  for p in params:\n",
    "    p.grad = 0.0\n",
    "\n",
    "update_parameters(parameters(NN))\n",
    "\n",
    "print('\\nNetwork after update:')\n",
    "[print('Layer', i, '\\n', NN[i]) for i in range(len(NN))] \n",
    "\n",
    "zero_gradients(parameters(NN))\n",
    "\n",
    "print('\\nNetwork after zeroing gradients:')\n",
    "[print('Layer', i, '\\n', NN[i]) for i in range(len(NN))] "
   ]
  },
  {
   "cell_type": "code",
   "execution_count": 103,
   "metadata": {
    "id": "woWYpdw6FtIO"
   },
   "outputs": [],
   "source": [
    "# Initialize an arbitrary neural network\n",
    "NN = [\n",
    "    DenseLayer(1, 8, lambda x: x.relu()),\n",
    "    DenseLayer(8, 1, lambda x: x.identity())\n",
    "]\n",
    "\n",
    "# Recommended hyper-parameters for 3-D: \n",
    "#NN = [\n",
    "#    DenseLayer(3, 16, lambda x: x.relu()),\n",
    "#    DenseLayer(16, 1, lambda x: x.identity())\n",
    "#]\n",
    "\n",
    "\n",
    "### Notice that, when we switch from tanh to relu activation, we decrease the learning rate. This is due the stability of the gradients \n",
    "## of the activation functions."
   ]
  },
  {
   "cell_type": "code",
   "execution_count": 104,
   "metadata": {
    "id": "mdqaqYBVFtIR"
   },
   "outputs": [],
   "source": [
    "# Initialize training hyperparameters\n",
    "EPOCHS = 200\n",
    "LEARN_R = 2e-3 "
   ]
  },
  {
   "cell_type": "code",
   "execution_count": 105,
   "metadata": {
    "colab": {
     "base_uri": "https://localhost:8080/"
    },
    "id": "5kfg76GMFtIW",
    "outputId": "e30cf68a-31f2-42b4-cc5e-860c297c0f04",
    "scrolled": true
   },
   "outputs": [
    {
     "name": "stdout",
     "output_type": "stream",
     "text": [
      "   0 ( 0.00%) Train loss: 106.388 \t Validation loss: 106.965\n",
      "  10 ( 5.00%) Train loss: 49.413 \t Validation loss: 43.008\n",
      "  20 (10.00%) Train loss: 12.039 \t Validation loss: 9.051\n",
      "  30 (15.00%) Train loss: 12.001 \t Validation loss: 8.938\n",
      "  40 (20.00%) Train loss: 12.001 \t Validation loss: 8.938\n",
      "  50 (25.00%) Train loss: 12.001 \t Validation loss: 8.938\n",
      "  60 (30.00%) Train loss: 12.001 \t Validation loss: 8.938\n",
      "  70 (35.00%) Train loss: 12.001 \t Validation loss: 8.938\n",
      "  80 (40.00%) Train loss: 12.001 \t Validation loss: 8.938\n",
      "  90 (45.00%) Train loss: 12.001 \t Validation loss: 8.938\n",
      " 100 (50.00%) Train loss: 12.001 \t Validation loss: 8.938\n",
      " 110 (55.00%) Train loss: 12.001 \t Validation loss: 8.938\n",
      " 120 (60.00%) Train loss: 12.001 \t Validation loss: 8.938\n",
      " 130 (65.00%) Train loss: 12.001 \t Validation loss: 8.938\n",
      " 140 (70.00%) Train loss: 12.001 \t Validation loss: 8.938\n",
      " 150 (75.00%) Train loss: 12.001 \t Validation loss: 8.938\n",
      " 160 (80.00%) Train loss: 12.001 \t Validation loss: 8.938\n",
      " 170 (85.00%) Train loss: 12.001 \t Validation loss: 8.938\n",
      " 180 (90.00%) Train loss: 12.001 \t Validation loss: 8.938\n",
      " 190 (95.00%) Train loss: 12.001 \t Validation loss: 8.938\n"
     ]
    }
   ],
   "source": [
    "train_loss = []\n",
    "val_loss = []\n",
    "\n",
    "for e in range(EPOCHS):\n",
    "     \n",
    "    # Forward pass and loss computation\n",
    "    Loss = squared_loss(y_train, forward(x_train, NN))\n",
    "\n",
    "    # Backward pass\n",
    "    Loss.backward()\n",
    "    \n",
    "    # gradient descent update\n",
    "    update_parameters(parameters(NN), LEARN_R)\n",
    "    zero_gradients(parameters(NN))\n",
    "    \n",
    "    # Training loss\n",
    "    train_loss.append(Loss.v)\n",
    "    \n",
    "    # Validation\n",
    "    Loss_validation = squared_loss(y_validation, forward(x_validation, NN))\n",
    "    val_loss.append(Loss_validation.v)\n",
    "    \n",
    "    if e%10==0:\n",
    "        print(\"{:4d}\".format(e),\n",
    "              \"({:5.2f}%)\".format(e/EPOCHS*100), \n",
    "              \"Train loss: {:4.3f} \\t Validation loss: {:4.3f}\".format(train_loss[-1], val_loss[-1]))\n",
    "        \n"
   ]
  },
  {
   "cell_type": "code",
   "execution_count": 106,
   "metadata": {
    "colab": {
     "base_uri": "https://localhost:8080/",
     "height": 265
    },
    "id": "VetyRWFwFtIY",
    "outputId": "344e490d-6d7d-455a-fa6f-88dd11eb957e"
   },
   "outputs": [
    {
     "data": {
      "image/png": "[encoded data removed]",
      "text/plain": [
       "<Figure size 640x480 with 1 Axes>"
      ]
     },
     "metadata": {},
     "output_type": "display_data"
    }
   ],
   "source": [
    "plt.plot(range(len(train_loss)), train_loss);\n",
    "plt.plot(range(len(val_loss)), val_loss);"
   ]
  },
  {
   "cell_type": "markdown",
   "metadata": {
    "id": "8OgmIrM9FtIb"
   },
   "source": [
    "# Testing\n",
    "\n",
    "We have kept the calculation of the test error separate in order to emphasize that you should not use the test set in optimization."
   ]
  },
  {
   "cell_type": "code",
   "execution_count": 107,
   "metadata": {
    "id": "HmNi7S-vFtIc"
   },
   "outputs": [],
   "source": [
    "output_test = forward(x_test, NN)"
   ]
  },
  {
   "cell_type": "code",
   "execution_count": 108,
   "metadata": {
    "colab": {
     "base_uri": "https://localhost:8080/",
     "height": 316
    },
    "id": "7mmJOTSEFtIf",
    "outputId": "e3264095-cefe-4aee-893d-bf152438e332"
   },
   "outputs": [
    {
     "name": "stdout",
     "output_type": "stream",
     "text": [
      "Test loss:  9.305\n"
     ]
    },
    {
     "data": {
      "image/png": "[encoded data removed]",
      "text/plain": [
       "<Figure size 640x480 with 1 Axes>"
      ]
     },
     "metadata": {},
     "output_type": "display_data"
    }
   ],
   "source": [
    "y_test_np = Var_to_nparray(y_test)\n",
    "plt.scatter(y_test_np, Var_to_nparray(output_test));\n",
    "plt.plot([np.min(y_test_np), np.max(y_test_np)], [np.min(y_test_np), np.max(y_test_np)], color='k');\n",
    "plt.xlabel(\"y\");\n",
    "plt.ylabel(\"$\\hat{y}$\");\n",
    "plt.title(\"Model prediction vs real in the test set, the close to the line the better\")\n",
    "plt.grid(True);\n",
    "plt.axis('equal');\n",
    "plt.tight_layout();\n",
    "\n",
    "Loss_test = squared_loss(y_test, forward(x_test, NN))\n",
    "\n",
    "print(\"Test loss:  {:4.3f}\".format(Loss_test.v))"
   ]
  },
  {
   "cell_type": "code",
   "execution_count": 109,
   "metadata": {
    "colab": {
     "base_uri": "https://localhost:8080/",
     "height": 279
    },
    "id": "ODi0WlmQFtIh",
    "outputId": "d1ab874f-0717-4987-87bf-1f0c7c8e7148"
   },
   "outputs": [
    {
     "data": {
      "image/png": "[encoded data removed]",
      "text/plain": [
       "<Figure size 640x480 with 1 Axes>"
      ]
     },
     "metadata": {},
     "output_type": "display_data"
    }
   ],
   "source": [
    "x_test_np = Var_to_nparray(x_test)\n",
    "x_train_np = Var_to_nparray(x_train)\n",
    "y_train_np = Var_to_nparray(y_train)\n",
    "if D1:\n",
    "    plt.scatter(x_train_np, y_train_np, label=\"train data\");\n",
    "    plt.scatter(x_test_np, Var_to_nparray(output_test), label=\"test prediction\");\n",
    "    plt.scatter(x_test_np, y_test_np, label=\"test data\");\n",
    "    plt.legend();\n",
    "    plt.xlabel(\"x\");\n",
    "    plt.ylabel(\"y\");\n",
    "else:\n",
    "    plt.scatter(x_train_np[:,1], y_train, label=\"train data\");\n",
    "    plt.scatter(x_test_np[:,1], Var_to_nparray(output_test), label=\"test data prediction\");\n",
    "    plt.scatter(x_test_np[:,1], y_test_np, label=\"test data\");\n",
    "    plt.legend();\n",
    "    plt.xlabel(\"x\");\n",
    "    plt.ylabel(\"y\");"
   ]
  },
  {
   "cell_type": "markdown",
   "metadata": {
    "id": "zTBAmjsAFtIk"
   },
   "source": [
    "## Exercise l) Show overfitting, underfitting and just right fitting\n",
    "\n",
    "Vary the architecture and other things to show clear signs of overfitting (=training loss significantly lower than test loss) and underfitting (=not fitting enoung to training data so that test performance is also hurt).\n",
    "\n",
    "See also if you can get a good compromise which leads to a low validation loss. \n",
    "\n",
    "For this problem do you see any big difference between validation and test loss? The answer here will probably be no. Discuss cases where it is important to keep the two separate.\n",
    "\n",
    "_Insert written answer here._\n"
   ]
  },
  {
   "cell_type": "markdown",
   "metadata": {},
   "source": [
    "- For underfitting, train a (too) simple model, i.e. for example no regularization techniques such as L1/L2 or dropout & low number of layers/units per layer.\n",
    "Result: Train and val loss are high (so is test loss).\n",
    "- For overfitting, train a (too) complex model, i.e. for example high number of layers/units per layer.\n",
    "Result: Train and val loss is significantly lower than test loss.\n",
    "- For good-fitting, train a well-tuned model.\n",
    "Result: Train, val and test lsos are low."
   ]
  },
  {
   "cell_type": "markdown",
   "metadata": {
    "id": "fYPZP-eTFtIo"
   },
   "source": [
    "# Next steps - classification\n",
    "\n",
    "It is straight forward to extend what we have done to classification. \n",
    "\n",
    "For numerical stability it is better to make softmax and cross-entropy as one function so we write the cross entropy loss as a function of the logits we talked about last week. \n",
    "\n",
    "Next week we will see how to perform classification in PyTorch."
   ]
  },
  {
   "cell_type": "markdown",
   "metadata": {
    "id": "qsVPul3QFtIo"
   },
   "source": [
    "## Exercise m) optional - Implement backpropagation for classification\n",
    "\n",
    "Should be possible with very few lines of code. :-)"
   ]
  },
  {
   "cell_type": "code",
   "execution_count": null,
   "metadata": {
    "id": "oC8QrI2tFtIp"
   },
   "outputs": [],
   "source": [
    "# Just add code."
   ]
  },
  {
   "cell_type": "markdown",
   "metadata": {
    "id": "APqhJv3tta1O"
   },
   "source": [
    "## Exercise n) optional - Introduce a NeuralNetwork class\n",
    "\n",
    "The functions we applied on the neural network (parameters, update_parameters and zero_gradients) can more naturally be included as methods in a NeuralNetwork class. Make such a class and modify the code to use it. "
   ]
  },
  {
   "cell_type": "code",
   "execution_count": null,
   "metadata": {
    "id": "Dqfnor1ouMLq"
   },
   "outputs": [],
   "source": [
    "# just add some code"
   ]
  }
 ],
 "metadata": {
  "anaconda-cloud": {},
  "colab": {
   "collapsed_sections": [
    "U4057_ljNvWB",
    "p_8n_SKnIW2F",
    "oLrGJytZFtGm",
    "jpIZPBpNI0pO",
    "_79HOAXrFtHK",
    "mqeyab9qFtGs",
    "-XyXBD37FtHk",
    "SrwSJ2UWFtHu",
    "zTBAmjsAFtIk",
    "qsVPul3QFtIo",
    "APqhJv3tta1O"
   ],
   "name": "2.1-EXE-FNN-AutoDif-Nanograd.ipynb",
   "provenance": []
  },
  "kernelspec": {
   "display_name": "Python 3",
   "language": "python",
   "name": "python3"
  },
  "language_info": {
   "codemirror_mode": {
    "name": "ipython",
    "version": 3
   },
   "file_extension": ".py",
   "mimetype": "text/x-python",
   "name": "python",
   "nbconvert_exporter": "python",
   "pygments_lexer": "ipython3",
   "version": "3.11.9"
  }
 },
 "nbformat": 4,
 "nbformat_minor": 1
}
